{
 "cells": [
  {
   "cell_type": "code",
   "execution_count": 1,
   "metadata": {},
   "outputs": [],
   "source": [
    "import numpy as np\n",
    "from IPython.display import display"
   ]
  },
  {
   "cell_type": "markdown",
   "metadata": {},
   "source": [
    "# Creating a NumPy Array"
   ]
  },
  {
   "cell_type": "code",
   "execution_count": 2,
   "metadata": {},
   "outputs": [
    {
     "name": "stdout",
     "output_type": "stream",
     "text": [
      "vector\n",
      "type : <class 'numpy.ndarray'> , shape : (5,) \n"
     ]
    }
   ],
   "source": [
    "# we can create a numpy array (matrix and vectors) using array method\n",
    "x = [2, 3, 4, 5, 6]  \n",
    "np_array_vect = np.array([2, 3, 4, 5, 6]) # row vector of five elements\n",
    "print(\"vector\")\n",
    "print(\"type : {} , shape : {} \".format(type(np_array_vect),np_array_vect.shape))"
   ]
  },
  {
   "cell_type": "code",
   "execution_count": 3,
   "metadata": {},
   "outputs": [
    {
     "name": "stdout",
     "output_type": "stream",
     "text": [
      "Shape  (3, 2) size  6\n"
     ]
    },
    {
     "data": {
      "text/plain": [
       "array([[ 2.,  4.],\n",
       "       [ 8., 10.],\n",
       "       [14., 16.]])"
      ]
     },
     "execution_count": 3,
     "metadata": {},
     "output_type": "execute_result"
    }
   ],
   "source": [
    "# creating a matrix\n",
    "matrix = np.array([[2,4], [8,10], [14,16]],dtype=np.float)\n",
    "print(\"Shape \",matrix.shape,\"size \",matrix.size) # matrix shape (rows , columns)\n",
    "matrix"
   ]
  },
  {
   "cell_type": "code",
   "execution_count": 4,
   "metadata": {},
   "outputs": [
    {
     "data": {
      "text/plain": [
       "'zeros_vect'"
      ]
     },
     "metadata": {},
     "output_type": "display_data"
    },
    {
     "data": {
      "text/plain": [
       "array([0., 0., 0., 0., 0., 0., 0.])"
      ]
     },
     "metadata": {},
     "output_type": "display_data"
    },
    {
     "data": {
      "text/plain": [
       "'zeros_matrix'"
      ]
     },
     "metadata": {},
     "output_type": "display_data"
    },
    {
     "data": {
      "text/plain": [
       "array([[0., 0., 0., 0.],\n",
       "       [0., 0., 0., 0.],\n",
       "       [0., 0., 0., 0.],\n",
       "       [0., 0., 0., 0.],\n",
       "       [0., 0., 0., 0.]])"
      ]
     },
     "metadata": {},
     "output_type": "display_data"
    }
   ],
   "source": [
    "# creating matrix using zeros method\n",
    "zeros_vect = np.zeros(7) # vector of 7 zeros\n",
    "display('zeros_vect',zeros_vect)\n",
    "zeros_matrix = np.zeros((5,4)) # 5 by 4 matrix of zeros\n",
    "display('zeros_matrix')\n",
    "display(zeros_matrix)"
   ]
  },
  {
   "cell_type": "code",
   "execution_count": 5,
   "metadata": {},
   "outputs": [
    {
     "name": "stdout",
     "output_type": "stream",
     "text": [
      "ones_vect\n"
     ]
    },
    {
     "data": {
      "text/plain": [
       "array([1., 1., 1., 1., 1., 1., 1., 1.])"
      ]
     },
     "metadata": {},
     "output_type": "display_data"
    },
    {
     "name": "stdout",
     "output_type": "stream",
     "text": [
      "ones_matrix\n"
     ]
    },
    {
     "data": {
      "text/plain": [
       "array([[1., 1., 1., 1., 1., 1., 1., 1.],\n",
       "       [1., 1., 1., 1., 1., 1., 1., 1.],\n",
       "       [1., 1., 1., 1., 1., 1., 1., 1.],\n",
       "       [1., 1., 1., 1., 1., 1., 1., 1.],\n",
       "       [1., 1., 1., 1., 1., 1., 1., 1.],\n",
       "       [1., 1., 1., 1., 1., 1., 1., 1.],\n",
       "       [1., 1., 1., 1., 1., 1., 1., 1.],\n",
       "       [1., 1., 1., 1., 1., 1., 1., 1.]])"
      ]
     },
     "metadata": {},
     "output_type": "display_data"
    }
   ],
   "source": [
    "# creating matrix using ones method\n",
    "zeros_vect = np.ones(8) # vector of 7 ones\n",
    "print(\"ones_vect\")\n",
    "display(zeros_vect)\n",
    "zeros_matrix = np.ones((8,8))\n",
    "print(\"ones_matrix\")\n",
    "display(zeros_matrix)"
   ]
  },
  {
   "cell_type": "code",
   "execution_count": 6,
   "metadata": {},
   "outputs": [
    {
     "name": "stdout",
     "output_type": "stream",
     "text": [
      "random matrix uniform distributed\n"
     ]
    },
    {
     "data": {
      "text/plain": [
       "array([[0.65631346, 0.2809524 , 0.07442725],\n",
       "       [0.96360347, 0.94893609, 0.13276352]])"
      ]
     },
     "metadata": {},
     "output_type": "display_data"
    },
    {
     "name": "stdout",
     "output_type": "stream",
     "text": [
      "random matrix normally distributed\n"
     ]
    },
    {
     "data": {
      "text/plain": [
       "array([[-0.05808127,  0.06238891,  1.72595006],\n",
       "       [-0.50344779,  0.37921226, -0.5480859 ]])"
      ]
     },
     "metadata": {},
     "output_type": "display_data"
    }
   ],
   "source": [
    "# using rand method\n",
    "randomuni = np.random.rand(2, 3) # generates 2 by 3 matrix uniformly distributed \n",
    "print(\"random matrix uniform distributed\")\n",
    "display(randomuni)\n",
    "# uniform ditribution : http://mathworld.wolfram.com/UniformDistribution.html\n",
    "randomnorm = np.random.randn(2, 3)\n",
    "# normal ditribution : http://mathworld.wolfram.com/NormalDistribution.html\n",
    "print(\"random matrix normally distributed\")\n",
    "display(randomnorm)"
   ]
  },
  {
   "cell_type": "code",
   "execution_count": 7,
   "metadata": {},
   "outputs": [
    {
     "name": "stdout",
     "output_type": "stream",
     "text": [
      "random matrix of integers\n"
     ]
    },
    {
     "data": {
      "text/plain": [
       "array([[ 8,  6, 10,  6],\n",
       "       [19, 10, 12,  6],\n",
       "       [ 8,  8, 12, 16],\n",
       "       [15,  6,  8, 15],\n",
       "       [18, 12, 16,  9]])"
      ]
     },
     "metadata": {},
     "output_type": "display_data"
    }
   ],
   "source": [
    "# create matrix of random ints in specefic range \n",
    "# check : https://docs.scipy.org/doc/numpy/reference/generated/numpy.random.randint.html#numpy.random.randint\n",
    "randomint = np.random.randint(low=5,high=20,size=(5,4))\n",
    "#randomint = np.random.randint(low=5,high=20,size=(5,4)).astype('float')\n",
    "print(\"random matrix of integers\")\n",
    "display(randomint)"
   ]
  },
  {
   "cell_type": "markdown",
   "metadata": {},
   "source": [
    "# Array reshaping"
   ]
  },
  {
   "cell_type": "code",
   "execution_count": 8,
   "metadata": {},
   "outputs": [
    {
     "name": "stdout",
     "output_type": "stream",
     "text": [
      "nums\n"
     ]
    },
    {
     "data": {
      "text/plain": [
       "array([ 1,  2,  3,  4,  5,  6,  7,  8,  9, 10, 11, 12, 13, 14, 15, 16])"
      ]
     },
     "metadata": {},
     "output_type": "display_data"
    },
    {
     "name": "stdout",
     "output_type": "stream",
     "text": [
      "nums reshaped intp 4 by 4 matrix\n"
     ]
    },
    {
     "data": {
      "text/plain": [
       "array([[ 1,  2,  3,  4],\n",
       "       [ 5,  6,  7,  8],\n",
       "       [ 9, 10, 11, 12],\n",
       "       [13, 14, 15, 16]])"
      ]
     },
     "metadata": {},
     "output_type": "display_data"
    },
    {
     "name": "stdout",
     "output_type": "stream",
     "text": [
      "two_d\n"
     ]
    },
    {
     "data": {
      "text/plain": [
       "array([[2, 3, 4],\n",
       "       [5, 6, 7]])"
      ]
     },
     "metadata": {},
     "output_type": "display_data"
    },
    {
     "name": "stdout",
     "output_type": "stream",
     "text": [
      "two_d converted into flat\n"
     ]
    },
    {
     "data": {
      "text/plain": [
       "array([[2, 3, 4, 5, 6, 7]])"
      ]
     },
     "metadata": {},
     "output_type": "display_data"
    },
    {
     "name": "stdout",
     "output_type": "stream",
     "text": [
      "two_d shape : (2, 3) flat shape : (1, 6)\n"
     ]
    }
   ],
   "source": [
    "# Reshape 1D to 2D Array\n",
    "nums = np.arange(1, 17)\n",
    "print('nums')\n",
    "display(nums)\n",
    "nums2 = nums.reshape(4, 4)\n",
    "print('nums reshaped intp 4 by 4 matrix')\n",
    "display(nums2)\n",
    "# from 2D to 1D (flatten a matrix)\n",
    "two_d = np.array([[2,3,4], [5,6,7]])\n",
    "print('two_d')\n",
    "display(two_d)\n",
    "flat=two_d.reshape(1,-1)\n",
    "print('two_d converted into flat')\n",
    "display(flat)\n",
    "print(\"two_d shape : {} flat shape : {}\".format(two_d.shape,flat.shape))\n",
    "\n",
    "# more examples : https://www.w3resource.com/numpy/manipulation/reshape.php"
   ]
  },
  {
   "cell_type": "markdown",
   "metadata": {},
   "source": [
    "# numpy array operations"
   ]
  },
  {
   "cell_type": "code",
   "execution_count": 9,
   "metadata": {},
   "outputs": [
    {
     "name": "stdout",
     "output_type": "stream",
     "text": [
      "average :  2096.0\n",
      "sum :  10480\n",
      "min :  233\n",
      "max :  4352\n",
      "position of min value  1\n",
      "position of max value  0\n",
      "twod - 10\n"
     ]
    },
    {
     "data": {
      "text/plain": [
       "array([[ 0, -8, -7],\n",
       "       [30, -5, -4],\n",
       "       [-3, 70, -1]])"
      ]
     },
     "metadata": {},
     "output_type": "display_data"
    },
    {
     "name": "stdout",
     "output_type": "stream",
     "text": [
      "twod * 5\n"
     ]
    },
    {
     "data": {
      "text/plain": [
       "array([[ 50,  10,  15],\n",
       "       [200,  25,  30],\n",
       "       [ 35, 400,  45]])"
      ]
     },
     "metadata": {},
     "output_type": "display_data"
    },
    {
     "name": "stdout",
     "output_type": "stream",
     "text": [
      "log twod\n"
     ]
    },
    {
     "data": {
      "text/plain": [
       "array([[2.30258509, 0.69314718, 1.09861229],\n",
       "       [3.68887945, 1.60943791, 1.79175947],\n",
       "       [1.94591015, 4.38202663, 2.19722458]])"
      ]
     },
     "metadata": {},
     "output_type": "display_data"
    },
    {
     "name": "stdout",
     "output_type": "stream",
     "text": [
      "exp twod\n"
     ]
    },
    {
     "data": {
      "text/plain": [
       "array([[2.20264658e+04, 7.38905610e+00, 2.00855369e+01],\n",
       "       [2.35385267e+17, 1.48413159e+02, 4.03428793e+02],\n",
       "       [1.09663316e+03, 5.54062238e+34, 8.10308393e+03]])"
      ]
     },
     "metadata": {},
     "output_type": "display_data"
    }
   ],
   "source": [
    "civilian_deaths = np.array([4352, 233, 3245, 256, 2394])\n",
    "print(\"average : \",civilian_deaths.mean())\n",
    "print(\"sum : \",civilian_deaths.sum())\n",
    "print(\"min : \",civilian_deaths.min())\n",
    "print(\"max : \",civilian_deaths.max())\n",
    "print(\"position of min value \",civilian_deaths.argmin())\n",
    "print(\"position of max value \",civilian_deaths.argmax())\n",
    "\n",
    "# element wise operations\n",
    "twod = np.array(([10,2,3],[40,5,6],[7,80,9]))\n",
    "print(\"twod - 10\")\n",
    "display(twod-10)\n",
    "print(\"twod * 5\")\n",
    "display(twod * 5)\n",
    "print(\"log twod\")\n",
    "display(np.log(twod))\n",
    "print(\"exp twod\")\n",
    "display(np.exp(twod))"
   ]
  },
  {
   "cell_type": "code",
   "execution_count": 10,
   "metadata": {},
   "outputs": [
    {
     "name": "stdout",
     "output_type": "stream",
     "text": [
      "Original array:\n",
      "[1 2 3 4]\n",
      "Test if none of the elements of the said array is zero:\n",
      "True\n",
      "Original array:\n",
      "[0 1 2 3]\n",
      "Test if none of the elements of the said array is zero:\n",
      "False\n"
     ]
    }
   ],
   "source": [
    "# test whether none of the elements of a given array is zero\n",
    "x = np.array([1, 2, 3, 4])\n",
    "print(\"Original array:\")\n",
    "print(x)\n",
    "print(\"Test if none of the elements of the said array is zero:\")\n",
    "print(np.all(x))\n",
    "x = np.array([0, 1, 2, 3])\n",
    "print(\"Original array:\")\n",
    "print(x)\n",
    "print(\"Test if none of the elements of the said array is zero:\")\n",
    "print(np.all(x))"
   ]
  },
  {
   "cell_type": "code",
   "execution_count": 11,
   "metadata": {},
   "outputs": [
    {
     "name": "stdout",
     "output_type": "stream",
     "text": [
      "Original array:\n",
      "[1 0 0 0]\n",
      "Test if any of the elements of a given array is non-zero:\n",
      "True\n",
      "Original array:\n",
      "[0 0 0 0]\n",
      "Test if any of the elements of a given array is non-zero:\n",
      "False\n"
     ]
    }
   ],
   "source": [
    "# test if any of the elements of a given array is non-zero\n",
    "x = np.array([1, 0, 0, 0])\n",
    "print(\"Original array:\")\n",
    "print(x)\n",
    "print(\"Test if any of the elements of a given array is non-zero:\")\n",
    "print(np.any(x))\n",
    "x = np.array([0, 0, 0, 0])\n",
    "print(\"Original array:\")\n",
    "print(x)\n",
    "print(\"Test if any of the elements of a given array is non-zero:\")\n",
    "print(np.any(x))"
   ]
  },
  {
   "cell_type": "code",
   "execution_count": 12,
   "metadata": {},
   "outputs": [
    {
     "name": "stdout",
     "output_type": "stream",
     "text": [
      "Original array\n",
      "[ 1.  0. nan  5. nan]\n",
      "Test element-wise for NaN:\n",
      "[False False  True False  True]\n",
      "2\n"
     ]
    }
   ],
   "source": [
    "# test element-wise for NaN of a given array\n",
    "a = np.array([1, 0, np.nan, 5,np.nan])\n",
    "print(\"Original array\")\n",
    "print(a)\n",
    "print(\"Test element-wise for NaN:\")\n",
    "print(np.isnan(a))\n",
    "print(np.sum(np.isnan(a))) # get how many nanas"
   ]
  },
  {
   "cell_type": "code",
   "execution_count": 13,
   "metadata": {},
   "outputs": [
    {
     "name": "stdout",
     "output_type": "stream",
     "text": [
      "Original numbers:\n",
      "[3 5]\n",
      "[2 5]\n",
      "Comparison - greater\n",
      "[ True False]\n",
      "Comparison - greater_equal\n",
      "[ True  True]\n",
      "Comparison - less\n",
      "[False False]\n",
      "Comparison - less_equal\n",
      "[False  True]\n"
     ]
    }
   ],
   "source": [
    "# element wise comparison\n",
    "x = np.array([3, 5])\n",
    "y = np.array([2, 5])\n",
    "print(\"Original numbers:\")\n",
    "print(x)\n",
    "print(y)\n",
    "print(\"Comparison - greater\")\n",
    "print(np.greater(x, y))\n",
    "print(\"Comparison - greater_equal\")\n",
    "print(np.greater_equal(x, y))\n",
    "print(\"Comparison - less\")\n",
    "print(np.less(x, y))\n",
    "print(\"Comparison - less_equal\")\n",
    "print(np.less_equal(x, y))"
   ]
  },
  {
   "cell_type": "code",
   "execution_count": 14,
   "metadata": {},
   "outputs": [
    {
     "name": "stdout",
     "output_type": "stream",
     "text": [
      "Original array:\n",
      "[[0 1]\n",
      " [2 3]]\n",
      "Sum of all elements:\n",
      "6\n",
      "Sum of each column:\n",
      "[2 4]\n",
      "Sum of each row:\n",
      "[1 5]\n"
     ]
    }
   ],
   "source": [
    "# np.sum ()\n",
    "x = np.array([[0,1],[2,3]])\n",
    "print(\"Original array:\")\n",
    "print(x)\n",
    "print(\"Sum of all elements:\")\n",
    "print(np.sum(x))\n",
    "print(\"Sum of each column:\")\n",
    "print(np.sum(x, axis=0))\n",
    "print(\"Sum of each row:\")\n",
    "print(np.sum(x, axis=1))"
   ]
  },
  {
   "cell_type": "code",
   "execution_count": 15,
   "metadata": {},
   "outputs": [
    {
     "name": "stdout",
     "output_type": "stream",
     "text": [
      "append new row\n"
     ]
    },
    {
     "data": {
      "text/plain": [
       "array([[ 1,  2,  3],\n",
       "       [-1, -2, -3],\n",
       "       [10, 11, 12]])"
      ]
     },
     "metadata": {},
     "output_type": "display_data"
    },
    {
     "name": "stdout",
     "output_type": "stream",
     "text": [
      "append new column\n"
     ]
    },
    {
     "data": {
      "text/plain": [
       "array([[ 1,  2,  3, 10],\n",
       "       [-1, -2, -3, 11]])"
      ]
     },
     "metadata": {},
     "output_type": "display_data"
    }
   ],
   "source": [
    "# appending new rows and columns\n",
    "a = np.array([[1, 2, 3],[-1,-2,-3]])\n",
    "append_rows = np.append (a, [[10, 11, 12]],axis=0)\n",
    "append_cols = np.append (a, [[10], [11]],axis=1)\n",
    "print(\"append new row\")\n",
    "display(append_rows)\n",
    "print(\"append new column\")\n",
    "display(append_cols)"
   ]
  },
  {
   "cell_type": "code",
   "execution_count": 16,
   "metadata": {},
   "outputs": [
    {
     "name": "stdout",
     "output_type": "stream",
     "text": [
      "Values in Fahrenheit degrees:\n",
      "[ 0.   12.   45.21 34.   99.91]\n",
      "Values in  Centigrade degrees:\n",
      "[-17.77777778 -11.11111111   7.33888889   1.11111111  37.72777778]\n"
     ]
    }
   ],
   "source": [
    "# custom function for element wise operation\n",
    "# convert the values of Centigrade degrees into Fahrenheit degrees. Centigrade values are stored into a NumPy array\n",
    "fvalues = [0, 12, 45.21, 34, 99.91]\n",
    "F = np.array(fvalues)\n",
    "print(\"Values in Fahrenheit degrees:\")\n",
    "print(F)\n",
    "print(\"Values in  Centigrade degrees:\") \n",
    "print(5*F/9 - 5*32/9)"
   ]
  },
  {
   "cell_type": "markdown",
   "metadata": {},
   "source": [
    "# indexing and slicing"
   ]
  },
  {
   "cell_type": "code",
   "execution_count": 17,
   "metadata": {},
   "outputs": [
    {
     "data": {
      "text/plain": [
       "array([[1, 2, 3],\n",
       "       [4, 5, 6],\n",
       "       [7, 8, 9]])"
      ]
     },
     "execution_count": 17,
     "metadata": {},
     "output_type": "execute_result"
    }
   ],
   "source": [
    "nums2d = np.array(([1,2,3],[4,5,6],[7,8,9]))  \n",
    "nums2d"
   ]
  },
  {
   "cell_type": "code",
   "execution_count": 18,
   "metadata": {},
   "outputs": [
    {
     "name": "stdout",
     "output_type": "stream",
     "text": [
      "element at first row and first column = 1\n",
      "element at second row and last column = 6\n",
      "last column = [3 6 9]\n",
      "upper left matrix \n",
      " [[1 2]\n",
      " [4 5]]\n"
     ]
    },
    {
     "data": {
      "text/plain": [
       "'first and last column'"
      ]
     },
     "metadata": {},
     "output_type": "display_data"
    },
    {
     "data": {
      "text/plain": [
       "array([[1, 3],\n",
       "       [4, 6],\n",
       "       [7, 9]])"
      ]
     },
     "metadata": {},
     "output_type": "display_data"
    },
    {
     "data": {
      "text/plain": [
       "'first and last row'"
      ]
     },
     "metadata": {},
     "output_type": "display_data"
    },
    {
     "data": {
      "text/plain": [
       "array([[1, 2, 3],\n",
       "       [7, 8, 9]])"
      ]
     },
     "metadata": {},
     "output_type": "display_data"
    }
   ],
   "source": [
    "# get elemetns by index\n",
    "print(\"element at first row and first column = {}\".format(nums2d[0,0]))\n",
    "print(\"element at second row and last column = {}\".format(nums2d[1,2]))\n",
    "print(\"last column = {}\".format(nums2d[:,2]))\n",
    "print(\"upper left matrix \\n {}\".format(nums2d[:2,:2]))\n",
    "# To get several and indepent columns\n",
    "display(\"first and last column\",nums2d[:,[0,2]])\n",
    "# To get several and indepent rows\n",
    "display(\"first and last row\",nums2d[[0,2],:])"
   ]
  },
  {
   "cell_type": "markdown",
   "metadata": {},
   "source": [
    "#### quiz  : write a python function to get middle element of square array"
   ]
  },
  {
   "cell_type": "markdown",
   "metadata": {},
   "source": [
    "### Flattening numpy arrays"
   ]
  },
  {
   "cell_type": "code",
   "execution_count": 19,
   "metadata": {},
   "outputs": [
    {
     "data": {
      "text/plain": [
       "'before flattening'"
      ]
     },
     "metadata": {},
     "output_type": "display_data"
    },
    {
     "data": {
      "text/plain": [
       "array([[1, 2, 3],\n",
       "       [4, 5, 6],\n",
       "       [7, 8, 9]])"
      ]
     },
     "metadata": {},
     "output_type": "display_data"
    },
    {
     "data": {
      "text/plain": [
       "'shape'"
      ]
     },
     "metadata": {},
     "output_type": "display_data"
    },
    {
     "data": {
      "text/plain": [
       "(3, 3)"
      ]
     },
     "metadata": {},
     "output_type": "display_data"
    },
    {
     "data": {
      "text/plain": [
       "'after flattening'"
      ]
     },
     "metadata": {},
     "output_type": "display_data"
    },
    {
     "data": {
      "text/plain": [
       "array([1, 2, 3, 4, 5, 6, 7, 8, 9])"
      ]
     },
     "metadata": {},
     "output_type": "display_data"
    },
    {
     "data": {
      "text/plain": [
       "'shape'"
      ]
     },
     "metadata": {},
     "output_type": "display_data"
    },
    {
     "data": {
      "text/plain": [
       "(9,)"
      ]
     },
     "metadata": {},
     "output_type": "display_data"
    }
   ],
   "source": [
    "array = np.array(([1,2,3],[4,5,6],[7,8,9]))\n",
    "display('before flattening',array,'shape',array.shape)\n",
    "vector=array.flatten()\n",
    "display('after flattening',vector,'shape',vector.shape)"
   ]
  },
  {
   "cell_type": "markdown",
   "metadata": {},
   "source": [
    "### np.where()\n",
    "we may want to search for indexes and values that satisfy some conditions"
   ]
  },
  {
   "cell_type": "code",
   "execution_count": 62,
   "metadata": {},
   "outputs": [
    {
     "data": {
      "text/plain": [
       "array([[ 1,  2, 42, 36, 31],\n",
       "       [19, 26, 49, 49, 34],\n",
       "       [10, 10, 36,  1, 23],\n",
       "       [21, 48, 47, 11, 40],\n",
       "       [17,  1, 21, 14, 21]])"
      ]
     },
     "metadata": {},
     "output_type": "display_data"
    },
    {
     "data": {
      "text/plain": [
       "'thresholding'"
      ]
     },
     "metadata": {},
     "output_type": "display_data"
    },
    {
     "data": {
      "text/plain": [
       "array([[0, 0, 1, 1, 1],\n",
       "       [0, 1, 1, 1, 1],\n",
       "       [0, 0, 1, 0, 0],\n",
       "       [0, 1, 1, 0, 1],\n",
       "       [0, 0, 0, 0, 0]])"
      ]
     },
     "metadata": {},
     "output_type": "display_data"
    },
    {
     "data": {
      "text/plain": [
       "'values in array satisfies some conditions'"
      ]
     },
     "metadata": {},
     "output_type": "display_data"
    },
    {
     "data": {
      "text/plain": [
       "array([19, 23, 21, 11, 17, 21, 14, 21])"
      ]
     },
     "metadata": {},
     "output_type": "display_data"
    }
   ],
   "source": [
    "array=np.random.randint(low=1,high=50,size=(5,5))\n",
    "display(array)\n",
    "# assume we want to threshold this array values lower than 25 will be zero and values higher than 25 will be ones\n",
    "display('thresholding',np.where(array>25,1,0))\n",
    "# select values based on conditions\n",
    "display('values in array satisfies some conditions',array[np.where(np.logical_and(array<25,array>10))])"
   ]
  },
  {
   "cell_type": "markdown",
   "metadata": {},
   "source": [
    "### Vectorize custom functions\n",
    "we can get vectorized function for our custom function to run in vectorized mode over all array elements"
   ]
  },
  {
   "cell_type": "code",
   "execution_count": 2,
   "metadata": {},
   "outputs": [
    {
     "data": {
      "text/plain": [
       "array([3, 4, 1, 2])"
      ]
     },
     "execution_count": 2,
     "metadata": {},
     "output_type": "execute_result"
    }
   ],
   "source": [
    "def myfunc(a, b):\n",
    "    \"Return a-b if a>b, otherwise return a+b\"\n",
    "    if a > b:\n",
    "        return a - b\n",
    "    else:\n",
    "        return a + b\n",
    "vfunc = np.vectorize(myfunc)\n",
    "vfunc([1, 2, 3, 4], 2)"
   ]
  },
  {
   "cell_type": "markdown",
   "metadata": {},
   "source": [
    "### apply function along axis"
   ]
  },
  {
   "cell_type": "code",
   "execution_count": 99,
   "metadata": {},
   "outputs": [
    {
     "data": {
      "text/plain": [
       "array([[13, 37, 86, 98, 75],\n",
       "       [63, 24, 21, 75, 38],\n",
       "       [89, 71, 65, 28, 94],\n",
       "       [76, 18, 97, 48, 35],\n",
       "       [25, 55, 84, 12, 79]])"
      ]
     },
     "metadata": {},
     "output_type": "display_data"
    },
    {
     "data": {
      "text/plain": [
       "'min - max of every of row'"
      ]
     },
     "metadata": {},
     "output_type": "display_data"
    },
    {
     "data": {
      "text/plain": [
       "array([76, 53, 76, 86, 59])"
      ]
     },
     "metadata": {},
     "output_type": "display_data"
    }
   ],
   "source": [
    "def minmax(axis):\n",
    "    return max(axis)-min(axis)\n",
    "\n",
    "array=np.random.randint(low=10,high=100,size=(5,5))\n",
    "display(array)\n",
    "display('min - max of every of row',np.apply_along_axis(func1d=minmax,axis=0,arr=array))"
   ]
  }
 ],
 "metadata": {
  "kernelspec": {
   "display_name": "Python 3",
   "language": "python",
   "name": "python3"
  },
  "language_info": {
   "codemirror_mode": {
    "name": "ipython",
    "version": 3
   },
   "file_extension": ".py",
   "mimetype": "text/x-python",
   "name": "python",
   "nbconvert_exporter": "python",
   "pygments_lexer": "ipython3",
   "version": "3.6.8"
  }
 },
 "nbformat": 4,
 "nbformat_minor": 2
}
