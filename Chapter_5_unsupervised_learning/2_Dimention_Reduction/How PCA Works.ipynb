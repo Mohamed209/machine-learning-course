{
 "cells": [
  {
   "cell_type": "markdown",
   "metadata": {},
   "source": [
    "### Math Review : 1- Matrix Decomposition"
   ]
  },
  {
   "cell_type": "markdown",
   "metadata": {},
   "source": [
    "` The eigendecomposition of the square matrix A is a product of three matrices: `\n",
    "\n",
    "<img src='../../images/eign.png'>"
   ]
  },
  {
   "cell_type": "markdown",
   "metadata": {},
   "source": [
    "`where : `\n",
    "\n",
    "`Q : eignvectors where [1,2] first eignvector and [2,-1] is the second one`\n",
    "\n",
    "`Λ : eignvalues matrix where first eignvalue is 5 and second is 10`\n",
    "\n",
    "`also every eign value corresponds to every eignvector`\n",
    "\n",
    "`in above example [1,2] >>> 5 and [2,-1] >>> 10`\n",
    "\n",
    "`Q−1 : Q inverse`\n",
    "\n",
    "`note that eignvectors represent a direction and eignvalues represent tha magnitude of the corresponding eignvector`"
   ]
  },
  {
   "cell_type": "markdown",
   "metadata": {},
   "source": [
    "### Math Review : 2- Variance and Covariance"
   ]
  },
  {
   "cell_type": "markdown",
   "metadata": {},
   "source": [
    "`Variance measures the variation of a single random variable (like the height of a person in a population), whereas covariance is a measure of how much two random variables vary together`\n",
    "\n",
    "`variance equation`\n",
    "\n",
    "<img src='../../images/var.png'>\n",
    "\n",
    "`covariance equation`\n",
    "\n",
    "<img src='../../images/cov.png'>\n",
    "\n",
    "`covariance matrix`\n",
    "\n",
    "`which is a square matrix given by `\n",
    "\n",
    "<img src='../../images/covmat.png'>\n",
    "\n",
    "`where d describes the dimension or number of random variables of the data`"
   ]
  },
  {
   "cell_type": "code",
   "execution_count": 1,
   "metadata": {},
   "outputs": [
    {
     "name": "stdout",
     "output_type": "stream",
     "text": [
      "matrix A >>> \n",
      " [[10  3  8  0]\n",
      " [19 10 11  9]\n",
      " [10  6  0 12]\n",
      " [ 7 14 17  2]]\n",
      "eignvalues >>> \n",
      " [ 32.17124392 -14.73215644   4.22643543   0.3344771 ]\n",
      "eignvectors >>> \n",
      " [[-0.2377868  -0.23243     0.53755095 -0.26700846]\n",
      " [-0.64963482  0.13373639  0.16946972 -0.59051775]\n",
      " [-0.41539059  0.66841074 -0.45149929  0.54404121]\n",
      " [-0.59066293 -0.69377083 -0.69171337  0.53293004]]\n",
      "link between eignvalues and eignvectors \n",
      "\n",
      "eignvalue 32.17124391733927 >>> eignvector [-0.2377868  -0.23243     0.53755095 -0.26700846]\n",
      "eignvalue -14.732156443348027 >>> eignvector [-0.64963482  0.13373639  0.16946972 -0.59051775]\n",
      "eignvalue 4.226435425897828 >>> eignvector [-0.41539059  0.66841074 -0.45149929  0.54404121]\n",
      "eignvalue 0.33447710011095094 >>> eignvector [-0.59066293 -0.69377083 -0.69171337  0.53293004]\n"
     ]
    }
   ],
   "source": [
    "# this example shows you how to perform matrix eigndecomposition in numpy\n",
    "import numpy as np\n",
    "np.random.seed(3)\n",
    "from numpy.linalg import eig # https://numpy.org/doc/stable/reference/generated/numpy.linalg.eig.html\n",
    "A = np.random.randint(low=0,high=20,size=(4,4)) # generate square matrix with random integer values\n",
    "print(\"matrix A >>> \\n\",A)\n",
    "eignvalues , eignvectors = eig(A)\n",
    "print(\"eignvalues >>> \\n\",eignvalues)\n",
    "print(\"eignvectors >>> \\n\",eignvectors)\n",
    "print(\"link between eignvalues and eignvectors \\n\")\n",
    "for i in range(eignvalues.shape[0]):\n",
    "    print(\"eignvalue {} >>> eignvector {}\".format(eignvalues[i],eignvectors[i]))"
   ]
  },
  {
   "cell_type": "markdown",
   "metadata": {},
   "source": [
    "### What is PCA"
   ]
  },
  {
   "cell_type": "markdown",
   "metadata": {},
   "source": [
    "`It is a way of identifying patterns in data , once you have found these patterns in the data, then you can compress the data, ie. by reducing the number of dimensions, without much loss of information`"
   ]
  },
  {
   "cell_type": "markdown",
   "metadata": {},
   "source": [
    "### How PCA Works"
   ]
  },
  {
   "cell_type": "code",
   "execution_count": 2,
   "metadata": {},
   "outputs": [
    {
     "data": {
      "text/plain": [
       "<matplotlib.collections.PathCollection at 0x7f9c3d2e92e8>"
      ]
     },
     "execution_count": 2,
     "metadata": {},
     "output_type": "execute_result"
    },
    {
     "data": {
      "image/png": "[encoded data removed]",
      "text/plain": [
       "<Figure size 432x288 with 1 Axes>"
      ]
     },
     "metadata": {
      "needs_background": "light"
     },
     "output_type": "display_data"
    }
   ],
   "source": [
    "# first we will generate dummy 2 features dataset\n",
    "import matplotlib.pyplot as plt\n",
    "rng = np.random.RandomState(1)\n",
    "X = np.dot(rng.rand(2, 2), rng.randn(2, 200)).T\n",
    "plt.scatter(X[:, 0], X[:, 1])"
   ]
  },
  {
   "cell_type": "code",
   "execution_count": 3,
   "metadata": {},
   "outputs": [
    {
     "name": "stdout",
     "output_type": "stream",
     "text": [
      "Samples of New X >>> \n",
      " [[-0.6588133  -0.16598294]\n",
      " [ 0.92718335  0.59498131]\n",
      " [-0.63205507 -0.39851268]\n",
      " [-2.26157106 -0.52849602]\n",
      " [-0.49494174 -0.49478653]]\n"
     ]
    }
   ],
   "source": [
    "# Step 1 : For PCA to work properly, you have to subtract the mean from each of the data dimensions (kind of normaliztion)\n",
    "X[:,0]-=np.mean(X[:,0])\n",
    "X[:,1]-=np.mean(X[:,1])\n",
    "print(\"Samples of New X >>> \\n\",X[:5,:])"
   ]
  },
  {
   "cell_type": "code",
   "execution_count": 4,
   "metadata": {},
   "outputs": [
    {
     "name": "stdout",
     "output_type": "stream",
     "text": [
      "covriance matrix >>> \n",
      " [[0.68217761 0.23093475]\n",
      " [0.23093475 0.09883179]]\n"
     ]
    }
   ],
   "source": [
    "# Step 2 : Compute covariance matrix of the features\n",
    "covmat = np.cov(X[:, 0], X[:, 1])\n",
    "print(\"covriance matrix >>> \\n\",covmat)"
   ]
  },
  {
   "cell_type": "code",
   "execution_count": 5,
   "metadata": {},
   "outputs": [
    {
     "name": "stdout",
     "output_type": "stream",
     "text": [
      "eignvalues >>> \n",
      " [0.7625315 0.0184779]\n",
      "eignvectors >>> \n",
      " [[ 0.94446029 -0.32862557]\n",
      " [ 0.32862557  0.94446029]]\n"
     ]
    }
   ],
   "source": [
    "'''\n",
    "Step 3 :\n",
    "Since the covariance matrix is square, we can calculate the eigenvectors and eigenvalues for this matrix. These are rather important, as they tell us useful information about\n",
    "our data. I will show you why soon. In the meantime, here are the eigenvectors and\n",
    "eigenvalues\n",
    "'''\n",
    "eignvalues , eignvectors = eig(covmat)\n",
    "\n",
    "print(\"eignvalues >>> \\n\",eignvalues)\n",
    "\n",
    "print(\"eignvectors >>> \\n\",eignvectors)"
   ]
  },
  {
   "cell_type": "code",
   "execution_count": 6,
   "metadata": {},
   "outputs": [
    {
     "data": {
      "image/png": "[encoded data removed]",
      "text/plain": [
       "<Figure size 720x432 with 1 Axes>"
      ]
     },
     "metadata": {
      "needs_background": "light"
     },
     "output_type": "display_data"
    }
   ],
   "source": [
    "# Plot principal components\n",
    "origin = [0, 0]\n",
    "\n",
    "eig_vec1 = 0.4*eignvectors[:,0] # note 0.4 and 0.1 used for better visualizations\n",
    "eig_vec2 = 0.1*eignvectors[:,1]\n",
    "\n",
    "plt.figure(figsize=(10,6))\n",
    "plt.quiver(*origin, *eig_vec1, color=['r'], scale=1)\n",
    "plt.quiver(*origin, *eig_vec2, color=['b'], scale=1)\n",
    "plt.scatter(X[:, 0], X[:, 1])\n",
    "plt.show()"
   ]
  },
  {
   "cell_type": "markdown",
   "metadata": {},
   "source": [
    "`\n",
    "what do this mean ?\n",
    "note first eignvector [0.944,0.328] corresponds to eignvalue of 0.76 the other one is 0.018 , that means that first eignvetor is more important in describing the distribution of the data—more precisely, it is a measure of the variance of the data when projected onto that axis`\n",
    "`so this 2 feature data can be transformed into 1 dimention without losing much information`"
   ]
  },
  {
   "cell_type": "markdown",
   "metadata": {},
   "source": [
    "`Now, if you like, you can decide to ignore the components of\n",
    "lesser significance. You do lose some information, but if the eigenvalues are small, you\n",
    "don’t lose much. If you leave out some components, the final data set will have less\n",
    "dimensions than the original. To be precise, if you originally have n dimensions in\n",
    "your data, and so you calculate n eigenvectors and eigenvalues, and then you choose\n",
    "only the first k eigenvectors where (k < n) , then the final data set has only k dimensions.`"
   ]
  },
  {
   "cell_type": "code",
   "execution_count": 10,
   "metadata": {},
   "outputs": [
    {
     "name": "stdout",
     "output_type": "stream",
     "text": [
      "new data shape >>> \n",
      " (200,)\n"
     ]
    }
   ],
   "source": [
    "# Step 4 : Data Compression (transformation)\n",
    "# simply dot product between X and choosen eignvector\n",
    "newdata = np.dot(X,eignvectors[:,0])\n",
    "# check new data shape\n",
    "print(\"new data shape >>> \\n\",newdata.shape)"
   ]
  },
  {
   "cell_type": "markdown",
   "metadata": {},
   "source": [
    "### PCA in sklearn as dimention reduction algorithm"
   ]
  },
  {
   "cell_type": "code",
   "execution_count": 16,
   "metadata": {},
   "outputs": [
    {
     "name": "stdout",
     "output_type": "stream",
     "text": [
      "Data >>> \n",
      " [[-1 -1]\n",
      " [-2 -1]\n",
      " [-3 -2]\n",
      " [ 1  1]\n",
      " [ 2  1]\n",
      " [ 3  2]]\n",
      "eign values (variance) >>> \n",
      " [7.93954312 0.06045688]\n",
      "eign vectors (principal components ) >>> \n",
      " [[-0.83849224 -0.54491354]\n",
      " [ 0.54491354 -0.83849224]]\n"
     ]
    }
   ],
   "source": [
    "# https://scikit-learn.org/stable/modules/generated/sklearn.decomposition.PCA.html#sklearn.decomposition.PCA\n",
    "from sklearn.decomposition import PCA\n",
    "X = np.array([[-1, -1], [-2, -1], [-3, -2], [1, 1], [2, 1], [3, 2]])\n",
    "pca = PCA(n_components=2)\n",
    "pca.fit(X)\n",
    "print(\"Data >>> \\n\",X)\n",
    "print(\"eign values (variance) >>> \\n\",pca.explained_variance_)\n",
    "print(\"eign vectors (principal components ) >>> \\n\",pca.components_)"
   ]
  },
  {
   "cell_type": "code",
   "execution_count": null,
   "metadata": {},
   "outputs": [],
   "source": [
    "# note : for new samples (production data) use >>> pca.transform(new_sample) "
   ]
  },
  {
   "cell_type": "code",
   "execution_count": 11,
   "metadata": {},
   "outputs": [
    {
     "data": {
      "text/plain": [
       "(1797, 64)"
      ]
     },
     "execution_count": 11,
     "metadata": {},
     "output_type": "execute_result"
    }
   ],
   "source": [
    "from sklearn.datasets import load_digits\n",
    "digits = load_digits()\n",
    "digits.data.shape"
   ]
  },
  {
   "cell_type": "code",
   "execution_count": 12,
   "metadata": {},
   "outputs": [
    {
     "data": {
      "image/png": "[encoded data removed]",
      "text/plain": [
       "<Figure size 432x288 with 6 Axes>"
      ]
     },
     "metadata": {
      "needs_background": "light"
     },
     "output_type": "display_data"
    }
   ],
   "source": [
    "# plot sample of data\n",
    "import matplotlib.pyplot as plt\n",
    "fig = plt.figure()\n",
    "fig.subplots_adjust(hspace=0.7, wspace=0.7)\n",
    "for i in range(1, 7):\n",
    "    ax = fig.add_subplot(2, 3, i)\n",
    "    plt.imshow(np.reshape(digits.data[i],newshape=(8,8)))\n",
    "    plt.title(digits.target[i])"
   ]
  },
  {
   "cell_type": "code",
   "execution_count": 23,
   "metadata": {},
   "outputs": [
    {
     "data": {
      "image/png": "[encoded data removed]",
      "text/plain": [
       "<Figure size 720x432 with 1 Axes>"
      ]
     },
     "metadata": {
      "needs_background": "light"
     },
     "output_type": "display_data"
    }
   ],
   "source": [
    "'''\n",
    "assume that 64 features as input to our model is large number of features\n",
    "and you suspect that model will overfit the data with these features ,\n",
    "then you can use PCA to reduce number of features ,\n",
    "but a very importnat questions rises , what is the number of new features ?? \n",
    "to answer this question check below figure\n",
    "'''\n",
    "plt.figure(figsize=(10,6))\n",
    "for c in range (64): # num of features\n",
    "    pca = PCA(n_components=c).fit(digits.data) # we fit PCA with all values from 1 >> 64\n",
    "    plt.plot(pca.explained_variance_) # changes components vs variance\n",
    "plt.xlabel('number of components')\n",
    "plt.ylabel('explained variance')\n",
    "plt.show()"
   ]
  },
  {
   "cell_type": "markdown",
   "metadata": {},
   "source": [
    "`This curve quantifies how much of the total, 64-dimensional variance is contained within the first N components. For example, we see that with the digits the first 16 components contain approximately 75% of the variance, while you need around 50 components to describe close to 100% of the varianc`"
   ]
  },
  {
   "cell_type": "code",
   "execution_count": 24,
   "metadata": {},
   "outputs": [
    {
     "name": "stdout",
     "output_type": "stream",
     "text": [
      "new features : (1797, 16) \n"
     ]
    }
   ],
   "source": [
    "# after applying pca\n",
    "digits_new=PCA(n_components=16).fit_transform(digits.data)\n",
    "print(\"new features : {} \".format(digits_new.shape))"
   ]
  },
  {
   "cell_type": "code",
   "execution_count": 26,
   "metadata": {},
   "outputs": [
    {
     "data": {
      "text/plain": [
       "'assignment : trainee is encouraged to apply PCA to reduce data dimentions on any of the projects he/she submitted\\njust to see its effect and how this algorithm can reduce data dimentions which may result in more powerful machine learning models\\n'"
      ]
     },
     "execution_count": 26,
     "metadata": {},
     "output_type": "execute_result"
    }
   ],
   "source": [
    "'''assignment : trainee is encouraged to apply PCA to reduce data dimentions on any of the projects he/she submitted\n",
    "just to see its effect and how this algorithm can reduce data dimentions which may result in more powerful machine learning models\n",
    "'''"
   ]
  }
 ],
 "metadata": {
  "kernelspec": {
   "display_name": "Python 3.6.8 64-bit ('venv': virtualenv)",
   "language": "python",
   "name": "python36864bitvenvvirtualenv1b066e46c9894aa88295228594098c90"
  },
  "language_info": {
   "codemirror_mode": {
    "name": "ipython",
    "version": 3
   },
   "file_extension": ".py",
   "mimetype": "text/x-python",
   "name": "python",
   "nbconvert_exporter": "python",
   "pygments_lexer": "ipython3",
   "version": "3.6.8"
  }
 },
 "nbformat": 4,
 "nbformat_minor": 2
}
