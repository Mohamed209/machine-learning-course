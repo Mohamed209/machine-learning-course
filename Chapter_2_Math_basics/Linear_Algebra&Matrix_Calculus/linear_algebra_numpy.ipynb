{
 "cells": [
  {
   "cell_type": "code",
   "execution_count": 1,
   "metadata": {},
   "outputs": [],
   "source": [
    "import numpy as np\n",
    "from IPython.core.display import display"
   ]
  },
  {
   "cell_type": "markdown",
   "metadata": {},
   "source": [
    "## Basic Concepts"
   ]
  },
  {
   "cell_type": "code",
   "execution_count": 43,
   "metadata": {},
   "outputs": [
    {
     "data": {
      "text/plain": [
       "array([[2, 3, 4, 4, 1]])"
      ]
     },
     "execution_count": 43,
     "metadata": {},
     "output_type": "execute_result"
    }
   ],
   "source": [
    "row_vector=np.array(np.random.randint(low=0,high=5,size=5)).reshape(1,-1) # -1 in reshape means leave this axis as\n",
    "row_vector"
   ]
  },
  {
   "cell_type": "code",
   "execution_count": 47,
   "metadata": {},
   "outputs": [
    {
     "data": {
      "text/plain": [
       "array([[0],\n",
       "       [3],\n",
       "       [0],\n",
       "       [4],\n",
       "       [3]])"
      ]
     },
     "execution_count": 47,
     "metadata": {},
     "output_type": "execute_result"
    }
   ],
   "source": [
    "col_vector=np.array(np.random.randint(low=0,high=5,size=5)).reshape(-1,1) # -1 in reshape means leave this axis as its current value\n",
    "col_vector"
   ]
  },
  {
   "cell_type": "markdown",
   "metadata": {},
   "source": [
    "vector inner product\n",
    "![img](../images/matvec2.gif)"
   ]
  },
  {
   "cell_type": "code",
   "execution_count": 45,
   "metadata": {},
   "outputs": [
    {
     "data": {
      "text/plain": [
       "31"
      ]
     },
     "execution_count": 45,
     "metadata": {},
     "output_type": "execute_result"
    }
   ],
   "source": [
    "# vector inner product\n",
    "np.sum(np.transpose(row_vector)*col_vector)"
   ]
  },
  {
   "cell_type": "code",
   "execution_count": 4,
   "metadata": {},
   "outputs": [
    {
     "data": {
      "text/plain": [
       "array([[-0.5441533 , -0.51767824,  0.29087457,  0.12594721,  0.63209616],\n",
       "       [-0.73189957,  0.36796398,  0.34421825,  1.37027323,  1.07260418]])"
      ]
     },
     "execution_count": 4,
     "metadata": {},
     "output_type": "execute_result"
    }
   ],
   "source": [
    "# create 2*5 matrix\n",
    "matrixA=np.array(np.random.randn(10)).reshape(2,5)\n",
    "matrixA"
   ]
  },
  {
   "cell_type": "markdown",
   "metadata": {},
   "source": [
    "quiz : create 5 * 6 normally distributed random matrix , then reshape it into 5 * 6"
   ]
  },
  {
   "cell_type": "code",
   "execution_count": 18,
   "metadata": {},
   "outputs": [
    {
     "data": {
      "text/plain": [
       "array([[[-0.31051007,  0.07874404,  0.16169595],\n",
       "        [ 0.65895726,  0.97589873,  0.63621598],\n",
       "        [ 0.09070157,  1.6273107 , -0.19826193],\n",
       "        ...,\n",
       "        [ 0.83070327, -0.68793188,  0.05703594],\n",
       "        [ 0.72275999,  0.37668045,  2.1606227 ],\n",
       "        [ 0.69047708,  0.23137286, -2.59329813]],\n",
       "\n",
       "       [[ 0.36281895,  0.01629615,  2.14433086],\n",
       "        [ 1.29914074, -1.69655209, -0.06979406],\n",
       "        [ 0.37514794,  2.19360911,  0.56494381],\n",
       "        ...,\n",
       "        [ 0.04666469, -0.04706209, -0.54682922],\n",
       "        [ 0.64532158,  1.14681737, -0.22769484],\n",
       "        [ 0.42321077, -0.03990572,  1.63380512]],\n",
       "\n",
       "       [[-0.87273323,  1.96427848, -0.44452009],\n",
       "        [-1.14551108,  0.87736876, -1.05904767],\n",
       "        [-0.23299715,  0.01643953,  1.01537137],\n",
       "        ...,\n",
       "        [-1.10854495,  1.62433492,  1.26488959],\n",
       "        [ 1.2915059 , -0.74062761,  0.24698424],\n",
       "        [ 0.40796449, -0.70530979, -0.16829665]],\n",
       "\n",
       "       ...,\n",
       "\n",
       "       [[-0.03064934,  0.73277878, -0.4950499 ],\n",
       "        [ 1.11207771,  0.59765081,  1.22465332],\n",
       "        [ 0.46452319,  0.3986034 ,  0.58115316],\n",
       "        ...,\n",
       "        [-1.15205539, -0.61661943,  0.03203225],\n",
       "        [-0.78793311,  0.80659337, -0.55449505],\n",
       "        [ 0.51855724,  0.09150525, -2.33179321]],\n",
       "\n",
       "       [[ 1.70398156,  0.66084812,  0.2550623 ],\n",
       "        [ 0.90495807, -0.42406299,  0.05235281],\n",
       "        [ 0.23843257, -0.14143278,  0.36553633],\n",
       "        ...,\n",
       "        [-1.3429679 ,  0.57220279, -0.92553919],\n",
       "        [ 0.37074095, -0.75267762,  0.58216113],\n",
       "        [-0.97445535, -0.68082795,  0.1547113 ]],\n",
       "\n",
       "       [[ 1.17231588,  0.50549933,  2.14201362],\n",
       "        [-0.12806036,  0.43336396, -0.45765514],\n",
       "        [ 0.47533631,  0.18388551,  0.45054033],\n",
       "        ...,\n",
       "        [ 2.0179526 ,  0.35235733, -2.07072926],\n",
       "        [ 0.34819552, -0.19810031, -0.76780262],\n",
       "        [-0.98794881, -0.99647294,  0.05679849]]])"
      ]
     },
     "execution_count": 18,
     "metadata": {},
     "output_type": "execute_result"
    }
   ],
   "source": [
    "tensorA=np.array(np.random.randn(1200)).reshape(20,20,3)\n",
    "tensorA"
   ]
  },
  {
   "cell_type": "markdown",
   "metadata": {},
   "source": [
    "### Matrix Operations"
   ]
  },
  {
   "cell_type": "code",
   "execution_count": 5,
   "metadata": {},
   "outputs": [
    {
     "data": {
      "text/plain": [
       "'matrixA transpose'"
      ]
     },
     "metadata": {},
     "output_type": "display_data"
    },
    {
     "data": {
      "text/plain": [
       "array([[-0.5441533 , -0.73189957],\n",
       "       [-0.51767824,  0.36796398],\n",
       "       [ 0.29087457,  0.34421825],\n",
       "       [ 0.12594721,  1.37027323],\n",
       "       [ 0.63209616,  1.07260418]])"
      ]
     },
     "metadata": {},
     "output_type": "display_data"
    },
    {
     "name": "stdout",
     "output_type": "stream",
     "text": [
      "*****************************************\n"
     ]
    },
    {
     "data": {
      "text/plain": [
       "'matrixA plus 10 element wise'"
      ]
     },
     "metadata": {},
     "output_type": "display_data"
    },
    {
     "data": {
      "text/plain": [
       "array([[ 9.4558467 ,  9.48232176, 10.29087457, 10.12594721, 10.63209616],\n",
       "       [ 9.26810043, 10.36796398, 10.34421825, 11.37027323, 11.07260418]])"
      ]
     },
     "metadata": {},
     "output_type": "display_data"
    },
    {
     "name": "stdout",
     "output_type": "stream",
     "text": [
      "*****************************************\n"
     ]
    },
    {
     "data": {
      "text/plain": [
       "'X'"
      ]
     },
     "metadata": {},
     "output_type": "display_data"
    },
    {
     "data": {
      "text/plain": [
       "array([[4, 6, 1, 2],\n",
       "       [2, 8, 1, 8],\n",
       "       [8, 5, 8, 2],\n",
       "       [2, 5, 2, 2]])"
      ]
     },
     "metadata": {},
     "output_type": "display_data"
    },
    {
     "data": {
      "text/plain": [
       "'Y'"
      ]
     },
     "metadata": {},
     "output_type": "display_data"
    },
    {
     "data": {
      "text/plain": [
       "array([[6, 1, 8, 7],\n",
       "       [5, 1, 8, 1],\n",
       "       [7, 1, 7, 1],\n",
       "       [5, 2, 3, 2]])"
      ]
     },
     "metadata": {},
     "output_type": "display_data"
    },
    {
     "data": {
      "text/plain": [
       "'X+Y'"
      ]
     },
     "metadata": {},
     "output_type": "display_data"
    },
    {
     "data": {
      "text/plain": [
       "array([[10,  7,  9,  9],\n",
       "       [ 7,  9,  9,  9],\n",
       "       [15,  6, 15,  3],\n",
       "       [ 7,  7,  5,  4]])"
      ]
     },
     "metadata": {},
     "output_type": "display_data"
    },
    {
     "name": "stdout",
     "output_type": "stream",
     "text": [
      "*****************************************\n"
     ]
    }
   ],
   "source": [
    "# 1. matrix transpose\n",
    "display('matrixA transpose',np.transpose(matrixA))\n",
    "print('*****************************************')\n",
    "# 2. add scaler to matrix element wise\n",
    "display('matrixA plus 10 element wise',matrixA+10)\n",
    "print('*****************************************')\n",
    "# 3 add matrix to matrix element wise\n",
    "X=np.array(np.random.randint(low=1,high=10,size=(4,4)))\n",
    "display('X',X)\n",
    "Y=np.array(np.random.randint(low=1,high=10,size=(4,4)))\n",
    "display('Y',Y)\n",
    "display('X+Y',X+Y)\n",
    "print('*****************************************')"
   ]
  },
  {
   "cell_type": "markdown",
   "metadata": {},
   "source": [
    "### Multiplying matrices and vectors\n",
    "https://mathinsight.org/matrix_vector_multiplication"
   ]
  },
  {
   "cell_type": "code",
   "execution_count": 6,
   "metadata": {},
   "outputs": [
    {
     "data": {
      "text/plain": [
       "'M1'"
      ]
     },
     "metadata": {},
     "output_type": "display_data"
    },
    {
     "data": {
      "text/plain": [
       "array([[8, 1, 1, 1],\n",
       "       [6, 2, 2, 4]])"
      ]
     },
     "metadata": {},
     "output_type": "display_data"
    },
    {
     "data": {
      "text/plain": [
       "'M1 shape'"
      ]
     },
     "metadata": {},
     "output_type": "display_data"
    },
    {
     "data": {
      "text/plain": [
       "(2, 4)"
      ]
     },
     "metadata": {},
     "output_type": "display_data"
    },
    {
     "data": {
      "text/plain": [
       "'V1'"
      ]
     },
     "metadata": {},
     "output_type": "display_data"
    },
    {
     "data": {
      "text/plain": [
       "array([[6],\n",
       "       [6],\n",
       "       [4],\n",
       "       [6]])"
      ]
     },
     "metadata": {},
     "output_type": "display_data"
    },
    {
     "data": {
      "text/plain": [
       "'V1 shape'"
      ]
     },
     "metadata": {},
     "output_type": "display_data"
    },
    {
     "data": {
      "text/plain": [
       "(4, 1)"
      ]
     },
     "metadata": {},
     "output_type": "display_data"
    },
    {
     "data": {
      "text/plain": [
       "'V1 * M1'"
      ]
     },
     "metadata": {},
     "output_type": "display_data"
    },
    {
     "data": {
      "text/plain": [
       "array([[64],\n",
       "       [80]])"
      ]
     },
     "metadata": {},
     "output_type": "display_data"
    }
   ],
   "source": [
    "M1=np.array(np.random.randint(low=1,high=10,size=(2,4)))\n",
    "display('M1',M1,'M1 shape',M1.shape)\n",
    "V1=np.array(np.random.randint(low=1,high=10,size=(4,1)))\n",
    "display('V1',V1,'V1 shape',V1.shape)\n",
    "display('V1 * M1',np.matmul(M1,V1))"
   ]
  },
  {
   "cell_type": "markdown",
   "metadata": {},
   "source": [
    "## matrix by matrix"
   ]
  },
  {
   "cell_type": "code",
   "execution_count": 50,
   "metadata": {},
   "outputs": [
    {
     "data": {
      "text/plain": [
       "'M2'"
      ]
     },
     "metadata": {},
     "output_type": "display_data"
    },
    {
     "data": {
      "text/plain": [
       "array([[2, 3, 1, 4],\n",
       "       [4, 4, 3, 2]])"
      ]
     },
     "metadata": {},
     "output_type": "display_data"
    },
    {
     "data": {
      "text/plain": [
       "'M2 shape'"
      ]
     },
     "metadata": {},
     "output_type": "display_data"
    },
    {
     "data": {
      "text/plain": [
       "(2, 4)"
      ]
     },
     "metadata": {},
     "output_type": "display_data"
    },
    {
     "data": {
      "text/plain": [
       "'M3'"
      ]
     },
     "metadata": {},
     "output_type": "display_data"
    },
    {
     "data": {
      "text/plain": [
       "array([[3, 3],\n",
       "       [1, 1],\n",
       "       [3, 1],\n",
       "       [2, 3]])"
      ]
     },
     "metadata": {},
     "output_type": "display_data"
    },
    {
     "data": {
      "text/plain": [
       "'M3 shape'"
      ]
     },
     "metadata": {},
     "output_type": "display_data"
    },
    {
     "data": {
      "text/plain": [
       "(4, 2)"
      ]
     },
     "metadata": {},
     "output_type": "display_data"
    },
    {
     "data": {
      "text/plain": [
       "'M2 * M3'"
      ]
     },
     "metadata": {},
     "output_type": "display_data"
    },
    {
     "data": {
      "text/plain": [
       "array([[20, 22],\n",
       "       [29, 25]])"
      ]
     },
     "metadata": {},
     "output_type": "display_data"
    }
   ],
   "source": [
    "M2=np.array(np.random.randint(low=1,high=5,size=(2,4)))\n",
    "display('M2',M2,'M2 shape',M2.shape)\n",
    "M3=np.array(np.random.randint(low=1,high=5,size=(4,2)))\n",
    "display('M3',M3,'M3 shape',M3.shape)\n",
    "display('M2 * M3',np.matmul(M2,M3))"
   ]
  },
  {
   "cell_type": "markdown",
   "metadata": {},
   "source": [
    "## Matrix inverse\n",
    "\n",
    "![img](../images/inverse-matrix.png)"
   ]
  },
  {
   "cell_type": "code",
   "execution_count": 53,
   "metadata": {},
   "outputs": [
    {
     "data": {
      "text/plain": [
       "'x'"
      ]
     },
     "metadata": {},
     "output_type": "display_data"
    },
    {
     "data": {
      "text/plain": [
       "array([[1, 2],\n",
       "       [3, 4]])"
      ]
     },
     "metadata": {},
     "output_type": "display_data"
    },
    {
     "data": {
      "text/plain": [
       "'x inverse'"
      ]
     },
     "metadata": {},
     "output_type": "display_data"
    },
    {
     "data": {
      "text/plain": [
       "array([[-2. ,  1. ],\n",
       "       [ 1.5, -0.5]])"
      ]
     },
     "metadata": {},
     "output_type": "display_data"
    },
    {
     "data": {
      "text/plain": [
       "'x * x inverse'"
      ]
     },
     "metadata": {},
     "output_type": "display_data"
    },
    {
     "data": {
      "text/plain": [
       "array([[1.0000000e+00, 0.0000000e+00],\n",
       "       [8.8817842e-16, 1.0000000e+00]])"
      ]
     },
     "metadata": {},
     "output_type": "display_data"
    }
   ],
   "source": [
    "x = np.array([[1,2],[3,4]],dtype=np.int) \n",
    "y = np.linalg.inv(x) \n",
    "display('x',x) \n",
    "display('x inverse',y) \n",
    "display('x * x inverse',np.matmul(x,y))"
   ]
  },
  {
   "cell_type": "markdown",
   "metadata": {},
   "source": [
    "## Vector norm\n",
    "\n",
    "Sometimes we need to measure the size (magnitude) of a vector. \n",
    "\n",
    "In machine learning, we usually measure the size of vectors using a function called anorm"
   ]
  },
  {
   "cell_type": "code",
   "execution_count": 54,
   "metadata": {},
   "outputs": [
    {
     "data": {
      "text/plain": [
       "'vector'"
      ]
     },
     "metadata": {},
     "output_type": "display_data"
    },
    {
     "data": {
      "text/plain": [
       "array([[24],\n",
       "       [41]])"
      ]
     },
     "metadata": {},
     "output_type": "display_data"
    },
    {
     "data": {
      "text/plain": [
       "'norm'"
      ]
     },
     "metadata": {},
     "output_type": "display_data"
    },
    {
     "data": {
      "text/plain": [
       "47.50789408087881"
      ]
     },
     "metadata": {},
     "output_type": "display_data"
    },
    {
     "name": "stdout",
     "output_type": "stream",
     "text": [
      "*****************************************\n"
     ]
    },
    {
     "data": {
      "text/plain": [
       "'vector'"
      ]
     },
     "metadata": {},
     "output_type": "display_data"
    },
    {
     "data": {
      "text/plain": [
       "array([[48],\n",
       "       [24],\n",
       "       [46]])"
      ]
     },
     "metadata": {},
     "output_type": "display_data"
    },
    {
     "data": {
      "text/plain": [
       "'norm'"
      ]
     },
     "metadata": {},
     "output_type": "display_data"
    },
    {
     "data": {
      "text/plain": [
       "70.68238818828917"
      ]
     },
     "metadata": {},
     "output_type": "display_data"
    }
   ],
   "source": [
    "v=np.array(np.random.randint(low=0,high=50,size=(2,1))) # Euclidean norm\n",
    "display('vector',v,'norm',np.linalg.norm(v))\n",
    "print('*****************************************')\n",
    "v2=np.array(np.random.randint(low=0,high=50,size=(3,1)))\n",
    "display('vector',v2,'norm',np.linalg.norm(v2))"
   ]
  },
  {
   "cell_type": "markdown",
   "metadata": {},
   "source": [
    "## Notes"
   ]
  },
  {
   "cell_type": "markdown",
   "metadata": {},
   "source": [
    "#### A symmetric matrix is any matrix that is equal to its own transpose:\n",
    "\n",
    "#### $ A = A^T $"
   ]
  },
  {
   "cell_type": "markdown",
   "metadata": {},
   "source": [
    "#### A unit vector is a vector with unit norm :\n",
    "\n",
    "$||x||_2=1$ "
   ]
  },
  {
   "cell_type": "markdown",
   "metadata": {},
   "source": [
    "#### A vector $x$ and a vector $y$ are orthogonal to each other if $x^Ty=0$ "
   ]
  },
  {
   "cell_type": "markdown",
   "metadata": {},
   "source": [
    "### Eigen decomposition\n",
    "\n",
    "Many mathematical objects can be understood better by breaking them int oconstituent parts, or ﬁnding some properties of them that are universal, not caused by the way we choose to represent them.For example, integers can be decomposed into prime factors. The way we represent the number 12 will change depending on whether we write it in base ten or in binary, but it will always be true that 12 = 2×2×3. From this representation we can conclude useful properties, for example, that 12 is not divisible by 5, and that any integer multiple of 12 will be divisible by 3.Much as we can discover something about the true nature of an integer bydecomposing it into prime factors, we can also decompose matrices in ways that show us information about their functional properties that is not obvious from the representation of the matrix as an array of elements.One of the most widely used kinds of matrix decomposition is called eigen-decomposition, in which we decompose a matrix into a set of eigenvectors and eigenvalues.\n",
    "\n",
    "an eigenvector of a square matrix $A$ is a nonzero vector $v$ such that multi-plication by $A$ alters only the scale of $v$\n",
    "### $ A v=\\lambda v $\n"
   ]
  },
  {
   "cell_type": "code",
   "execution_count": 3,
   "metadata": {},
   "outputs": [
    {
     "data": {
      "text/plain": [
       "array([[ 1,  2,  3],\n",
       "       [ 3,  2,  1],\n",
       "       [ 1,  0, -1]])"
      ]
     },
     "metadata": {},
     "output_type": "display_data"
    },
    {
     "data": {
      "text/plain": [
       "'eign values'"
      ]
     },
     "metadata": {},
     "output_type": "display_data"
    },
    {
     "data": {
      "text/plain": [
       "array([ 4.31662479e+00, -2.31662479e+00,  1.93041509e-17])"
      ]
     },
     "metadata": {},
     "output_type": "display_data"
    },
    {
     "data": {
      "text/plain": [
       "'eign vectors'"
      ]
     },
     "metadata": {},
     "output_type": "display_data"
    },
    {
     "data": {
      "text/plain": [
       "array([[ 0.58428153,  0.73595785,  0.40824829],\n",
       "       [ 0.80407569, -0.38198836, -0.81649658],\n",
       "       [ 0.10989708, -0.55897311,  0.40824829]])"
      ]
     },
     "metadata": {},
     "output_type": "display_data"
    }
   ],
   "source": [
    "from numpy import linalg as LA\n",
    "A = np.array([[1,2,3],[3,2,1],[1,0,-1]])\n",
    "display(A)\n",
    "eigvalues, eigvectors = LA.eig(A)\n",
    "display('eign values',eigvalues,'eign vectors',eigvectors)"
   ]
  }
 ],
 "metadata": {
  "kernelspec": {
   "display_name": "Python 3",
   "language": "python",
   "name": "python3"
  },
  "language_info": {
   "codemirror_mode": {
    "name": "ipython",
    "version": 3
   },
   "file_extension": ".py",
   "mimetype": "text/x-python",
   "name": "python",
   "nbconvert_exporter": "python",
   "pygments_lexer": "ipython3",
   "version": "3.6.8"
  }
 },
 "nbformat": 4,
 "nbformat_minor": 2
}
