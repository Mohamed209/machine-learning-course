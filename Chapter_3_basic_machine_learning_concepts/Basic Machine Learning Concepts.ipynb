{
 "cells": [
  {
   "cell_type": "markdown",
   "metadata": {},
   "source": [
    "## Why machine learing ?"
   ]
  },
  {
   "cell_type": "markdown",
   "metadata": {},
   "source": [
    "`In the early days of “intelligent” applications, many systems used handcoded rules of\n",
    "“if ” and “else” decisions to process data or adjust to user input\n",
    "assume we want to build an intelligent system whose input is text corpus from email or SMS and the system should filter if the text is spam or not ,\n",
    "check some examples and of spam/non spam mails and try to design a rule based system\n",
    "`\n"
   ]
  },
  {
   "cell_type": "markdown",
   "metadata": {},
   "source": [
    "`spam mails`\n",
    "\n",
    "`1-\"security alert - confirm your national credit union information\"`\n",
    "\n",
    "`====================================================================`\n",
    "\n",
    " `2-\"congratulations first category prize winner ! you have been selected as one of six winners of the worldwide continental lotteries`\n",
    "\n",
    "`====================================================================`\n",
    "\n",
    "`3-\"secretly record all internet activity on any computer . . . bfl  find out who they are chatting / e - mailing with all those hours !  is your spouse cheating online ?  are your kids talking to dangerous people on instant messenger ?  find out now ! - with big brother instant software download .  click on this link now to see actual screenshots and to order !\"`"
   ]
  },
  {
   "cell_type": "markdown",
   "metadata": {},
   "source": [
    "`non spam mails`\n",
    "\n",
    "`1-\"test project proposal  vince :  i did get the proposal out today , but after close of business your time .  sorry for the brief delay . you will find two attachments . the first is our  time and materials contract , which will need to be executed if you want to  do the test project \"`\n",
    "\n",
    "`==================================================================`\n",
    "\n",
    "`2-\" congratulations  thanks .  vince j kaminski @ ect  01 / 11 / 2000 08 : 01 am  to : richard shapiro / hou / ees @ ees  cc :  subject : congratulations  rick ,  i have just looked at the memo regarding promotions .  congratulations - well deserved .  vince\"`\n"
   ]
  },
  {
   "cell_type": "markdown",
   "metadata": {},
   "source": [
    "`from the examples above buliding rule based spam filtering is not efficient for two reasons:`\n",
    "\n",
    "`1- it would be too complex to implement and maintain as you need to process variable length , and variable structure text corpus`\n",
    "\n",
    "`2- you may depend on certain keywords to guide you through dilteration , but also some keywords may overlap and this may increase system complexity`"
   ]
  },
  {
   "cell_type": "markdown",
   "metadata": {},
   "source": [
    "`Using machine learning, however, simply presenting a program with a large collection of text mails labeled as spam/non spam is enough for an algorithm to determine what characteristics are needed to filter incoming mail`"
   ]
  },
  {
   "cell_type": "markdown",
   "metadata": {},
   "source": [
    "## what is machine learning\n",
    "\n",
    "<img src='../images/ml.png'>\n",
    "\n",
    "` Let’s say we want to predict the price of a house based on the size of the house, the size of its garden, and the number of rooms it has`\n",
    "\n",
    "<img src='../images/feat.png'>\n",
    "\n",
    "<img src='../images/learn.png'>"
   ]
  },
  {
   "cell_type": "markdown",
   "metadata": {},
   "source": [
    "## types of machine learning\n",
    "\n",
    "`The two main categories of machine learning techniques are supervised learning and unsupervised learning`\n",
    "\n",
    "### supervised learning\n",
    "\n",
    "\n",
    "<img src='../images/super.png'>\n",
    "\n",
    "### unsupervised learning\n",
    "\n",
    "<img src='../images/unsuper.png'>"
   ]
  },
  {
   "cell_type": "markdown",
   "metadata": {},
   "source": [
    "## data terminologies\n",
    "\n",
    "`during model training , data is splitted into train and test sets ,\n",
    "where train set used to train the model and after model finishes training test set is used to evaluate model performance`\n",
    "\n",
    "<img src='../images/train.png'>"
   ]
  },
  {
   "cell_type": "markdown",
   "metadata": {},
   "source": [
    "##  Overfitting vs Underfitting"
   ]
  },
  {
   "cell_type": "markdown",
   "metadata": {},
   "source": [
    "\n",
    "<img src='../images/ovun.jpg'>\n"
   ]
  }
 ],
 "metadata": {
  "kernelspec": {
   "display_name": "Python 3.6.8 64-bit ('venv': virtualenv)",
   "language": "python",
   "name": "python36864bitvenvvirtualenv1b066e46c9894aa88295228594098c90"
  },
  "language_info": {
   "codemirror_mode": {
    "name": "ipython",
    "version": 3
   },
   "file_extension": ".py",
   "mimetype": "text/x-python",
   "name": "python",
   "nbconvert_exporter": "python",
   "pygments_lexer": "ipython3",
   "version": "3.6.8"
  }
 },
 "nbformat": 4,
 "nbformat_minor": 2
}
