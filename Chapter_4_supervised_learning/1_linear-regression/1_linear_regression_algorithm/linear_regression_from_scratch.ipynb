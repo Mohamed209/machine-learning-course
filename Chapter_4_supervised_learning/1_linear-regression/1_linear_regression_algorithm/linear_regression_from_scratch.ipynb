{
 "cells": [
  {
   "cell_type": "markdown",
   "metadata": {},
   "source": [
    "## Linear Models"
   ]
  },
  {
   "cell_type": "markdown",
   "metadata": {},
   "source": [
    "`Linear models are a class of models that are widely used in practice and have been\n",
    "studied extensively in the last few decades, with roots going back over a hundred\n",
    "years. Linear models make a prediction using a linear function of the input features\n",
    "and our goal is to fins the best straight lines that fits the data point\n",
    "For regression, the general prediction formula for a linear model looks as follows:\n",
    "ŷ = w[0] * x[0] + w[1] * x[1] + ... + w[p] * x[p] + b\n",
    "Here, x[0] to x[p] denotes the features (in this example, the number of features is p)\n",
    "of a single data point, w (model weights) and b (bias term) are parameters of the model that are learned, and ŷ is\n",
    "the prediction the model makes.\n",
    "`\n",
    "\n",
    "<img src='../../../images/lr.png'>"
   ]
  },
  {
   "cell_type": "markdown",
   "metadata": {},
   "source": [
    " ## How linear regression algrithm works\n",
    " \n",
    "<img src='../../../images/IMG_20200414_003459.jpg'>\n",
    " \n",
    "<img src='../../../images/IMG_20200414_004430.jpg'>\n",
    " \n",
    "<img src='../../../images/IMG_20200414_003933.jpg'>\n",
    " \n",
    "<img src='../../../images/IMG_20200414_004140.jpg'>"
   ]
  },
  {
   "cell_type": "markdown",
   "metadata": {},
   "source": [
    "## Gradient Descent"
   ]
  },
  {
   "cell_type": "markdown",
   "metadata": {},
   "source": [
    "<img src='../../../images/g1.jpg'>\n",
    "\n",
    "<img src='../../../images/g2.jpg'>\n",
    "\n",
    "<img src='../../../images/g3.jpg'>"
   ]
  },
  {
   "cell_type": "markdown",
   "metadata": {},
   "source": [
    "`gradient descent algorithm`\n",
    "\n",
    "<img src='../../../images/gd.png'>\n",
    "\n",
    "`for MSE loss function GD equation :`\n",
    "\n",
    "<img src='../../../images/gdlr.png'>\n",
    "\n",
    "`check this animation for GD to imagine how it works`\n",
    "\n",
    "<img src='../../../images/sgd.gif'>"
   ]
  },
  {
   "cell_type": "markdown",
   "metadata": {},
   "source": [
    "### Learning Rate efffect\n",
    "`\n",
    "we note that fitted line is not the best , for linear regression chaging training steps and learning rate may change the performance\n",
    "`\n",
    "<img src='../../../images/slr.png'>\n",
    "\n",
    "<img src='../../../images/biglr.png'>"
   ]
  },
  {
   "cell_type": "markdown",
   "metadata": {},
   "source": [
    "## linear regression in sklearn"
   ]
  },
  {
   "cell_type": "code",
   "execution_count": 12,
   "metadata": {},
   "outputs": [
    {
     "data": {
      "image/png": "[encoded data removed]",
      "text/plain": [
       "<Figure size 504x360 with 1 Axes>"
      ]
     },
     "metadata": {
      "needs_background": "light"
     },
     "output_type": "display_data"
    }
   ],
   "source": [
    "import numpy as np\n",
    "import matplotlib.pyplot as plt\n",
    "np.random.seed(0)\n",
    "x = 2 - 3 * np.random.normal(0, 1, 20)\n",
    "y = x - 2 * (x ** 2) + 0.5 * (x ** 3) + np.random.normal(-3, 3, 20)\n",
    "plt.figure(figsize=(7,5))\n",
    "plt.scatter(x,y,c='g')\n",
    "plt.title('Data Points')\n",
    "plt.xlabel('feature x')\n",
    "plt.ylabel('values y')\n",
    "plt.show()\n",
    "x=x.reshape(-1,1)\n",
    "y=y.reshape(-1,1)"
   ]
  },
  {
   "cell_type": "code",
   "execution_count": 13,
   "metadata": {},
   "outputs": [
    {
     "name": "stdout",
     "output_type": "stream",
     "text": [
      "-- Epoch 1\n",
      "Norm: 4.25, NNZs: 1, Bias: -1.633786, T: 20, Avg. loss: 376.605362\n",
      "Total training time: 0.00 seconds.\n",
      "-- Epoch 2\n",
      "Norm: 5.56, NNZs: 1, Bias: -2.858113, T: 40, Avg. loss: 277.304696\n",
      "Total training time: 0.00 seconds.\n",
      "-- Epoch 3\n",
      "Norm: 6.66, NNZs: 1, Bias: -3.820213, T: 60, Avg. loss: 239.028146\n",
      "Total training time: 0.00 seconds.\n",
      "-- Epoch 4\n",
      "Norm: 6.95, NNZs: 1, Bias: -4.696391, T: 80, Avg. loss: 220.895362\n",
      "Total training time: 0.00 seconds.\n",
      "-- Epoch 5\n",
      "Norm: 7.39, NNZs: 1, Bias: -5.435149, T: 100, Avg. loss: 207.286352\n",
      "Total training time: 0.00 seconds.\n",
      "-- Epoch 6\n",
      "Norm: 7.38, NNZs: 1, Bias: -6.110409, T: 120, Avg. loss: 197.589650\n",
      "Total training time: 0.00 seconds.\n",
      "-- Epoch 7\n",
      "Norm: 7.70, NNZs: 1, Bias: -6.715344, T: 140, Avg. loss: 189.545624\n",
      "Total training time: 0.00 seconds.\n",
      "-- Epoch 8\n",
      "Norm: 7.62, NNZs: 1, Bias: -7.278203, T: 160, Avg. loss: 182.913014\n",
      "Total training time: 0.01 seconds.\n",
      "-- Epoch 9\n",
      "Norm: 7.76, NNZs: 1, Bias: -7.782170, T: 180, Avg. loss: 178.051918\n",
      "Total training time: 0.01 seconds.\n",
      "-- Epoch 10\n",
      "Norm: 7.68, NNZs: 1, Bias: -8.248382, T: 200, Avg. loss: 172.653829\n",
      "Total training time: 0.01 seconds.\n",
      "-- Epoch 11\n",
      "Norm: 7.85, NNZs: 1, Bias: -8.684939, T: 220, Avg. loss: 168.843816\n",
      "Total training time: 0.01 seconds.\n",
      "-- Epoch 12\n",
      "Norm: 7.84, NNZs: 1, Bias: -9.094268, T: 240, Avg. loss: 165.259440\n",
      "Total training time: 0.01 seconds.\n",
      "-- Epoch 13\n",
      "Norm: 8.00, NNZs: 1, Bias: -9.463258, T: 260, Avg. loss: 161.308370\n",
      "Total training time: 0.01 seconds.\n",
      "-- Epoch 14\n",
      "Norm: 7.91, NNZs: 1, Bias: -9.815999, T: 280, Avg. loss: 158.684549\n",
      "Total training time: 0.01 seconds.\n",
      "-- Epoch 15\n",
      "Norm: 8.02, NNZs: 1, Bias: -10.141210, T: 300, Avg. loss: 156.095968\n",
      "Total training time: 0.01 seconds.\n",
      "-- Epoch 16\n",
      "Norm: 7.95, NNZs: 1, Bias: -10.457747, T: 320, Avg. loss: 153.881260\n",
      "Total training time: 0.01 seconds.\n",
      "-- Epoch 17\n",
      "Norm: 8.02, NNZs: 1, Bias: -10.746288, T: 340, Avg. loss: 151.886208\n",
      "Total training time: 0.01 seconds.\n",
      "-- Epoch 18\n",
      "Norm: 7.92, NNZs: 1, Bias: -11.022551, T: 360, Avg. loss: 149.507230\n",
      "Total training time: 0.01 seconds.\n",
      "-- Epoch 19\n",
      "Norm: 8.02, NNZs: 1, Bias: -11.274280, T: 380, Avg. loss: 148.285812\n",
      "Total training time: 0.01 seconds.\n",
      "-- Epoch 20\n",
      "Norm: 7.95, NNZs: 1, Bias: -11.518409, T: 400, Avg. loss: 146.533352\n",
      "Total training time: 0.01 seconds.\n",
      "-- Epoch 21\n",
      "Norm: 8.06, NNZs: 1, Bias: -11.745883, T: 420, Avg. loss: 145.265130\n",
      "Total training time: 0.01 seconds.\n",
      "-- Epoch 22\n",
      "Norm: 8.04, NNZs: 1, Bias: -11.969307, T: 440, Avg. loss: 144.293813\n",
      "Total training time: 0.01 seconds.\n",
      "-- Epoch 23\n",
      "Norm: 8.13, NNZs: 1, Bias: -12.174798, T: 460, Avg. loss: 142.827032\n",
      "Total training time: 0.01 seconds.\n",
      "-- Epoch 24\n",
      "Norm: 8.05, NNZs: 1, Bias: -12.371085, T: 480, Avg. loss: 141.763187\n",
      "Total training time: 0.02 seconds.\n",
      "-- Epoch 25\n",
      "Norm: 8.13, NNZs: 1, Bias: -12.553812, T: 500, Avg. loss: 140.903868\n",
      "Total training time: 0.02 seconds.\n",
      "-- Epoch 26\n",
      "Norm: 8.06, NNZs: 1, Bias: -12.731203, T: 520, Avg. loss: 139.999596\n",
      "Total training time: 0.02 seconds.\n",
      "-- Epoch 27\n",
      "Norm: 8.12, NNZs: 1, Bias: -12.894949, T: 540, Avg. loss: 139.414498\n",
      "Total training time: 0.02 seconds.\n",
      "-- Epoch 28\n",
      "Norm: 8.06, NNZs: 1, Bias: -13.050932, T: 560, Avg. loss: 138.504781\n",
      "Total training time: 0.02 seconds.\n",
      "-- Epoch 29\n",
      "Norm: 8.12, NNZs: 1, Bias: -13.202958, T: 580, Avg. loss: 138.103820\n",
      "Total training time: 0.02 seconds.\n",
      "-- Epoch 30\n",
      "Norm: 8.11, NNZs: 1, Bias: -13.350664, T: 600, Avg. loss: 137.565458\n",
      "Total training time: 0.02 seconds.\n",
      "-- Epoch 31\n",
      "Norm: 8.21, NNZs: 1, Bias: -13.486035, T: 620, Avg. loss: 136.526560\n",
      "Total training time: 0.02 seconds.\n",
      "-- Epoch 32\n",
      "Norm: 8.14, NNZs: 1, Bias: -13.616100, T: 640, Avg. loss: 136.240123\n",
      "Total training time: 0.02 seconds.\n",
      "-- Epoch 33\n",
      "Norm: 8.19, NNZs: 1, Bias: -13.737606, T: 660, Avg. loss: 135.886798\n",
      "Total training time: 0.02 seconds.\n",
      "-- Epoch 34\n",
      "Norm: 8.15, NNZs: 1, Bias: -13.861127, T: 680, Avg. loss: 135.489939\n",
      "Total training time: 0.02 seconds.\n",
      "-- Epoch 35\n",
      "Norm: 8.20, NNZs: 1, Bias: -13.973444, T: 700, Avg. loss: 135.049867\n",
      "Total training time: 0.02 seconds.\n",
      "-- Epoch 36\n",
      "Norm: 8.13, NNZs: 1, Bias: -14.084166, T: 720, Avg. loss: 134.442041\n",
      "Total training time: 0.02 seconds.\n",
      "-- Epoch 37\n",
      "Norm: 8.18, NNZs: 1, Bias: -14.184198, T: 740, Avg. loss: 134.411680\n",
      "Total training time: 0.02 seconds.\n",
      "-- Epoch 38\n",
      "Norm: 8.12, NNZs: 1, Bias: -14.284879, T: 760, Avg. loss: 133.894616\n",
      "Total training time: 0.02 seconds.\n",
      "-- Epoch 39\n",
      "Norm: 8.20, NNZs: 1, Bias: -14.380591, T: 780, Avg. loss: 133.631747\n",
      "Total training time: 0.02 seconds.\n",
      "-- Epoch 40\n",
      "Norm: 8.17, NNZs: 1, Bias: -14.475940, T: 800, Avg. loss: 133.562897\n",
      "Total training time: 0.03 seconds.\n",
      "-- Epoch 41\n",
      "Norm: 8.22, NNZs: 1, Bias: -14.560775, T: 820, Avg. loss: 133.203423\n",
      "Total training time: 0.03 seconds.\n",
      "-- Epoch 42\n",
      "Norm: 8.17, NNZs: 1, Bias: -14.642242, T: 840, Avg. loss: 132.897885\n",
      "Total training time: 0.03 seconds.\n",
      "-- Epoch 43\n",
      "Norm: 8.24, NNZs: 1, Bias: -14.720950, T: 860, Avg. loss: 132.612440\n",
      "Total training time: 0.03 seconds.\n",
      "-- Epoch 44\n",
      "Norm: 8.19, NNZs: 1, Bias: -14.797892, T: 880, Avg. loss: 132.437649\n",
      "Total training time: 0.03 seconds.\n",
      "-- Epoch 45\n",
      "Norm: 8.22, NNZs: 1, Bias: -14.868221, T: 900, Avg. loss: 132.480196\n",
      "Total training time: 0.03 seconds.\n",
      "-- Epoch 46\n",
      "Norm: 8.17, NNZs: 1, Bias: -14.934937, T: 920, Avg. loss: 132.132989\n",
      "Total training time: 0.03 seconds.\n",
      "-- Epoch 47\n",
      "Norm: 8.22, NNZs: 1, Bias: -15.002972, T: 940, Avg. loss: 132.101047\n",
      "Total training time: 0.03 seconds.\n",
      "-- Epoch 48\n",
      "Norm: 8.20, NNZs: 1, Bias: -15.068770, T: 960, Avg. loss: 131.991834\n",
      "Total training time: 0.03 seconds.\n",
      "-- Epoch 49\n",
      "Norm: 8.26, NNZs: 1, Bias: -15.127570, T: 980, Avg. loss: 131.663898\n",
      "Total training time: 0.03 seconds.\n",
      "-- Epoch 50\n",
      "Norm: 8.21, NNZs: 1, Bias: -15.186194, T: 1000, Avg. loss: 131.594712\n",
      "Total training time: 0.03 seconds.\n",
      "-- Epoch 51\n",
      "Norm: 8.27, NNZs: 1, Bias: -15.240971, T: 1020, Avg. loss: 131.450750\n",
      "Total training time: 0.03 seconds.\n",
      "-- Epoch 52\n",
      "Norm: 8.22, NNZs: 1, Bias: -15.299194, T: 1040, Avg. loss: 131.414318\n",
      "Total training time: 0.03 seconds.\n",
      "-- Epoch 53\n",
      "Norm: 8.25, NNZs: 1, Bias: -15.351060, T: 1060, Avg. loss: 131.368531\n",
      "Total training time: 0.03 seconds.\n",
      "-- Epoch 54\n",
      "Norm: 8.20, NNZs: 1, Bias: -15.402810, T: 1080, Avg. loss: 131.054018\n",
      "Total training time: 0.03 seconds.\n",
      "-- Epoch 55\n",
      "Norm: 8.25, NNZs: 1, Bias: -15.448181, T: 1100, Avg. loss: 131.102350\n",
      "Total training time: 0.04 seconds.\n",
      "-- Epoch 56\n",
      "Norm: 8.19, NNZs: 1, Bias: -15.495230, T: 1120, Avg. loss: 130.867622\n",
      "Total training time: 0.04 seconds.\n",
      "-- Epoch 57\n",
      "Norm: 8.25, NNZs: 1, Bias: -15.539789, T: 1140, Avg. loss: 130.921064\n",
      "Total training time: 0.04 seconds.\n",
      "-- Epoch 58\n",
      "Norm: 8.23, NNZs: 1, Bias: -15.586550, T: 1160, Avg. loss: 130.962235\n",
      "Total training time: 0.04 seconds.\n",
      "-- Epoch 59\n",
      "Norm: 8.28, NNZs: 1, Bias: -15.628369, T: 1180, Avg. loss: 130.711422\n",
      "Total training time: 0.04 seconds.\n",
      "-- Epoch 60\n",
      "Norm: 8.23, NNZs: 1, Bias: -15.669196, T: 1200, Avg. loss: 130.629802\n",
      "Total training time: 0.04 seconds.\n",
      "-- Epoch 61\n",
      "Norm: 8.28, NNZs: 1, Bias: -15.707076, T: 1220, Avg. loss: 130.620413\n",
      "Total training time: 0.04 seconds.\n",
      "-- Epoch 62\n",
      "Norm: 8.23, NNZs: 1, Bias: -15.745194, T: 1240, Avg. loss: 130.513744\n",
      "Total training time: 0.04 seconds.\n",
      "-- Epoch 63\n",
      "Norm: 8.27, NNZs: 1, Bias: -15.779169, T: 1260, Avg. loss: 130.551055\n",
      "Total training time: 0.04 seconds.\n",
      "-- Epoch 64\n",
      "Norm: 8.22, NNZs: 1, Bias: -15.811911, T: 1280, Avg. loss: 130.398305\n",
      "Total training time: 0.04 seconds.\n",
      "-- Epoch 65\n",
      "Norm: 8.25, NNZs: 1, Bias: -15.846489, T: 1300, Avg. loss: 130.499429\n",
      "Total training time: 0.04 seconds.\n",
      "-- Epoch 66\n",
      "Norm: 8.24, NNZs: 1, Bias: -15.881173, T: 1320, Avg. loss: 130.463269\n",
      "Total training time: 0.04 seconds.\n",
      "-- Epoch 67\n",
      "Norm: 8.30, NNZs: 1, Bias: -15.911436, T: 1340, Avg. loss: 130.135701\n",
      "Total training time: 0.04 seconds.\n",
      "-- Epoch 68\n",
      "Norm: 8.26, NNZs: 1, Bias: -15.940792, T: 1360, Avg. loss: 130.224044\n",
      "Total training time: 0.05 seconds.\n",
      "-- Epoch 69\n",
      "Norm: 8.29, NNZs: 1, Bias: -15.967808, T: 1380, Avg. loss: 130.254758\n",
      "Total training time: 0.05 seconds.\n",
      "-- Epoch 70\n",
      "Norm: 8.26, NNZs: 1, Bias: -15.998727, T: 1400, Avg. loss: 130.227694\n",
      "Total training time: 0.05 seconds.\n",
      "-- Epoch 71\n",
      "Norm: 8.29, NNZs: 1, Bias: -16.024822, T: 1420, Avg. loss: 130.165076\n",
      "Total training time: 0.05 seconds.\n",
      "-- Epoch 72\n",
      "Norm: 8.24, NNZs: 1, Bias: -16.052266, T: 1440, Avg. loss: 129.994813\n",
      "Total training time: 0.05 seconds.\n",
      "-- Epoch 73\n",
      "Norm: 8.27, NNZs: 1, Bias: -16.074927, T: 1460, Avg. loss: 130.140754\n",
      "Total training time: 0.05 seconds.\n",
      "-- Epoch 74\n",
      "Norm: 8.23, NNZs: 1, Bias: -16.100102, T: 1480, Avg. loss: 129.948802\n",
      "Total training time: 0.05 seconds.\n",
      "-- Epoch 75\n",
      "Norm: 8.28, NNZs: 1, Bias: -16.124331, T: 1500, Avg. loss: 129.958811\n",
      "Total training time: 0.05 seconds.\n",
      "-- Epoch 76\n",
      "Norm: 8.26, NNZs: 1, Bias: -16.150109, T: 1520, Avg. loss: 130.067827\n",
      "Total training time: 0.05 seconds.\n",
      "-- Epoch 77\n",
      "Norm: 8.30, NNZs: 1, Bias: -16.170588, T: 1540, Avg. loss: 129.970011\n",
      "Total training time: 0.05 seconds.\n",
      "-- Epoch 78\n",
      "Norm: 8.26, NNZs: 1, Bias: -16.190279, T: 1560, Avg. loss: 129.885274\n",
      "Total training time: 0.05 seconds.\n",
      "-- Epoch 79\n",
      "Norm: 8.31, NNZs: 1, Bias: -16.210006, T: 1580, Avg. loss: 129.801882\n",
      "Total training time: 0.05 seconds.\n",
      "-- Epoch 80\n",
      "Norm: 8.27, NNZs: 1, Bias: -16.229935, T: 1600, Avg. loss: 129.802204\n",
      "Total training time: 0.05 seconds.\n",
      "-- Epoch 81\n",
      "Norm: 8.29, NNZs: 1, Bias: -16.246818, T: 1620, Avg. loss: 129.932024\n",
      "Total training time: 0.05 seconds.\n",
      "-- Epoch 82\n",
      "Norm: 8.25, NNZs: 1, Bias: -16.262442, T: 1640, Avg. loss: 129.787404\n",
      "Total training time: 0.05 seconds.\n",
      "-- Epoch 83\n",
      "Norm: 8.28, NNZs: 1, Bias: -16.280747, T: 1660, Avg. loss: 129.850406\n",
      "Total training time: 0.05 seconds.\n",
      "-- Epoch 84\n",
      "Norm: 8.27, NNZs: 1, Bias: -16.298632, T: 1680, Avg. loss: 129.854787\n",
      "Total training time: 0.06 seconds.\n",
      "-- Epoch 85\n",
      "Norm: 8.31, NNZs: 1, Bias: -16.312887, T: 1700, Avg. loss: 129.711388\n",
      "Total training time: 0.06 seconds.\n",
      "-- Epoch 86\n",
      "Norm: 8.27, NNZs: 1, Bias: -16.328005, T: 1720, Avg. loss: 129.726619\n",
      "Total training time: 0.06 seconds.\n",
      "-- Epoch 87\n",
      "Norm: 8.31, NNZs: 1, Bias: -16.341609, T: 1740, Avg. loss: 129.686904\n",
      "Total training time: 0.06 seconds.\n",
      "-- Epoch 88\n",
      "Norm: 8.28, NNZs: 1, Bias: -16.358939, T: 1760, Avg. loss: 129.732090\n",
      "Total training time: 0.06 seconds.\n",
      "-- Epoch 89\n",
      "Norm: 8.30, NNZs: 1, Bias: -16.372691, T: 1780, Avg. loss: 129.763892\n",
      "Total training time: 0.06 seconds.\n",
      "-- Epoch 90\n",
      "Norm: 8.26, NNZs: 1, Bias: -16.387330, T: 1800, Avg. loss: 129.594246\n",
      "Total training time: 0.06 seconds.\n",
      "-- Epoch 91\n",
      "Norm: 8.29, NNZs: 1, Bias: -16.398170, T: 1820, Avg. loss: 129.668894\n",
      "Total training time: 0.06 seconds.\n",
      "-- Epoch 92\n",
      "Norm: 8.25, NNZs: 1, Bias: -16.411220, T: 1840, Avg. loss: 129.538557\n",
      "Total training time: 0.06 seconds.\n",
      "-- Epoch 93\n",
      "Norm: 8.29, NNZs: 1, Bias: -16.423536, T: 1860, Avg. loss: 129.641685\n",
      "Total training time: 0.06 seconds.\n",
      "-- Epoch 94\n",
      "Norm: 8.28, NNZs: 1, Bias: -16.438267, T: 1880, Avg. loss: 129.712838\n",
      "Total training time: 0.06 seconds.\n",
      "-- Epoch 95\n",
      "Norm: 8.32, NNZs: 1, Bias: -16.450125, T: 1900, Avg. loss: 129.565581\n",
      "Total training time: 0.06 seconds.\n",
      "-- Epoch 96\n",
      "Norm: 8.28, NNZs: 1, Bias: -16.461979, T: 1920, Avg. loss: 129.544002\n",
      "Total training time: 0.06 seconds.\n",
      "-- Epoch 97\n",
      "Norm: 8.31, NNZs: 1, Bias: -16.472475, T: 1940, Avg. loss: 129.576668\n",
      "Total training time: 0.06 seconds.\n",
      "Convergence after 97 epochs took 0.06 seconds\n"
     ]
    },
    {
     "name": "stderr",
     "output_type": "stream",
     "text": [
      "/home/mohamed-mossad/Projects/machine-learning-course/venv/local/lib/python3.6/site-packages/sklearn/utils/validation.py:724: DataConversionWarning: A column-vector y was passed when a 1d array was expected. Please change the shape of y to (n_samples, ), for example using ravel().\n",
      "  y = column_or_1d(y, warn=True)\n"
     ]
    },
    {
     "data": {
      "text/plain": [
       "SGDRegressor(alpha=0.0001, average=False, early_stopping=False, epsilon=0.1,\n",
       "             eta0=0.01, fit_intercept=True, l1_ratio=0.15,\n",
       "             learning_rate='invscaling', loss='squared_loss', max_iter=1000,\n",
       "             n_iter_no_change=5, penalty='l2', power_t=0.25, random_state=None,\n",
       "             shuffle=True, tol=0.001, validation_fraction=0.1, verbose=1,\n",
       "             warm_start=False)"
      ]
     },
     "execution_count": 13,
     "metadata": {},
     "output_type": "execute_result"
    }
   ],
   "source": [
    "# import linear regression module from sklearn\n",
    "from sklearn.linear_model import SGDRegressor,LinearRegression\n",
    "model=SGDRegressor(verbose=1) # new regressor object from SGDRegressor() class\n",
    "model.fit(x,y) # fit >>> start training to find best params"
   ]
  },
  {
   "cell_type": "code",
   "execution_count": 14,
   "metadata": {},
   "outputs": [
    {
     "name": "stdout",
     "output_type": "stream",
     "text": [
      "theta_0 [-16.47247541]\n",
      "theta_1 [8.30878605]\n"
     ]
    }
   ],
   "source": [
    "# show model coefs\n",
    "print(\"theta_0\",model.intercept_)\n",
    "print(\"theta_1\",model.coef_)"
   ]
  },
  {
   "cell_type": "code",
   "execution_count": 15,
   "metadata": {},
   "outputs": [
    {
     "data": {
      "image/png": "[encoded data removed]",
      "text/plain": [
       "<Figure size 432x288 with 1 Axes>"
      ]
     },
     "metadata": {
      "needs_background": "light"
     },
     "output_type": "display_data"
    }
   ],
   "source": [
    "# plot model predictions vs actual values\n",
    "y_pred=model.predict(x)\n",
    "plt.scatter(x,y,label='data points',color='g')\n",
    "plt.plot(x,y_pred,color='r',label='prediction')\n",
    "plt.legend() # show legend\n",
    "plt.show()"
   ]
  },
  {
   "cell_type": "code",
   "execution_count": 16,
   "metadata": {},
   "outputs": [
    {
     "name": "stdout",
     "output_type": "stream",
     "text": [
      "MSE error for this model 253.18201431128168\n"
     ]
    }
   ],
   "source": [
    "# to evaluate linear regression model we may need to compute MSE error\n",
    "from sklearn.metrics import mean_squared_error\n",
    "error=mean_squared_error(y_true=y,y_pred=y_pred)\n",
    "print(\"MSE error for this model\",error)"
   ]
  },
  {
   "cell_type": "markdown",
   "metadata": {},
   "source": [
    "### feature engineering , how to develop good linear model\n",
    "\n",
    "`in previous model , we note that it is suffering from an underfitting problem where straight line is not enough to learn from the data, to solve this we may need`\n",
    "`to increase model complexity (increase model features)`"
   ]
  },
  {
   "cell_type": "markdown",
   "metadata": {},
   "source": [
    "<img src='../../../images/lr_poly.png'>"
   ]
  },
  {
   "cell_type": "code",
   "execution_count": 17,
   "metadata": {},
   "outputs": [],
   "source": [
    "from sklearn.preprocessing import PolynomialFeatures\n",
    "polynomial_features= PolynomialFeatures(degree=2)\n",
    "x_poly = polynomial_features.fit_transform(x) # check https://scikit-learn.org/stable/modules/generated/sklearn.preprocessing.PolynomialFeatures.html"
   ]
  },
  {
   "cell_type": "code",
   "execution_count": 18,
   "metadata": {},
   "outputs": [
    {
     "data": {
      "text/plain": [
       "array([[ 1.        , -3.29215704, 10.83829796],\n",
       "       [ 1.        ,  0.79952837,  0.63924562],\n",
       "       [ 1.        , -0.93621395,  0.87649656],\n",
       "       [ 1.        , -4.7226796 , 22.30370258],\n",
       "       [ 1.        , -3.60267397, 12.97925974],\n",
       "       [ 1.        ,  4.93183364, 24.32298305],\n",
       "       [ 1.        , -0.85026525,  0.722951  ],\n",
       "       [ 1.        ,  2.45407162,  6.02246754],\n",
       "       [ 1.        ,  2.30965656,  5.3345134 ],\n",
       "       [ 1.        ,  0.76820449,  0.59013814],\n",
       "       [ 1.        ,  1.56786929,  2.4582141 ],\n",
       "       [ 1.        , -2.36282052,  5.58292081],\n",
       "       [ 1.        , -0.28311318,  0.08015307],\n",
       "       [ 1.        ,  1.63497495,  2.67314309],\n",
       "       [ 1.        ,  0.6684103 ,  0.44677233],\n",
       "       [ 1.        ,  0.99897702,  0.99795508],\n",
       "       [ 1.        , -2.48223722,  6.16150161],\n",
       "       [ 1.        ,  2.61547479,  6.84070838],\n",
       "       [ 1.        ,  1.0607969 ,  1.12529005],\n",
       "       [ 1.        ,  4.56228722, 20.81446466]])"
      ]
     },
     "execution_count": 18,
     "metadata": {},
     "output_type": "execute_result"
    }
   ],
   "source": [
    "# check new features\n",
    "x_poly"
   ]
  },
  {
   "cell_type": "code",
   "execution_count": 19,
   "metadata": {},
   "outputs": [
    {
     "name": "stdout",
     "output_type": "stream",
     "text": [
      "-- Epoch 1\n",
      "Norm: 27.75, NNZs: 3, Bias: 0.738524, T: 20, Avg. loss: 3776.257399\n",
      "Total training time: 0.00 seconds.\n",
      "-- Epoch 2\n",
      "Norm: 4.46, NNZs: 3, Bias: -2.983588, T: 40, Avg. loss: 10324.866120\n",
      "Total training time: 0.00 seconds.\n",
      "-- Epoch 3\n",
      "Norm: 6.99, NNZs: 3, Bias: -2.718689, T: 60, Avg. loss: 418.108154\n",
      "Total training time: 0.00 seconds.\n",
      "-- Epoch 4\n",
      "Norm: 9.04, NNZs: 3, Bias: -2.808872, T: 80, Avg. loss: 1577.189542\n",
      "Total training time: 0.00 seconds.\n",
      "-- Epoch 5\n",
      "Norm: 9.78, NNZs: 3, Bias: -2.999396, T: 100, Avg. loss: 175.877983\n",
      "Total training time: 0.00 seconds.\n",
      "-- Epoch 6\n",
      "Norm: 9.42, NNZs: 3, Bias: -3.073171, T: 120, Avg. loss: 95.454600\n",
      "Total training time: 0.00 seconds.\n",
      "-- Epoch 7\n",
      "Norm: 10.02, NNZs: 3, Bias: -3.060649, T: 140, Avg. loss: 140.043535\n",
      "Total training time: 0.00 seconds.\n",
      "-- Epoch 8\n",
      "Norm: 9.50, NNZs: 3, Bias: -3.146278, T: 160, Avg. loss: 115.239266\n",
      "Total training time: 0.01 seconds.\n",
      "-- Epoch 9\n",
      "Norm: 9.91, NNZs: 3, Bias: -3.310274, T: 180, Avg. loss: 63.730339\n",
      "Total training time: 0.01 seconds.\n",
      "-- Epoch 10\n",
      "Norm: 10.22, NNZs: 3, Bias: -3.239264, T: 200, Avg. loss: 182.586569\n",
      "Total training time: 0.01 seconds.\n",
      "-- Epoch 11\n",
      "Norm: 10.11, NNZs: 3, Bias: -3.279360, T: 220, Avg. loss: 90.325450\n",
      "Total training time: 0.01 seconds.\n",
      "-- Epoch 12\n",
      "Norm: 9.81, NNZs: 3, Bias: -3.314787, T: 240, Avg. loss: 93.408674\n",
      "Total training time: 0.01 seconds.\n",
      "-- Epoch 13\n",
      "Norm: 10.06, NNZs: 3, Bias: -3.311406, T: 260, Avg. loss: 106.210923\n",
      "Total training time: 0.01 seconds.\n",
      "-- Epoch 14\n",
      "Norm: 9.93, NNZs: 3, Bias: -3.332136, T: 280, Avg. loss: 95.957066\n",
      "Total training time: 0.01 seconds.\n",
      "Convergence after 14 epochs took 0.01 seconds\n"
     ]
    },
    {
     "name": "stderr",
     "output_type": "stream",
     "text": [
      "/home/mohamed-mossad/Projects/machine-learning-course/venv/local/lib/python3.6/site-packages/sklearn/utils/validation.py:724: DataConversionWarning: A column-vector y was passed when a 1d array was expected. Please change the shape of y to (n_samples, ), for example using ravel().\n",
      "  y = column_or_1d(y, warn=True)\n"
     ]
    },
    {
     "data": {
      "text/plain": [
       "SGDRegressor(alpha=0.0001, average=False, early_stopping=False, epsilon=0.1,\n",
       "             eta0=0.01, fit_intercept=True, l1_ratio=0.15,\n",
       "             learning_rate='invscaling', loss='squared_loss', max_iter=1000,\n",
       "             n_iter_no_change=5, penalty='l2', power_t=0.25, random_state=None,\n",
       "             shuffle=True, tol=0.001, validation_fraction=0.1, verbose=1,\n",
       "             warm_start=False)"
      ]
     },
     "execution_count": 19,
     "metadata": {},
     "output_type": "execute_result"
    }
   ],
   "source": [
    "model2=SGDRegressor(verbose=1)\n",
    "model2.fit(x_poly,y)"
   ]
  },
  {
   "cell_type": "code",
   "execution_count": 20,
   "metadata": {},
   "outputs": [
    {
     "name": "stdout",
     "output_type": "stream",
     "text": [
      "theta_0 [-3.33213593]\n",
      "theta_1 [-3.33190525  9.32448099 -0.77675163]\n"
     ]
    }
   ],
   "source": [
    "# show model coefs\n",
    "print(\"theta_0\",model2.intercept_)\n",
    "print(\"theta_1\",model2.coef_)"
   ]
  },
  {
   "cell_type": "code",
   "execution_count": 21,
   "metadata": {},
   "outputs": [
    {
     "data": {
      "image/png": "[encoded data removed]",
      "text/plain": [
       "<Figure size 432x288 with 1 Axes>"
      ]
     },
     "metadata": {
      "needs_background": "light"
     },
     "output_type": "display_data"
    }
   ],
   "source": [
    "# plot model2 predictions vs actual values\n",
    "y_pred2=model2.predict(x_poly)\n",
    "plt.scatter(x,y,label='data points',color='g')\n",
    "plt.plot(sorted(list(x.flatten())),y_pred2,linestyle='--', marker='o',color='r',label='prediction')\n",
    "plt.legend() # show legend\n",
    "plt.show()"
   ]
  },
  {
   "cell_type": "code",
   "execution_count": 22,
   "metadata": {},
   "outputs": [
    {
     "name": "stdout",
     "output_type": "stream",
     "text": [
      "MSE error for model with degree2 177.63138538650466\n"
     ]
    }
   ],
   "source": [
    "error=mean_squared_error(y_true=y,y_pred=y_pred2)\n",
    "print(\"MSE error for model with degree2\",error)"
   ]
  }
 ],
 "metadata": {
  "kernelspec": {
   "display_name": "Python 3",
   "language": "python",
   "name": "python3"
  },
  "language_info": {
   "codemirror_mode": {
    "name": "ipython",
    "version": 3
   },
   "file_extension": ".py",
   "mimetype": "text/x-python",
   "name": "python",
   "nbconvert_exporter": "python",
   "pygments_lexer": "ipython3",
   "version": "3.6.8"
  }
 },
 "nbformat": 4,
 "nbformat_minor": 2
}
