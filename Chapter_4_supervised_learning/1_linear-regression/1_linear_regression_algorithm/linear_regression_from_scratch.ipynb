{
 "cells": [
  {
   "cell_type": "markdown",
   "metadata": {},
   "source": [
    "## Linear Models"
   ]
  },
  {
   "cell_type": "markdown",
   "metadata": {},
   "source": [
    "`Linear models are a class of models that are widely used in practice and have been\n",
    "studied extensively in the last few decades, with roots going back over a hundred\n",
    "years. Linear models make a prediction using a linear function of the input features\n",
    "and our goal is to fins the best straight lines that fits the data point\n",
    "For regression, the general prediction formula for a linear model looks as follows:\n",
    "ŷ = w[0] * x[0] + w[1] * x[1] + ... + w[p] * x[p] + b\n",
    "Here, x[0] to x[p] denotes the features (in this example, the number of features is p)\n",
    "of a single data point, w (model weights) and b (bias term) are parameters of the model that are learned, and ŷ is\n",
    "the prediction the model makes.\n",
    "`\n",
    "\n",
    "<img src='../../../images/lr.png'>"
   ]
  },
  {
   "cell_type": "markdown",
   "metadata": {},
   "source": [
    " ## How linear regression algrithm works\n",
    " \n",
    "<img src='../../../images/IMG_20200414_003459.jpg'>\n",
    " \n",
    "<img src='../../../images/IMG_20200414_004430.jpg'>\n",
    " \n",
    "<img src='../../../images/IMG_20200414_003933.jpg'>\n",
    " \n",
    "<img src='../../../images/IMG_20200414_004140.jpg'>"
   ]
  },
  {
   "cell_type": "markdown",
   "metadata": {},
   "source": [
    "## Gradient Descent"
   ]
  },
  {
   "cell_type": "markdown",
   "metadata": {},
   "source": [
    "<img src='../../../images/g1.jpg'>\n",
    "\n",
    "<img src='../../../images/g2.jpg'>\n",
    "\n",
    "<img src='../../../images/g3.jpg'>"
   ]
  },
  {
   "cell_type": "markdown",
   "metadata": {},
   "source": [
    "`gradient descent algorithm`\n",
    "\n",
    "<img src='../../../images/gd.png'>\n",
    "\n",
    "`for MSE loss function GD equation :`\n",
    "\n",
    "<img src='../../../images/gdlr.png'>\n",
    "\n",
    "`check this animation for GD to imagine how it works`\n",
    "\n",
    "<img src='../../../images/sgd.gif'>"
   ]
  },
  {
   "cell_type": "markdown",
   "metadata": {},
   "source": [
    "### Learning Rate efffect\n",
    "`\n",
    "we note that fitted line is not the best , for linear regression chaging training steps and learning rate may change the performance\n",
    "`\n",
    "<img src='../../../images/slr.png'>\n",
    "\n",
    "<img src='../../../images/biglr.png'>"
   ]
  },
  {
   "cell_type": "markdown",
   "metadata": {},
   "source": [
    "## linear regression in sklearn"
   ]
  },
  {
   "cell_type": "code",
   "execution_count": 75,
   "metadata": {},
   "outputs": [
    {
     "data": {
      "image/png": "[encoded data removed]",
      "text/plain": [
       "<Figure size 504x360 with 1 Axes>"
      ]
     },
     "metadata": {
      "needs_background": "light"
     },
     "output_type": "display_data"
    }
   ],
   "source": [
    "import numpy as np\n",
    "import matplotlib.pyplot as plt\n",
    "np.random.seed(0)\n",
    "x = 2 - 3 * np.random.normal(0, 1, 20)\n",
    "y = x - 2 * (x ** 2) + 0.5 * (x ** 3) + np.random.normal(-3, 3, 20)\n",
    "plt.figure(figsize=(7,5))\n",
    "plt.scatter(x,y,c='g')\n",
    "plt.title('Data Points')\n",
    "plt.xlabel('feature x')\n",
    "plt.ylabel('values y')\n",
    "plt.show()\n",
    "x=x.reshape(-1,1)"
   ]
  },
  {
   "cell_type": "code",
   "execution_count": 94,
   "metadata": {},
   "outputs": [
    {
     "name": "stdout",
     "output_type": "stream",
     "text": [
      "-- Epoch 1\n",
      "Norm: 4.78, NNZs: 1, Bias: -2.317171, T: 20, Avg. loss: 387.869674\n",
      "Total training time: 0.00 seconds.\n",
      "-- Epoch 2\n",
      "Norm: 5.82, NNZs: 1, Bias: -3.541504, T: 40, Avg. loss: 258.176105\n",
      "Total training time: 0.00 seconds.\n",
      "-- Epoch 3\n",
      "Norm: 6.40, NNZs: 1, Bias: -4.511417, T: 60, Avg. loss: 231.232114\n",
      "Total training time: 0.00 seconds.\n",
      "-- Epoch 4\n",
      "Norm: 6.85, NNZs: 1, Bias: -5.323732, T: 80, Avg. loss: 214.246052\n",
      "Total training time: 0.00 seconds.\n",
      "-- Epoch 5\n",
      "Norm: 7.00, NNZs: 1, Bias: -6.047138, T: 100, Avg. loss: 200.922443\n",
      "Total training time: 0.00 seconds.\n",
      "-- Epoch 6\n",
      "Norm: 7.12, NNZs: 1, Bias: -6.698035, T: 120, Avg. loss: 192.053377\n",
      "Total training time: 0.00 seconds.\n",
      "-- Epoch 7\n",
      "Norm: 7.20, NNZs: 1, Bias: -7.277312, T: 140, Avg. loss: 185.131001\n",
      "Total training time: 0.01 seconds.\n",
      "-- Epoch 8\n",
      "Norm: 7.31, NNZs: 1, Bias: -7.808713, T: 160, Avg. loss: 179.188712\n",
      "Total training time: 0.01 seconds.\n",
      "-- Epoch 9\n",
      "Norm: 7.34, NNZs: 1, Bias: -8.290368, T: 180, Avg. loss: 173.383003\n",
      "Total training time: 0.01 seconds.\n",
      "-- Epoch 10\n",
      "Norm: 7.40, NNZs: 1, Bias: -8.731180, T: 200, Avg. loss: 169.315018\n",
      "Total training time: 0.01 seconds.\n",
      "-- Epoch 11\n",
      "Norm: 7.42, NNZs: 1, Bias: -9.137871, T: 220, Avg. loss: 165.146328\n",
      "Total training time: 0.01 seconds.\n",
      "-- Epoch 12\n",
      "Norm: 7.48, NNZs: 1, Bias: -9.529266, T: 240, Avg. loss: 162.206424\n",
      "Total training time: 0.01 seconds.\n",
      "-- Epoch 13\n",
      "Norm: 7.55, NNZs: 1, Bias: -9.888263, T: 260, Avg. loss: 159.314546\n",
      "Total training time: 0.01 seconds.\n",
      "-- Epoch 14\n",
      "Norm: 7.59, NNZs: 1, Bias: -10.224205, T: 280, Avg. loss: 156.174861\n",
      "Total training time: 0.01 seconds.\n",
      "-- Epoch 15\n",
      "Norm: 7.59, NNZs: 1, Bias: -10.530482, T: 300, Avg. loss: 153.696459\n",
      "Total training time: 0.01 seconds.\n",
      "-- Epoch 16\n",
      "Norm: 7.65, NNZs: 1, Bias: -10.820228, T: 320, Avg. loss: 152.009337\n",
      "Total training time: 0.01 seconds.\n",
      "-- Epoch 17\n",
      "Norm: 7.67, NNZs: 1, Bias: -11.099886, T: 340, Avg. loss: 149.947389\n",
      "Total training time: 0.01 seconds.\n",
      "-- Epoch 18\n",
      "Norm: 7.68, NNZs: 1, Bias: -11.356967, T: 360, Avg. loss: 147.983650\n",
      "Total training time: 0.01 seconds.\n",
      "-- Epoch 19\n",
      "Norm: 7.68, NNZs: 1, Bias: -11.593226, T: 380, Avg. loss: 146.561857\n",
      "Total training time: 0.01 seconds.\n",
      "-- Epoch 20\n",
      "Norm: 7.70, NNZs: 1, Bias: -11.826887, T: 400, Avg. loss: 145.273286\n",
      "Total training time: 0.01 seconds.\n",
      "-- Epoch 21\n",
      "Norm: 7.72, NNZs: 1, Bias: -12.049311, T: 420, Avg. loss: 144.104582\n",
      "Total training time: 0.01 seconds.\n",
      "-- Epoch 22\n",
      "Norm: 7.79, NNZs: 1, Bias: -12.250251, T: 440, Avg. loss: 143.238722\n",
      "Total training time: 0.02 seconds.\n",
      "-- Epoch 23\n",
      "Norm: 7.78, NNZs: 1, Bias: -12.441526, T: 460, Avg. loss: 141.642794\n",
      "Total training time: 0.02 seconds.\n",
      "-- Epoch 24\n",
      "Norm: 7.78, NNZs: 1, Bias: -12.629724, T: 480, Avg. loss: 140.881641\n",
      "Total training time: 0.02 seconds.\n",
      "-- Epoch 25\n",
      "Norm: 7.79, NNZs: 1, Bias: -12.803485, T: 500, Avg. loss: 140.102532\n",
      "Total training time: 0.02 seconds.\n",
      "-- Epoch 26\n",
      "Norm: 7.81, NNZs: 1, Bias: -12.968650, T: 520, Avg. loss: 139.420967\n",
      "Total training time: 0.02 seconds.\n",
      "-- Epoch 27\n",
      "Norm: 7.80, NNZs: 1, Bias: -13.121998, T: 540, Avg. loss: 138.481413\n",
      "Total training time: 0.02 seconds.\n",
      "-- Epoch 28\n",
      "Norm: 7.82, NNZs: 1, Bias: -13.268981, T: 560, Avg. loss: 138.016892\n",
      "Total training time: 0.02 seconds.\n",
      "-- Epoch 29\n",
      "Norm: 7.82, NNZs: 1, Bias: -13.407878, T: 580, Avg. loss: 137.297171\n",
      "Total training time: 0.02 seconds.\n",
      "-- Epoch 30\n",
      "Norm: 7.83, NNZs: 1, Bias: -13.546092, T: 600, Avg. loss: 136.928177\n",
      "Total training time: 0.02 seconds.\n",
      "-- Epoch 31\n",
      "Norm: 7.86, NNZs: 1, Bias: -13.675311, T: 620, Avg. loss: 136.512866\n",
      "Total training time: 0.02 seconds.\n",
      "-- Epoch 32\n",
      "Norm: 7.87, NNZs: 1, Bias: -13.801051, T: 640, Avg. loss: 135.901375\n",
      "Total training time: 0.02 seconds.\n",
      "-- Epoch 33\n",
      "Norm: 7.87, NNZs: 1, Bias: -13.916828, T: 660, Avg. loss: 135.413662\n",
      "Total training time: 0.02 seconds.\n",
      "-- Epoch 34\n",
      "Norm: 7.90, NNZs: 1, Bias: -14.025126, T: 680, Avg. loss: 135.187418\n",
      "Total training time: 0.02 seconds.\n",
      "-- Epoch 35\n",
      "Norm: 7.90, NNZs: 1, Bias: -14.134036, T: 700, Avg. loss: 134.698472\n",
      "Total training time: 0.02 seconds.\n",
      "-- Epoch 36\n",
      "Norm: 7.90, NNZs: 1, Bias: -14.236542, T: 720, Avg. loss: 134.306849\n",
      "Total training time: 0.02 seconds.\n",
      "-- Epoch 37\n",
      "Norm: 7.91, NNZs: 1, Bias: -14.331425, T: 740, Avg. loss: 134.024289\n",
      "Total training time: 0.02 seconds.\n",
      "-- Epoch 38\n",
      "Norm: 7.91, NNZs: 1, Bias: -14.426205, T: 760, Avg. loss: 133.785069\n",
      "Total training time: 0.02 seconds.\n",
      "-- Epoch 39\n",
      "Norm: 7.92, NNZs: 1, Bias: -14.517989, T: 780, Avg. loss: 133.509014\n",
      "Total training time: 0.02 seconds.\n",
      "-- Epoch 40\n",
      "Norm: 7.96, NNZs: 1, Bias: -14.600821, T: 800, Avg. loss: 133.477238\n",
      "Total training time: 0.02 seconds.\n",
      "-- Epoch 41\n",
      "Norm: 7.95, NNZs: 1, Bias: -14.681671, T: 820, Avg. loss: 132.905238\n",
      "Total training time: 0.03 seconds.\n",
      "-- Epoch 42\n",
      "Norm: 7.95, NNZs: 1, Bias: -14.761874, T: 840, Avg. loss: 132.828764\n",
      "Total training time: 0.03 seconds.\n",
      "-- Epoch 43\n",
      "Norm: 7.95, NNZs: 1, Bias: -14.834884, T: 860, Avg. loss: 132.617165\n",
      "Total training time: 0.03 seconds.\n",
      "-- Epoch 44\n",
      "Norm: 7.96, NNZs: 1, Bias: -14.907235, T: 880, Avg. loss: 132.509022\n",
      "Total training time: 0.03 seconds.\n",
      "-- Epoch 45\n",
      "Norm: 7.95, NNZs: 1, Bias: -14.973904, T: 900, Avg. loss: 132.211349\n",
      "Total training time: 0.03 seconds.\n",
      "-- Epoch 46\n",
      "Norm: 7.96, NNZs: 1, Bias: -15.036768, T: 920, Avg. loss: 132.166713\n",
      "Total training time: 0.03 seconds.\n",
      "-- Epoch 47\n",
      "Norm: 7.96, NNZs: 1, Bias: -15.096544, T: 940, Avg. loss: 131.906217\n",
      "Total training time: 0.03 seconds.\n",
      "-- Epoch 48\n",
      "Norm: 7.97, NNZs: 1, Bias: -15.161413, T: 960, Avg. loss: 131.900687\n",
      "Total training time: 0.03 seconds.\n",
      "-- Epoch 49\n",
      "Norm: 7.98, NNZs: 1, Bias: -15.220581, T: 980, Avg. loss: 131.830871\n",
      "Total training time: 0.03 seconds.\n",
      "-- Epoch 50\n",
      "Norm: 7.99, NNZs: 1, Bias: -15.277758, T: 1000, Avg. loss: 131.611465\n",
      "Total training time: 0.03 seconds.\n",
      "-- Epoch 51\n",
      "Norm: 7.99, NNZs: 1, Bias: -15.328532, T: 1020, Avg. loss: 131.424127\n",
      "Total training time: 0.03 seconds.\n",
      "-- Epoch 52\n",
      "Norm: 8.01, NNZs: 1, Bias: -15.378824, T: 1040, Avg. loss: 131.466582\n",
      "Total training time: 0.03 seconds.\n",
      "-- Epoch 53\n",
      "Norm: 8.01, NNZs: 1, Bias: -15.431295, T: 1060, Avg. loss: 131.270227\n",
      "Total training time: 0.03 seconds.\n",
      "-- Epoch 54\n",
      "Norm: 8.00, NNZs: 1, Bias: -15.478273, T: 1080, Avg. loss: 131.145290\n",
      "Total training time: 0.03 seconds.\n",
      "-- Epoch 55\n",
      "Norm: 8.00, NNZs: 1, Bias: -15.519929, T: 1100, Avg. loss: 131.038032\n",
      "Total training time: 0.03 seconds.\n",
      "-- Epoch 56\n",
      "Norm: 8.01, NNZs: 1, Bias: -15.566574, T: 1120, Avg. loss: 131.021395\n",
      "Total training time: 0.03 seconds.\n",
      "-- Epoch 57\n",
      "Norm: 8.01, NNZs: 1, Bias: -15.612703, T: 1140, Avg. loss: 130.929307\n",
      "Total training time: 0.03 seconds.\n",
      "-- Epoch 58\n",
      "Norm: 8.04, NNZs: 1, Bias: -15.651149, T: 1160, Avg. loss: 131.034251\n",
      "Total training time: 0.03 seconds.\n",
      "-- Epoch 59\n",
      "Norm: 8.03, NNZs: 1, Bias: -15.688741, T: 1180, Avg. loss: 130.674290\n",
      "Total training time: 0.04 seconds.\n",
      "-- Epoch 60\n",
      "Norm: 8.03, NNZs: 1, Bias: -15.729488, T: 1200, Avg. loss: 130.711641\n",
      "Total training time: 0.04 seconds.\n",
      "-- Epoch 61\n",
      "Norm: 8.02, NNZs: 1, Bias: -15.765516, T: 1220, Avg. loss: 130.651422\n",
      "Total training time: 0.04 seconds.\n",
      "-- Epoch 62\n",
      "Norm: 8.03, NNZs: 1, Bias: -15.800451, T: 1240, Avg. loss: 130.655444\n",
      "Total training time: 0.04 seconds.\n",
      "-- Epoch 63\n",
      "Norm: 8.02, NNZs: 1, Bias: -15.831762, T: 1260, Avg. loss: 130.485291\n",
      "Total training time: 0.04 seconds.\n",
      "-- Epoch 64\n",
      "Norm: 8.03, NNZs: 1, Bias: -15.862808, T: 1280, Avg. loss: 130.519484\n",
      "Total training time: 0.04 seconds.\n",
      "-- Epoch 65\n",
      "Norm: 8.02, NNZs: 1, Bias: -15.892009, T: 1300, Avg. loss: 130.393762\n",
      "Total training time: 0.04 seconds.\n",
      "-- Epoch 66\n",
      "Norm: 8.03, NNZs: 1, Bias: -15.924304, T: 1320, Avg. loss: 130.444174\n",
      "Total training time: 0.04 seconds.\n",
      "-- Epoch 67\n",
      "Norm: 8.04, NNZs: 1, Bias: -15.953706, T: 1340, Avg. loss: 130.444829\n",
      "Total training time: 0.04 seconds.\n",
      "-- Epoch 68\n",
      "Norm: 8.05, NNZs: 1, Bias: -15.983831, T: 1360, Avg. loss: 130.341442\n",
      "Total training time: 0.04 seconds.\n",
      "-- Epoch 69\n",
      "Norm: 8.04, NNZs: 1, Bias: -16.010023, T: 1380, Avg. loss: 130.251475\n",
      "Total training time: 0.04 seconds.\n",
      "-- Epoch 70\n",
      "Norm: 8.06, NNZs: 1, Bias: -16.033744, T: 1400, Avg. loss: 130.316821\n",
      "Total training time: 0.04 seconds.\n",
      "-- Epoch 71\n",
      "Norm: 8.06, NNZs: 1, Bias: -16.060480, T: 1420, Avg. loss: 130.184280\n",
      "Total training time: 0.04 seconds.\n",
      "-- Epoch 72\n",
      "Norm: 8.05, NNZs: 1, Bias: -16.085243, T: 1440, Avg. loss: 130.144081\n",
      "Total training time: 0.04 seconds.\n",
      "-- Epoch 73\n",
      "Norm: 8.05, NNZs: 1, Bias: -16.106889, T: 1460, Avg. loss: 130.099513\n",
      "Total training time: 0.04 seconds.\n",
      "-- Epoch 74\n",
      "Norm: 8.06, NNZs: 1, Bias: -16.130713, T: 1480, Avg. loss: 130.119324\n",
      "Total training time: 0.04 seconds.\n",
      "-- Epoch 75\n",
      "Norm: 8.05, NNZs: 1, Bias: -16.154631, T: 1500, Avg. loss: 130.055854\n",
      "Total training time: 0.04 seconds.\n",
      "-- Epoch 76\n",
      "Norm: 8.08, NNZs: 1, Bias: -16.174057, T: 1520, Avg. loss: 130.182531\n",
      "Total training time: 0.04 seconds.\n",
      "-- Epoch 77\n",
      "Norm: 8.07, NNZs: 1, Bias: -16.193881, T: 1540, Avg. loss: 129.926238\n",
      "Total training time: 0.04 seconds.\n",
      "-- Epoch 78\n",
      "Norm: 8.07, NNZs: 1, Bias: -16.215116, T: 1560, Avg. loss: 130.003654\n",
      "Total training time: 0.04 seconds.\n",
      "-- Epoch 79\n",
      "Norm: 8.07, NNZs: 1, Bias: -16.232758, T: 1580, Avg. loss: 129.949342\n",
      "Total training time: 0.04 seconds.\n",
      "-- Epoch 80\n",
      "Norm: 8.07, NNZs: 1, Bias: -16.251619, T: 1600, Avg. loss: 129.975390\n",
      "Total training time: 0.04 seconds.\n",
      "-- Epoch 81\n",
      "Norm: 8.06, NNZs: 1, Bias: -16.267801, T: 1620, Avg. loss: 129.872233\n",
      "Total training time: 0.04 seconds.\n",
      "-- Epoch 82\n",
      "Norm: 8.07, NNZs: 1, Bias: -16.282644, T: 1640, Avg. loss: 129.925526\n",
      "Total training time: 0.04 seconds.\n",
      "-- Epoch 83\n",
      "Norm: 8.06, NNZs: 1, Bias: -16.296591, T: 1660, Avg. loss: 129.822094\n",
      "Total training time: 0.04 seconds.\n",
      "-- Epoch 84\n",
      "Norm: 8.07, NNZs: 1, Bias: -16.315813, T: 1680, Avg. loss: 129.888026\n",
      "Total training time: 0.04 seconds.\n",
      "-- Epoch 85\n",
      "Norm: 8.07, NNZs: 1, Bias: -16.331983, T: 1700, Avg. loss: 129.911944\n",
      "Total training time: 0.04 seconds.\n",
      "-- Epoch 86\n",
      "Norm: 8.08, NNZs: 1, Bias: -16.347877, T: 1720, Avg. loss: 129.839118\n",
      "Total training time: 0.04 seconds.\n",
      "-- Epoch 87\n",
      "Norm: 8.08, NNZs: 1, Bias: -16.360105, T: 1740, Avg. loss: 129.762749\n",
      "Total training time: 0.04 seconds.\n",
      "-- Epoch 88\n",
      "Norm: 8.09, NNZs: 1, Bias: -16.373088, T: 1760, Avg. loss: 129.847549\n",
      "Total training time: 0.04 seconds.\n",
      "-- Epoch 89\n",
      "Norm: 8.09, NNZs: 1, Bias: -16.388814, T: 1780, Avg. loss: 129.754916\n",
      "Total training time: 0.04 seconds.\n",
      "-- Epoch 90\n",
      "Norm: 8.08, NNZs: 1, Bias: -16.401350, T: 1800, Avg. loss: 129.732510\n",
      "Total training time: 0.04 seconds.\n",
      "-- Epoch 91\n",
      "Norm: 8.08, NNZs: 1, Bias: -16.410737, T: 1820, Avg. loss: 129.689626\n",
      "Total training time: 0.04 seconds.\n",
      "-- Epoch 92\n",
      "Norm: 8.08, NNZs: 1, Bias: -16.424983, T: 1840, Avg. loss: 129.728189\n",
      "Total training time: 0.04 seconds.\n",
      "-- Epoch 93\n",
      "Norm: 8.08, NNZs: 1, Bias: -16.439783, T: 1860, Avg. loss: 129.692028\n",
      "Total training time: 0.04 seconds.\n",
      "-- Epoch 94\n",
      "Norm: 8.11, NNZs: 1, Bias: -16.449399, T: 1880, Avg. loss: 129.820635\n",
      "Total training time: 0.04 seconds.\n",
      "-- Epoch 95\n",
      "Norm: 8.10, NNZs: 1, Bias: -16.459174, T: 1900, Avg. loss: 129.588852\n",
      "Total training time: 0.04 seconds.\n",
      "-- Epoch 96\n",
      "Norm: 8.09, NNZs: 1, Bias: -16.472276, T: 1920, Avg. loss: 129.655151\n",
      "Total training time: 0.05 seconds.\n",
      "-- Epoch 97\n",
      "Norm: 8.09, NNZs: 1, Bias: -16.482367, T: 1940, Avg. loss: 129.635287\n",
      "Total training time: 0.06 seconds.\n",
      "-- Epoch 98\n",
      "Norm: 8.10, NNZs: 1, Bias: -16.492347, T: 1960, Avg. loss: 129.672008\n",
      "Total training time: 0.06 seconds.\n",
      "-- Epoch 99\n",
      "Norm: 8.09, NNZs: 1, Bias: -16.500151, T: 1980, Avg. loss: 129.573987\n",
      "Total training time: 0.06 seconds.\n",
      "-- Epoch 100\n",
      "Norm: 8.09, NNZs: 1, Bias: -16.508427, T: 2000, Avg. loss: 129.624743\n",
      "Total training time: 0.06 seconds.\n",
      "-- Epoch 101\n",
      "Norm: 8.09, NNZs: 1, Bias: -16.515851, T: 2020, Avg. loss: 129.552878\n",
      "Total training time: 0.06 seconds.\n",
      "-- Epoch 102\n",
      "Norm: 8.09, NNZs: 1, Bias: -16.526405, T: 2040, Avg. loss: 129.615553\n",
      "Total training time: 0.06 seconds.\n",
      "-- Epoch 103\n",
      "Norm: 8.09, NNZs: 1, Bias: -16.535207, T: 2060, Avg. loss: 129.638215\n",
      "Total training time: 0.06 seconds.\n",
      "-- Epoch 104\n",
      "Norm: 8.10, NNZs: 1, Bias: -16.545184, T: 2080, Avg. loss: 129.586540\n",
      "Total training time: 0.06 seconds.\n",
      "-- Epoch 105\n",
      "Norm: 8.10, NNZs: 1, Bias: -16.552536, T: 2100, Avg. loss: 129.534371\n",
      "Total training time: 0.06 seconds.\n",
      "-- Epoch 106\n",
      "Norm: 8.11, NNZs: 1, Bias: -16.558392, T: 2120, Avg. loss: 129.606200\n",
      "Total training time: 0.06 seconds.\n",
      "-- Epoch 107\n",
      "Norm: 8.10, NNZs: 1, Bias: -16.567200, T: 2140, Avg. loss: 129.516228\n",
      "Total training time: 0.06 seconds.\n",
      "-- Epoch 108\n",
      "Norm: 8.10, NNZs: 1, Bias: -16.574921, T: 2160, Avg. loss: 129.508971\n",
      "Total training time: 0.06 seconds.\n",
      "-- Epoch 109\n",
      "Norm: 8.10, NNZs: 1, Bias: -16.580537, T: 2180, Avg. loss: 129.483465\n",
      "Total training time: 0.06 seconds.\n",
      "-- Epoch 110\n",
      "Norm: 8.10, NNZs: 1, Bias: -16.588398, T: 2200, Avg. loss: 129.519983\n",
      "Total training time: 0.06 seconds.\n",
      "-- Epoch 111\n",
      "Norm: 8.10, NNZs: 1, Bias: -16.596802, T: 2220, Avg. loss: 129.477835\n",
      "Total training time: 0.06 seconds.\n",
      "-- Epoch 112\n",
      "Norm: 8.12, NNZs: 1, Bias: -16.601910, T: 2240, Avg. loss: 129.597588\n",
      "Total training time: 0.06 seconds.\n",
      "-- Epoch 113\n",
      "Norm: 8.11, NNZs: 1, Bias: -16.607735, T: 2260, Avg. loss: 129.404859\n",
      "Total training time: 0.06 seconds.\n",
      "-- Epoch 114\n",
      "Norm: 8.11, NNZs: 1, Bias: -16.615132, T: 2280, Avg. loss: 129.482772\n",
      "Total training time: 0.06 seconds.\n",
      "-- Epoch 115\n",
      "Norm: 8.11, NNZs: 1, Bias: -16.619908, T: 2300, Avg. loss: 129.445966\n",
      "Total training time: 0.06 seconds.\n",
      "-- Epoch 116\n",
      "Norm: 8.11, NNZs: 1, Bias: -16.626064, T: 2320, Avg. loss: 129.478125\n",
      "Total training time: 0.06 seconds.\n",
      "-- Epoch 117\n",
      "Norm: 8.10, NNZs: 1, Bias: -16.630336, T: 2340, Avg. loss: 129.406526\n",
      "Total training time: 0.07 seconds.\n",
      "-- Epoch 118\n",
      "Norm: 8.11, NNZs: 1, Bias: -16.633818, T: 2360, Avg. loss: 129.459344\n",
      "Total training time: 0.07 seconds.\n",
      "Convergence after 118 epochs took 0.07 seconds\n"
     ]
    },
    {
     "data": {
      "text/plain": [
       "SGDRegressor(alpha=0.0001, average=False, early_stopping=False, epsilon=0.1,\n",
       "             eta0=0.01, fit_intercept=True, l1_ratio=0.15,\n",
       "             learning_rate='invscaling', loss='squared_loss', max_iter=1000,\n",
       "             n_iter_no_change=5, penalty='l2', power_t=0.25, random_state=None,\n",
       "             shuffle=True, tol=0.001, validation_fraction=0.1, verbose=1,\n",
       "             warm_start=False)"
      ]
     },
     "execution_count": 94,
     "metadata": {},
     "output_type": "execute_result"
    }
   ],
   "source": [
    "# import linear regression module from sklearn\n",
    "from sklearn.linear_model import SGDRegressor\n",
    "model=SGDRegressor(verbose=1) # new regressor object from SGDRegressor() class\n",
    "model.fit(x,y) # fit >>> start training to find best params"
   ]
  },
  {
   "cell_type": "code",
   "execution_count": 53,
   "metadata": {},
   "outputs": [
    {
     "name": "stdout",
     "output_type": "stream",
     "text": [
      "theta_0 [-16.56723334]\n",
      "theta_1 [8.24472348]\n"
     ]
    }
   ],
   "source": [
    "# show model coefs\n",
    "print(\"theta_0\",model.intercept_)\n",
    "print(\"theta_1\",model.coef_)"
   ]
  },
  {
   "cell_type": "code",
   "execution_count": 87,
   "metadata": {},
   "outputs": [
    {
     "data": {
      "image/png": "[encoded data removed]",
      "text/plain": [
       "<Figure size 432x288 with 1 Axes>"
      ]
     },
     "metadata": {
      "needs_background": "light"
     },
     "output_type": "display_data"
    }
   ],
   "source": [
    "# plot model predictions vs actual values\n",
    "y_pred=model.predict(x)\n",
    "plt.scatter(x,y,label='data points',color='g')\n",
    "plt.plot(x,y_pred,color='r',label='prediction')\n",
    "plt.legend() # show legend\n",
    "plt.show()"
   ]
  },
  {
   "cell_type": "code",
   "execution_count": 83,
   "metadata": {},
   "outputs": [
    {
     "name": "stdout",
     "output_type": "stream",
     "text": [
      "MSE error for this model 253.13331255362203\n"
     ]
    }
   ],
   "source": [
    "# to evaluate linear regression model we may need to compute MSE error\n",
    "from sklearn.metrics import mean_squared_error\n",
    "error=mean_squared_error(y_true=y,y_pred=y_pred)\n",
    "print(\"MSE error for this model\",error)"
   ]
  },
  {
   "cell_type": "markdown",
   "metadata": {},
   "source": [
    "### feature engineering , how to develop good linear model\n",
    "\n",
    "`in previous model , we note that it is suffering from an underfitting problem where straight line is not enough to learn from the data, to solve this we may need`\n",
    "`to increase model complexity (increase model features)`"
   ]
  },
  {
   "cell_type": "markdown",
   "metadata": {},
   "source": [
    "<img src='../../../images/lr_poly.png'>"
   ]
  },
  {
   "cell_type": "code",
   "execution_count": 92,
   "metadata": {},
   "outputs": [],
   "source": [
    "from sklearn.preprocessing import PolynomialFeatures\n",
    "polynomial_features= PolynomialFeatures(degree=2,include_bias=False)\n",
    "x_poly = polynomial_features.fit_transform(x) # check https://scikit-learn.org/stable/modules/generated/sklearn.preprocessing.PolynomialFeatures.html"
   ]
  },
  {
   "cell_type": "code",
   "execution_count": 93,
   "metadata": {},
   "outputs": [
    {
     "data": {
      "text/plain": [
       "array([[-3.29215704, 10.83829796],\n",
       "       [ 0.79952837,  0.63924562],\n",
       "       [-0.93621395,  0.87649656],\n",
       "       [-4.7226796 , 22.30370258],\n",
       "       [-3.60267397, 12.97925974],\n",
       "       [ 4.93183364, 24.32298305],\n",
       "       [-0.85026525,  0.722951  ],\n",
       "       [ 2.45407162,  6.02246754],\n",
       "       [ 2.30965656,  5.3345134 ],\n",
       "       [ 0.76820449,  0.59013814],\n",
       "       [ 1.56786929,  2.4582141 ],\n",
       "       [-2.36282052,  5.58292081],\n",
       "       [-0.28311318,  0.08015307],\n",
       "       [ 1.63497495,  2.67314309],\n",
       "       [ 0.6684103 ,  0.44677233],\n",
       "       [ 0.99897702,  0.99795508],\n",
       "       [-2.48223722,  6.16150161],\n",
       "       [ 2.61547479,  6.84070838],\n",
       "       [ 1.0607969 ,  1.12529005],\n",
       "       [ 4.56228722, 20.81446466]])"
      ]
     },
     "execution_count": 93,
     "metadata": {},
     "output_type": "execute_result"
    }
   ],
   "source": [
    "# check new features\n",
    "x_poly"
   ]
  },
  {
   "cell_type": "code",
   "execution_count": 95,
   "metadata": {},
   "outputs": [
    {
     "name": "stdout",
     "output_type": "stream",
     "text": [
      "-- Epoch 1\n",
      "Norm: 8.55, NNZs: 2, Bias: 0.331560, T: 20, Avg. loss: 7152.014389\n",
      "Total training time: 0.00 seconds.\n",
      "-- Epoch 2\n",
      "Norm: 9.88, NNZs: 2, Bias: -1.413753, T: 40, Avg. loss: 8899.636525\n",
      "Total training time: 0.00 seconds.\n",
      "-- Epoch 3\n",
      "Norm: 9.04, NNZs: 2, Bias: -1.726467, T: 60, Avg. loss: 128.442223\n",
      "Total training time: 0.00 seconds.\n",
      "-- Epoch 4\n",
      "Norm: 9.31, NNZs: 2, Bias: -2.006758, T: 80, Avg. loss: 60.803201\n",
      "Total training time: 0.00 seconds.\n",
      "-- Epoch 5\n",
      "Norm: 8.89, NNZs: 2, Bias: -2.060748, T: 100, Avg. loss: 153.918865\n",
      "Total training time: 0.00 seconds.\n",
      "-- Epoch 6\n",
      "Norm: 9.22, NNZs: 2, Bias: -2.054527, T: 120, Avg. loss: 178.322511\n",
      "Total training time: 0.00 seconds.\n",
      "-- Epoch 7\n",
      "Norm: 9.54, NNZs: 2, Bias: -2.247960, T: 140, Avg. loss: 75.705856\n",
      "Total training time: 0.01 seconds.\n",
      "-- Epoch 8\n",
      "Norm: 8.42, NNZs: 2, Bias: -2.330087, T: 160, Avg. loss: 63.376894\n",
      "Total training time: 0.01 seconds.\n",
      "-- Epoch 9\n",
      "Norm: 8.59, NNZs: 2, Bias: -2.461246, T: 180, Avg. loss: 90.149258\n",
      "Total training time: 0.01 seconds.\n",
      "Convergence after 9 epochs took 0.01 seconds\n"
     ]
    },
    {
     "data": {
      "text/plain": [
       "SGDRegressor(alpha=0.0001, average=False, early_stopping=False, epsilon=0.1,\n",
       "             eta0=0.01, fit_intercept=True, l1_ratio=0.15,\n",
       "             learning_rate='invscaling', loss='squared_loss', max_iter=1000,\n",
       "             n_iter_no_change=5, penalty='l2', power_t=0.25, random_state=None,\n",
       "             shuffle=True, tol=0.001, validation_fraction=0.1, verbose=1,\n",
       "             warm_start=False)"
      ]
     },
     "execution_count": 95,
     "metadata": {},
     "output_type": "execute_result"
    }
   ],
   "source": [
    "model2=SGDRegressor(verbose=1)\n",
    "model2.fit(x_poly,y)"
   ]
  },
  {
   "cell_type": "code",
   "execution_count": 97,
   "metadata": {},
   "outputs": [
    {
     "name": "stdout",
     "output_type": "stream",
     "text": [
      "theta_0 [-2.46124631]\n",
      "theta_1 [ 8.43941184 -1.6216697 ]\n"
     ]
    }
   ],
   "source": [
    "# show model coefs\n",
    "print(\"theta_0\",model2.intercept_)\n",
    "print(\"theta_1\",model2.coef_)"
   ]
  },
  {
   "cell_type": "code",
   "execution_count": 138,
   "metadata": {},
   "outputs": [
    {
     "data": {
      "image/png": "[encoded data removed]",
      "text/plain": [
       "<Figure size 432x288 with 1 Axes>"
      ]
     },
     "metadata": {
      "needs_background": "light"
     },
     "output_type": "display_data"
    }
   ],
   "source": [
    "# plot model2 predictions vs actual values\n",
    "y_pred2=model2.predict(x_poly)\n",
    "plt.scatter(x,y,label='data points',color='g')\n",
    "plt.plot(x,y_pred2,linestyle='--', marker='o',color='r',label='prediction')\n",
    "plt.legend() # show legend\n",
    "plt.show()"
   ]
  }
 ],
 "metadata": {
  "kernelspec": {
   "display_name": "Python 3",
   "language": "python",
   "name": "python3"
  },
  "language_info": {
   "codemirror_mode": {
    "name": "ipython",
    "version": 3
   },
   "file_extension": ".py",
   "mimetype": "text/x-python",
   "name": "python",
   "nbconvert_exporter": "python",
   "pygments_lexer": "ipython3",
   "version": "3.6.8"
  }
 },
 "nbformat": 4,
 "nbformat_minor": 2
}
