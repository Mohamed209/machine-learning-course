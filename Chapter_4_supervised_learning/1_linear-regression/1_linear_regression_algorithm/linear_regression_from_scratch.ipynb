{
 "cells": [
  {
   "cell_type": "markdown",
   "metadata": {},
   "source": [
    "## Linear Models"
   ]
  },
  {
   "cell_type": "markdown",
   "metadata": {},
   "source": [
    "`Linear models are a class of models that are widely used in practice and have been\n",
    "studied extensively in the last few decades, with roots going back over a hundred\n",
    "years. Linear models make a prediction using a linear function of the input features\n",
    "and our goal is to fins the best straight lines that fits the data point\n",
    "For regression, the general prediction formula for a linear model looks as follows:\n",
    "ŷ = w[0] * x[0] + w[1] * x[1] + ... + w[p] * x[p] + b\n",
    "Here, x[0] to x[p] denotes the features (in this example, the number of features is p)\n",
    "of a single data point, w (model weights) and b (bias term) are parameters of the model that are learned, and ŷ is\n",
    "the prediction the model makes.\n",
    "`\n",
    "\n",
    "<img src='../../../images/lr.png'>"
   ]
  },
  {
   "cell_type": "markdown",
   "metadata": {},
   "source": [
    " ## How linear regression algrithm works\n",
    " \n",
    " <img src='../../../images/IMG_20200414_003459.jpg'>\n",
    " \n",
    " <img src='../../../images/IMG_20200414_004430.jpg'>\n",
    " \n",
    " <img src='../../../images/IMG_20200414_003933.jpg'>\n",
    " \n",
    " <img src='../../../images/IMG_20200414_004140.jpg'>"
   ]
  },
  {
   "cell_type": "markdown",
   "metadata": {},
   "source": [
    "## Gradient Descent"
   ]
  },
  {
   "cell_type": "markdown",
   "metadata": {},
   "source": [
    "<img src='../../../images/g1.jpg'>\n",
    "<img src='../../../images/g2.jpg'>\n",
    "<img src='../../../images/g3.jpg'>"
   ]
  },
  {
   "cell_type": "markdown",
   "metadata": {},
   "source": [
    "`gradient descent algorithm`\n",
    "\n",
    "<img src='../../../images/gd.png'>\n",
    "\n",
    "`for MSE loss function GD equation :`\n",
    "\n",
    "<img src='../../../images/gdlr.png'>\n",
    "\n",
    "`check this animation for GD to imagine how it works`\n",
    "\n",
    "<img src='../../../images/sgd.gif'>"
   ]
  },
  {
   "cell_type": "markdown",
   "metadata": {},
   "source": [
    "### Learning Rate efffect\n",
    "`\n",
    "we note that fitted line is not the best , for linear regression chaging training steps and learning rate may change the performance\n",
    "`\n",
    "<img src='../../../images/slr.png'>\n",
    "\n",
    "<img src='../../../images/biglr.png'>"
   ]
  }
 ],
 "metadata": {
  "kernelspec": {
   "display_name": "Python 3",
   "language": "python",
   "name": "python3"
  },
  "language_info": {
   "codemirror_mode": {
    "name": "ipython",
    "version": 3
   },
   "file_extension": ".py",
   "mimetype": "text/x-python",
   "name": "python",
   "nbconvert_exporter": "python",
   "pygments_lexer": "ipython3",
   "version": "3.6.8"
  }
 },
 "nbformat": 4,
 "nbformat_minor": 2
}
