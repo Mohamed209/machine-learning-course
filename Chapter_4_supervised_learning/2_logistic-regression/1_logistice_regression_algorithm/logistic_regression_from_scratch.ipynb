{
 "cells": [
  {
   "cell_type": "markdown",
   "metadata": {},
   "source": [
    "### Logistic Regression\n",
    "\n",
    "`Logistic Regression (also called Logit Regression) is commonly used to estimate the probability that an instance belongs to a particular class\n",
    "(e.g., what is the probability that this email is spam?). If the estimated probability is\n",
    "greater than 50%, then the model predicts that the instance belongs to that class\n",
    "(called the positive class, labeled “1”), or else it predicts that it does not (i.e., it\n",
    "belongs to the negative class, labeled “0”). This makes it a binary classifier.\n",
    "`\n",
    "<img src='../../../images/regression.png'>"
   ]
  },
  {
   "cell_type": "markdown",
   "metadata": {},
   "source": [
    "### logistice regresion equation\n",
    "\n",
    "<img src='../../../images/logistic_h.png'>"
   ]
  },
  {
   "cell_type": "markdown",
   "metadata": {},
   "source": [
    "`y_prediction = 0 if p < 0 . 5,\n",
    "y_prediction = 1 if p ≥ 0 . 5 \n",
    "`"
   ]
  },
  {
   "attachments": {},
   "cell_type": "markdown",
   "metadata": {},
   "source": [
    "### logistic regression loss function\n",
    "\n",
    "`In order to develop complete understanding, we need to understand\n",
    "concepts in the following order: Surprisal, Entropy, Cross-Entropy, Cross Entropy Loss\n",
    "`\n",
    "<img src='../../../images/sur.png'>\n",
    "\n",
    "`weighted average of surprisal is nothing but Entropy (e) `\n",
    "\n",
    "<img src='../../../images/entropy.png'>\n",
    "\n",
    "<img src='../../../images/download.png'>\n",
    "\n",
    "`check attached link to understand and imagine how cross entropy works`\n",
    "\n",
    "https://www.desmos.com/calculator/zytm2sf56e"
   ]
  },
  {
   "cell_type": "markdown",
   "metadata": {},
   "source": [
    "`And in the case of binary classi cation problem where we have only two\n",
    "classes, we name it as binary cross-entropy loss and above formula\n",
    "becomes:\n",
    "`\n",
    "<img src='../../../images/Image [16].png'>"
   ]
  }
 ],
 "metadata": {
  "kernelspec": {
   "display_name": "Python 3",
   "language": "python",
   "name": "python3"
  },
  "language_info": {
   "codemirror_mode": {
    "name": "ipython",
    "version": 3
   },
   "file_extension": ".py",
   "mimetype": "text/x-python",
   "name": "python",
   "nbconvert_exporter": "python",
   "pygments_lexer": "ipython3",
   "version": "3.6.9"
  }
 },
 "nbformat": 4,
 "nbformat_minor": 2
}
