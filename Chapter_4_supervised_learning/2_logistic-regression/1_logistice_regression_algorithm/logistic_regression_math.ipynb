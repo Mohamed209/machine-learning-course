{
 "cells": [
  {
   "cell_type": "markdown",
   "metadata": {},
   "source": [
    "### Logistic Regression\n",
    "\n",
    "`Logistic Regression (also called Logit Regression) is commonly used to estimate the probability that an instance belongs to a particular class\n",
    "(e.g., what is the probability that this email is spam?). If the estimated probability is\n",
    "greater than 50%, then the model predicts that the instance belongs to that class\n",
    "(called the positive class, labeled “1”), or else it predicts that it does not (i.e., it\n",
    "belongs to the negative class, labeled “0”). This makes it a binary classifier.\n",
    "`\n",
    "<img src='../../../images/regression.png'>"
   ]
  },
  {
   "cell_type": "markdown",
   "metadata": {},
   "source": [
    "## logistice regression explanation\n",
    "\n",
    "\n",
    "<img src='../../../images/logr1.jpg'>\n",
    "<img src='../../../images/logr2.jpg'>\n",
    "<img src='../../../images/logr3.jpg'>\n",
    "<img src='../../../images/logr4.jpg'>\n",
    "<img src='../../../images/logr5.jpg'>\n",
    "<img src='../../../images/logr6.jpg'>\n",
    "<img src='../../../images/logr7.jpg'>\n",
    "<img src='../../../images/logr8.jpg'>"
   ]
  },
  {
   "cell_type": "code",
   "execution_count": null,
   "metadata": {},
   "outputs": [],
   "source": [
    "#               bird horse cat\n",
    "# p_true =      0    1     0\n",
    "# p_predicted = 0.8 0.1 0.1\n",
    "\n",
    "# after thres 50\n",
    "# final_p       1  0  0\n",
    "\n",
    "# good case\n",
    "#               0.15 0.7 0.15 >>>> CE=0.1"
   ]
  }
 ],
 "metadata": {
  "kernelspec": {
   "display_name": "Python 3",
   "language": "python",
   "name": "python3"
  },
  "language_info": {
   "codemirror_mode": {
    "name": "ipython",
    "version": 3
   },
   "file_extension": ".py",
   "mimetype": "text/x-python",
   "name": "python",
   "nbconvert_exporter": "python",
   "pygments_lexer": "ipython3",
   "version": "3.6.8"
  }
 },
 "nbformat": 4,
 "nbformat_minor": 2
}
