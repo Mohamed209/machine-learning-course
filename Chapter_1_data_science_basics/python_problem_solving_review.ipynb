{
 "cells": [
  {
   "cell_type": "markdown",
   "metadata": {},
   "source": [
    "#### 1. Write a python function zer_pad(array) which accepts numpy array and add a border (filled with 0's) around the\n",
    "    \n",
    "####    Original array:\n",
    "    \n",
    "    [[ 1. 1. 1.]\n",
    "    \n",
    "    [ 1. 1. 1.]\n",
    "    \n",
    "    [ 1. 1. 1.]]\n",
    "    \n",
    "####    1 on the border and 0 inside in the array\n",
    "    \n",
    "    [[ 0. 0. 0. 0. 0.]\n",
    "    \n",
    "    [ 0. 1. 1. 1. 0.]\n",
    "    \n",
    "    [ 0. 1. 1. 1. 0.]\n",
    "    \n",
    "    [ 0. 1. 1. 1. 0.]\n",
    "    \n",
    "    [ 0. 0. 0. 0. 0.]]"
   ]
  },
  {
   "cell_type": "code",
   "execution_count": 7,
   "metadata": {},
   "outputs": [],
   "source": [
    "# solution\n",
    "def zero_pad(array):\n",
    "    \"\"\"\n",
    "    function to pad/ add border of zeros around input array\n",
    "    \"\"\"\n",
    "    # add new row at the end of the array\n",
    "    array=np.append(array,np.zeros(array.shape[1]).reshape(1,-1),axis=0)\n",
    "    array=np.insert(array,0,np.zeros(array.shape[1]).reshape(1,-1),axis=0)\n",
    "    array=np.append(array,np.zeros(array.shape[0]).reshape(-1,1),axis=1)\n",
    "    array=np.insert(array,0,np.zeros(array.shape[0]).reshape(1,-1),axis=1)\n",
    "    return array"
   ]
  },
  {
   "cell_type": "code",
   "execution_count": 8,
   "metadata": {},
   "outputs": [
    {
     "data": {
      "text/plain": [
       "'original array'"
      ]
     },
     "metadata": {},
     "output_type": "display_data"
    },
    {
     "data": {
      "text/plain": [
       "array([[1., 1., 1., 1., 1., 1., 1.],\n",
       "       [1., 1., 1., 1., 1., 1., 1.],\n",
       "       [1., 1., 1., 1., 1., 1., 1.],\n",
       "       [1., 1., 1., 1., 1., 1., 1.],\n",
       "       [1., 1., 1., 1., 1., 1., 1.],\n",
       "       [1., 1., 1., 1., 1., 1., 1.],\n",
       "       [1., 1., 1., 1., 1., 1., 1.]])"
      ]
     },
     "metadata": {},
     "output_type": "display_data"
    },
    {
     "data": {
      "text/plain": [
       "'after padding '"
      ]
     },
     "metadata": {},
     "output_type": "display_data"
    },
    {
     "data": {
      "text/plain": [
       "array([[0., 0., 0., 0., 0., 0., 0., 0., 0.],\n",
       "       [0., 1., 1., 1., 1., 1., 1., 1., 0.],\n",
       "       [0., 1., 1., 1., 1., 1., 1., 1., 0.],\n",
       "       [0., 1., 1., 1., 1., 1., 1., 1., 0.],\n",
       "       [0., 1., 1., 1., 1., 1., 1., 1., 0.],\n",
       "       [0., 1., 1., 1., 1., 1., 1., 1., 0.],\n",
       "       [0., 1., 1., 1., 1., 1., 1., 1., 0.],\n",
       "       [0., 1., 1., 1., 1., 1., 1., 1., 0.],\n",
       "       [0., 0., 0., 0., 0., 0., 0., 0., 0.]])"
      ]
     },
     "metadata": {},
     "output_type": "display_data"
    }
   ],
   "source": [
    "import numpy as np\n",
    "from IPython.display import display\n",
    "a=np.ones(shape=(7,7))\n",
    "display('original array',a)\n",
    "display('after padding ',zero_pad(a))"
   ]
  },
  {
   "cell_type": "markdown",
   "metadata": {},
   "source": [
    "#### 2. write a function that accepts square numpy array with even shape and produce its center sub matrix\n",
    "\n",
    "####    for example  \n",
    "    \n",
    "       [[7, 3, 7, 6, 2, 5],\n",
    "       [9, 9, 9, 6, 1, 5],\n",
    "       [7, 4, 4, 9, 3, 7],\n",
    "       [7, 8, 1, 9, 3, 1],\n",
    "       [5, 2, 8, 1, 1, 9],\n",
    "       [8, 8, 5, 1, 3, 6]]\n",
    "    \n",
    "####    the function should return \n",
    "    \n",
    "        [[4,9\n",
    "          1,9]]"
   ]
  },
  {
   "cell_type": "code",
   "execution_count": 9,
   "metadata": {},
   "outputs": [],
   "source": [
    "def center_matrix(array):\n",
    "    \"\"\"\n",
    "    return square matrix center sub matrix\n",
    "    \"\"\"\n",
    "    return array[array.shape[0]//2-1:array.shape[0]//2+1,array.shape[0]//2-1:array.shape[0]//2+1]"
   ]
  },
  {
   "cell_type": "code",
   "execution_count": 10,
   "metadata": {},
   "outputs": [
    {
     "data": {
      "text/plain": [
       "'original array'"
      ]
     },
     "metadata": {},
     "output_type": "display_data"
    },
    {
     "data": {
      "text/plain": [
       "array([[2, 9, 5, 2, 7, 3],\n",
       "       [9, 7, 7, 8, 6, 5],\n",
       "       [9, 8, 7, 5, 2, 4],\n",
       "       [1, 5, 9, 7, 3, 3],\n",
       "       [8, 3, 9, 4, 9, 6],\n",
       "       [3, 3, 6, 4, 5, 5]])"
      ]
     },
     "metadata": {},
     "output_type": "display_data"
    },
    {
     "data": {
      "text/plain": [
       "'center matrix'"
      ]
     },
     "metadata": {},
     "output_type": "display_data"
    },
    {
     "data": {
      "text/plain": [
       "array([[7, 5],\n",
       "       [9, 7]])"
      ]
     },
     "metadata": {},
     "output_type": "display_data"
    }
   ],
   "source": [
    "a=np.random.randint(low=1,high=10,size=(6,6))\n",
    "display('original array',a)\n",
    "display('center matrix',center_matrix(a))"
   ]
  },
  {
   "cell_type": "markdown",
   "metadata": {},
   "source": [
    "#### 3.  Anagram arrays\n",
    "\n",
    "    Examples :\n",
    "    Input  :  arr1[] = {1, 5, 7, -1, 5}, arr2[] = {5, 5, 1, -1, 7}\n",
    "              \n",
    "    Output : True\n",
    "\n",
    "    Input  :  arr2[] = {2, 5, 17, -1}, arr2[] = {2, 5, 170, -1}\n",
    "    Output :  False"
   ]
  },
  {
   "cell_type": "code",
   "execution_count": 11,
   "metadata": {},
   "outputs": [],
   "source": [
    "def anagram(arr1, arr2):\n",
    "    return True if sum(arr1) == sum(arr2) else False"
   ]
  },
  {
   "cell_type": "code",
   "execution_count": 12,
   "metadata": {},
   "outputs": [
    {
     "data": {
      "text/plain": [
       "True"
      ]
     },
     "metadata": {},
     "output_type": "display_data"
    },
    {
     "data": {
      "text/plain": [
       "False"
      ]
     },
     "metadata": {},
     "output_type": "display_data"
    }
   ],
   "source": [
    "display(anagram([1, 5, 7, -1, 5],[5, 5, 1, -1, 7]))\n",
    "display(anagram([2, 5, 17, -1],[2, 5, 170, -1]))"
   ]
  },
  {
   "cell_type": "markdown",
   "metadata": {},
   "source": [
    "#### 4. equal frequencies\n",
    "    \n",
    "    assume we have an unsorted input array \n",
    "    \n",
    "    Input : [1, 1, 1, 5, 5, 3, 1, 3, 3, 1,4, 4, 4, 2, 2, 2, 2]\n",
    "    \n",
    "    we need to make a new array where each element appears as many as max apperance in the input array\n",
    "    \n",
    "    example : for previous Input , the output should be\n",
    "    \n",
    "    Output =[1, 1, 1, 5, 5, 3, 1, 3, 3, 1,4, 4, 4, 2, 2, 2, 2, 5, 5, 5, 3, 3, 4, 4 ,2]\n",
    "    \n",
    "    "
   ]
  },
  {
   "cell_type": "code",
   "execution_count": 13,
   "metadata": {},
   "outputs": [],
   "source": [
    "# solution\n",
    "\n",
    "def equal_freq(array):\n",
    "    # make dict of apperance\n",
    "    freq = {}\n",
    "    for item in array:\n",
    "        if item in freq:\n",
    "            freq[item] += 1\n",
    "        else:\n",
    "            freq[item] = 1\n",
    "    max_freq = max(freq.values())\n",
    "    for key in freq:\n",
    "        if freq[key] < max_freq:\n",
    "            array.extend([key]*(max_freq - freq[key]))\n",
    "    return array"
   ]
  },
  {
   "cell_type": "code",
   "execution_count": 14,
   "metadata": {},
   "outputs": [
    {
     "data": {
      "text/plain": [
       "[1, 1, 1, 2, 2, 2]"
      ]
     },
     "metadata": {},
     "output_type": "display_data"
    },
    {
     "data": {
      "text/plain": [
       "[1, 1, 1, 5, 5, 3, 1, 3, 3, 1, 4, 4, 4, 2, 2, 2, 2, 5, 5, 5, 3, 3, 4, 4, 2]"
      ]
     },
     "metadata": {},
     "output_type": "display_data"
    }
   ],
   "source": [
    "display(equal_freq([1, 1, 1, 2]))\n",
    "display(equal_freq([1, 1, 1, 5, 5, 3, 1, 3, 3, 1,4, 4, 4, 2, 2, 2, 2]))"
   ]
  },
  {
   "cell_type": "markdown",
   "metadata": {},
   "source": [
    "#### 5.Arrays: Left Rotation\n",
    "#### problem : https://www.hackerrank.com/challenges/ctci-array-left-rotation/problem"
   ]
  },
  {
   "cell_type": "code",
   "execution_count": 15,
   "metadata": {},
   "outputs": [],
   "source": [
    "# solution\n",
    "\n",
    "def rotLeft(array, step):\n",
    "    new = array[step:]\n",
    "    new.extend(array[:step])\n",
    "    return new"
   ]
  },
  {
   "cell_type": "code",
   "execution_count": 16,
   "metadata": {},
   "outputs": [
    {
     "data": {
      "text/plain": [
       "[8, 53, 13, 93, 71, 72, 51, 100, 60, 87, 97, 33, 47, 70, 37]"
      ]
     },
     "execution_count": 16,
     "metadata": {},
     "output_type": "execute_result"
    }
   ],
   "source": [
    "rotLeft([33, 47, 70, 37, 8 ,53, 13, 93, 71, 72 ,51 ,100 ,60 ,87, 97],4)"
   ]
  },
  {
   "cell_type": "markdown",
   "metadata": {},
   "source": [
    "6 . \n",
    "problem : https://practice.geeksforgeeks.org/problems/remove-b-and-ac-from-a-given-string/0"
   ]
  },
  {
   "cell_type": "code",
   "execution_count": 26,
   "metadata": {},
   "outputs": [
    {
     "name": "stdout",
     "output_type": "stream",
     "text": [
      "bacaccazz\n",
      "cazz\n"
     ]
    }
   ],
   "source": [
    "# solution\n",
    "s = input()\n",
    "new = ''\n",
    "for i in range(len(s)):\n",
    "    if s[i] == 'b':\n",
    "        pass\n",
    "    elif s[i]=='c' and i!=0 and s[i-1]=='a':\n",
    "        pass\n",
    "    elif s[i] == 'a' and i!=len(s)-1 and s[i + 1] == 'c':\n",
    "        pass\n",
    "    else:\n",
    "        new += s[i]\n",
    "print(new)"
   ]
  },
  {
   "cell_type": "markdown",
   "metadata": {},
   "source": [
    "#### 6. String to number"
   ]
  },
  {
   "cell_type": "code",
   "execution_count": 18,
   "metadata": {},
   "outputs": [],
   "source": [
    "str_num='423'\n",
    "def str_to_int(str_num):\n",
    "    char_num_map={'0':0,'1':1,'2':2,'3':3,'4':4,'5':5,\n",
    "                 '6':6,'7':7,'8':8,'9':9}\n",
    "    num=0\n",
    "    for i in range(len(str_num)):\n",
    "        num+=char_num_map[str_num[i]]*10**(len(str_num)-i-1)\n",
    "    return num"
   ]
  },
  {
   "cell_type": "code",
   "execution_count": 19,
   "metadata": {},
   "outputs": [
    {
     "data": {
      "text/plain": [
       "1200"
      ]
     },
     "execution_count": 19,
     "metadata": {},
     "output_type": "execute_result"
    }
   ],
   "source": [
    "str_to_int('1230')-30"
   ]
  },
  {
   "cell_type": "markdown",
   "metadata": {},
   "source": [
    "#### 7. Write a program which will find all such numbers which are divisible by 7 but are not a multiple of 5,\n",
    "####    between 2000 and 3200 (both included).\n",
    "####    The numbers obtained should be printed in a comma-separated sequence on a single line."
   ]
  },
  {
   "cell_type": "code",
   "execution_count": 20,
   "metadata": {},
   "outputs": [
    {
     "name": "stdout",
     "output_type": "stream",
     "text": [
      "[2002, 2009, 2016, 2023, 2037, 2044, 2051, 2058, 2072, 2079, 2086, 2093, 2107, 2114, 2121, 2128, 2142, 2149, 2156, 2163, 2177, 2184, 2191, 2198, 2212, 2219, 2226, 2233, 2247, 2254, 2261, 2268, 2282, 2289, 2296, 2303, 2317, 2324, 2331, 2338, 2352, 2359, 2366, 2373, 2387, 2394, 2401, 2408, 2422, 2429, 2436, 2443, 2457, 2464, 2471, 2478, 2492, 2499, 2506, 2513, 2527, 2534, 2541, 2548, 2562, 2569, 2576, 2583, 2597, 2604, 2611, 2618, 2632, 2639, 2646, 2653, 2667, 2674, 2681, 2688, 2702, 2709, 2716, 2723, 2737, 2744, 2751, 2758, 2772, 2779, 2786, 2793, 2807, 2814, 2821, 2828, 2842, 2849, 2856, 2863, 2877, 2884, 2891, 2898, 2912, 2919, 2926, 2933, 2947, 2954, 2961, 2968, 2982, 2989, 2996, 3003, 3017, 3024, 3031, 3038, 3052, 3059, 3066, 3073, 3087, 3094, 3101, 3108, 3122, 3129, 3136, 3143, 3157, 3164, 3171, 3178, 3192, 3199]\n"
     ]
    }
   ],
   "source": [
    "l=[]\n",
    "for i in range(2000, 3201):\n",
    "    if (i%7==0) and (i%5!=0):\n",
    "        l.append(i)\n",
    "\n",
    "print(l)"
   ]
  },
  {
   "cell_type": "markdown",
   "metadata": {},
   "source": [
    "### Problem 8\n",
    "With a given integral number n, write a program to generate a dictionary that contains (i, i*i) such that is an integral number between 1 and n (both included). and then the program should print the dictionary.\n",
    "Suppose the following input is supplied to the program:\n",
    "8\n",
    "Then, the output should be:\n",
    "{1: 1, 2: 4, 3: 9, 4: 16, 5: 25, 6: 36, 7: 49, 8: 64}"
   ]
  },
  {
   "cell_type": "code",
   "execution_count": 21,
   "metadata": {},
   "outputs": [
    {
     "name": "stdout",
     "output_type": "stream",
     "text": [
      "4\n",
      "{1: 1, 2: 4, 3: 9, 4: 16}\n"
     ]
    }
   ],
   "source": [
    "n=int(input())\n",
    "d={}\n",
    "for i in range(1,n+1):\n",
    "    d[i]=i*i\n",
    "\n",
    "print (d)"
   ]
  },
  {
   "cell_type": "code",
   "execution_count": 22,
   "metadata": {},
   "outputs": [
    {
     "data": {
      "text/plain": [
       "16"
      ]
     },
     "execution_count": 22,
     "metadata": {},
     "output_type": "execute_result"
    }
   ],
   "source": [
    "d[4]"
   ]
  },
  {
   "cell_type": "markdown",
   "metadata": {},
   "source": [
    "### problem 9 \n",
    "write a python function that accepts an int as input and return its sum of digits"
   ]
  },
  {
   "cell_type": "code",
   "execution_count": 23,
   "metadata": {},
   "outputs": [],
   "source": [
    "def sum_digits(number):\n",
    "    sumd = 0\n",
    "    while(number != 0):\n",
    "        sumd += number % 10\n",
    "        number //= 10\n",
    "    return sumd"
   ]
  },
  {
   "cell_type": "code",
   "execution_count": 24,
   "metadata": {},
   "outputs": [
    {
     "data": {
      "text/plain": [
       "29"
      ]
     },
     "execution_count": 24,
     "metadata": {},
     "output_type": "execute_result"
    }
   ],
   "source": [
    "sum_digits(1230013559)"
   ]
  },
  {
   "cell_type": "markdown",
   "metadata": {},
   "source": [
    "quiz (1) \n",
    "\n",
    "write a python functions that receive a list and return a dictionary whose keys are list items and values are digits sum\n",
    ">\n",
    "quiz (2)\n",
    "\n",
    "Write a program that accepts a sentence and calculate the number of upper case letters and lower case letters.\n",
    "Suppose the following input is supplied to the program:\n",
    "Hello world!\n",
    "Then, the output should be:\n",
    "UPPER CASE 1\n",
    "LOWER CASE 9\n",
    ">\n",
    "quiz(3)\n",
    "\n",
    "Use a list comprehension to square each odd number in a list. The list is input by a sequence of comma-separated numbers.\n",
    "Suppose the following input is supplied to the program:\n",
    "1,2,3,4,5,6,7,8,9\n",
    "Then, the output should be:\n",
    "1,3,5,7,9\n",
    "\n",
    ">\n",
    "quiz (4)\n",
    "\n",
    "Assuming that we have some email addresses in the \"username@companyname.com\" format, please write program to print the company of a given email address. Both user names and company names are composed of letters only.\n",
    "\n",
    "Example:\n",
    "If the following email address is given as input to the program:\n",
    "\n",
    "john@google.com\n",
    "\n",
    "Then, the output of the program should be:\n",
    "\n",
    "google"
   ]
  }
 ],
 "metadata": {
  "kernelspec": {
   "display_name": "Python 3",
   "language": "python",
   "name": "python3"
  },
  "language_info": {
   "codemirror_mode": {
    "name": "ipython",
    "version": 3
   },
   "file_extension": ".py",
   "mimetype": "text/x-python",
   "name": "python",
   "nbconvert_exporter": "python",
   "pygments_lexer": "ipython3",
   "version": "3.6.9"
  }
 },
 "nbformat": 4,
 "nbformat_minor": 2
}
