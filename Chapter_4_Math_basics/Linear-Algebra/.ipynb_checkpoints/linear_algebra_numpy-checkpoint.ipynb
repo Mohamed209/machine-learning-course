{
 "cells": [
  {
   "cell_type": "code",
   "execution_count": 1,
   "metadata": {},
   "outputs": [],
   "source": [
    "import numpy as np\n",
    "from IPython.core.display import display"
   ]
  },
  {
   "cell_type": "code",
   "execution_count": 2,
   "metadata": {},
   "outputs": [
    {
     "data": {
      "text/plain": [
       "array([[ 1.37420646],\n",
       "       [ 0.88626313],\n",
       "       [-0.22320618],\n",
       "       [ 1.15361409],\n",
       "       [ 0.04274966]])"
      ]
     },
     "execution_count": 2,
     "metadata": {},
     "output_type": "execute_result"
    }
   ],
   "source": [
    "col_vector=np.array(np.random.randn(5)).reshape(-1,1)\n",
    "col_vector"
   ]
  },
  {
   "cell_type": "code",
   "execution_count": 3,
   "metadata": {},
   "outputs": [
    {
     "data": {
      "text/plain": [
       "array([[-2.26484374, -1.75470564, -0.19944291,  1.39676409, -1.07377721],\n",
       "       [-0.6935021 ,  0.1209477 , -1.77530088,  0.35021784, -0.11491052]])"
      ]
     },
     "execution_count": 3,
     "metadata": {},
     "output_type": "execute_result"
    }
   ],
   "source": [
    "matrixA=np.array(np.random.randn(10)).reshape(2,5)\n",
    "matrixA"
   ]
  },
  {
   "cell_type": "markdown",
   "metadata": {},
   "source": [
    "quiz : create 5*6 normally distributed random matrix"
   ]
  },
  {
   "cell_type": "code",
   "execution_count": 4,
   "metadata": {},
   "outputs": [
    {
     "data": {
      "text/plain": [
       "array([[[-1.00317026, -0.20485067,  0.3966548 ],\n",
       "        [-1.53092804, -0.76559896,  1.33671811],\n",
       "        [ 0.99645689,  0.02325152, -0.66311863],\n",
       "        ...,\n",
       "        [ 0.22469741,  0.48706767,  1.17278432],\n",
       "        [ 0.12967232,  2.13655749, -0.2636143 ],\n",
       "        [ 0.8835022 , -0.25548535, -0.28221734]],\n",
       "\n",
       "       [[ 0.02584535, -0.12867164, -0.50716984],\n",
       "        [ 0.42743577, -0.86937653,  1.15228526],\n",
       "        [-1.32864586, -0.80559272,  1.8181474 ],\n",
       "        ...,\n",
       "        [-0.93786158,  1.08044103, -2.43817341],\n",
       "        [ 0.46173975,  3.07147387,  0.12411294],\n",
       "        [-0.1872489 , -1.51845536, -1.27462962]],\n",
       "\n",
       "       [[ 0.24824384, -0.6430825 , -0.31051021],\n",
       "        [-0.1590827 ,  0.36325163, -0.45829582],\n",
       "        [-0.36991373,  0.38346617,  1.08056177],\n",
       "        ...,\n",
       "        [ 1.00296356, -1.53441906, -1.22498249],\n",
       "        [ 1.96139812,  1.85190614,  0.07072423],\n",
       "        [ 0.63954374,  0.2487828 ,  0.95386165]],\n",
       "\n",
       "       ...,\n",
       "\n",
       "       [[ 1.712574  , -0.0414579 ,  1.70445555],\n",
       "        [ 1.38262828, -0.53156274,  0.28535404],\n",
       "        [-0.42344292,  0.89951831, -0.95636822],\n",
       "        ...,\n",
       "        [-1.26558835, -0.75715   ,  1.31754541],\n",
       "        [-0.33730112, -1.48323344, -0.54709685],\n",
       "        [ 0.13671557, -1.10833086, -1.57025899]],\n",
       "\n",
       "       [[ 0.64922101, -1.21455388,  0.5994837 ],\n",
       "        [-1.05395897, -1.30370328,  0.53949975],\n",
       "        [ 2.1996532 , -0.27810393, -0.37382289],\n",
       "        ...,\n",
       "        [ 0.15289279, -0.69573461,  1.93430832],\n",
       "        [ 1.24362325,  0.36857599, -0.09230391],\n",
       "        [-0.05645601,  0.34284106, -0.99092673]],\n",
       "\n",
       "       [[-0.63077731,  0.06506939, -0.25191702],\n",
       "        [-0.77295953,  2.05835684, -0.92093362],\n",
       "        [ 0.19928314,  1.40051532,  1.7456332 ],\n",
       "        ...,\n",
       "        [-0.63189724,  2.55002003, -0.02220524],\n",
       "        [-0.46908105,  1.42437223,  2.01033292],\n",
       "        [-0.29135124,  1.14689303,  0.21441195]]])"
      ]
     },
     "execution_count": 4,
     "metadata": {},
     "output_type": "execute_result"
    }
   ],
   "source": [
    "tensorA=np.array(np.random.randn(1200)).reshape(20,20,3)\n",
    "tensorA"
   ]
  },
  {
   "cell_type": "markdown",
   "metadata": {},
   "source": [
    "### Matrix Operations"
   ]
  },
  {
   "cell_type": "code",
   "execution_count": 5,
   "metadata": {},
   "outputs": [
    {
     "data": {
      "text/plain": [
       "'matrixA transpose'"
      ]
     },
     "metadata": {},
     "output_type": "display_data"
    },
    {
     "data": {
      "text/plain": [
       "array([[-2.26484374, -0.6935021 ],\n",
       "       [-1.75470564,  0.1209477 ],\n",
       "       [-0.19944291, -1.77530088],\n",
       "       [ 1.39676409,  0.35021784],\n",
       "       [-1.07377721, -0.11491052]])"
      ]
     },
     "metadata": {},
     "output_type": "display_data"
    },
    {
     "name": "stdout",
     "output_type": "stream",
     "text": [
      "*****************************************\n"
     ]
    },
    {
     "data": {
      "text/plain": [
       "'matrixA plus 10 element wise'"
      ]
     },
     "metadata": {},
     "output_type": "display_data"
    },
    {
     "data": {
      "text/plain": [
       "array([[ 7.73515626,  8.24529436,  9.80055709, 11.39676409,  8.92622279],\n",
       "       [ 9.3064979 , 10.1209477 ,  8.22469912, 10.35021784,  9.88508948]])"
      ]
     },
     "metadata": {},
     "output_type": "display_data"
    },
    {
     "name": "stdout",
     "output_type": "stream",
     "text": [
      "*****************************************\n"
     ]
    },
    {
     "data": {
      "text/plain": [
       "'X'"
      ]
     },
     "metadata": {},
     "output_type": "display_data"
    },
    {
     "data": {
      "text/plain": [
       "array([[6, 8, 6, 2],\n",
       "       [3, 1, 6, 2],\n",
       "       [4, 3, 2, 2],\n",
       "       [5, 8, 8, 6]])"
      ]
     },
     "metadata": {},
     "output_type": "display_data"
    },
    {
     "data": {
      "text/plain": [
       "'Y'"
      ]
     },
     "metadata": {},
     "output_type": "display_data"
    },
    {
     "data": {
      "text/plain": [
       "array([[6, 4, 3, 4],\n",
       "       [1, 3, 6, 2],\n",
       "       [6, 1, 7, 5],\n",
       "       [5, 3, 2, 9]])"
      ]
     },
     "metadata": {},
     "output_type": "display_data"
    },
    {
     "data": {
      "text/plain": [
       "'X+Y'"
      ]
     },
     "metadata": {},
     "output_type": "display_data"
    },
    {
     "data": {
      "text/plain": [
       "array([[12, 12,  9,  6],\n",
       "       [ 4,  4, 12,  4],\n",
       "       [10,  4,  9,  7],\n",
       "       [10, 11, 10, 15]])"
      ]
     },
     "metadata": {},
     "output_type": "display_data"
    },
    {
     "name": "stdout",
     "output_type": "stream",
     "text": [
      "*****************************************\n"
     ]
    }
   ],
   "source": [
    "# 1. matrix transpose\n",
    "display('matrixA transpose',np.transpose(matrixA))\n",
    "print('*****************************************')\n",
    "# 2. add scaler to matrix element wise\n",
    "display('matrixA plus 10 element wise',matrixA+10)\n",
    "print('*****************************************')\n",
    "# 3 add matrix to matrix element wise\n",
    "X=np.array(np.random.randint(low=1,high=10,size=(4,4)))\n",
    "display('X',X)\n",
    "Y=np.array(np.random.randint(low=1,high=10,size=(4,4)))\n",
    "display('Y',Y)\n",
    "display('X+Y',X+Y)\n",
    "print('*****************************************')"
   ]
  },
  {
   "cell_type": "markdown",
   "metadata": {},
   "source": [
    "### Multiplying matrices and vectors\n",
    "https://mathinsight.org/matrix_vector_multiplication"
   ]
  },
  {
   "cell_type": "code",
   "execution_count": 6,
   "metadata": {},
   "outputs": [
    {
     "data": {
      "text/plain": [
       "'M1'"
      ]
     },
     "metadata": {},
     "output_type": "display_data"
    },
    {
     "data": {
      "text/plain": [
       "array([[1, 2, 7, 1],\n",
       "       [8, 7, 8, 4]])"
      ]
     },
     "metadata": {},
     "output_type": "display_data"
    },
    {
     "data": {
      "text/plain": [
       "'M1 shape'"
      ]
     },
     "metadata": {},
     "output_type": "display_data"
    },
    {
     "data": {
      "text/plain": [
       "(2, 4)"
      ]
     },
     "metadata": {},
     "output_type": "display_data"
    },
    {
     "data": {
      "text/plain": [
       "'V1'"
      ]
     },
     "metadata": {},
     "output_type": "display_data"
    },
    {
     "data": {
      "text/plain": [
       "array([[1],\n",
       "       [6],\n",
       "       [2],\n",
       "       [5]])"
      ]
     },
     "metadata": {},
     "output_type": "display_data"
    },
    {
     "data": {
      "text/plain": [
       "'V1 shape'"
      ]
     },
     "metadata": {},
     "output_type": "display_data"
    },
    {
     "data": {
      "text/plain": [
       "(4, 1)"
      ]
     },
     "metadata": {},
     "output_type": "display_data"
    },
    {
     "data": {
      "text/plain": [
       "'V1 * M1'"
      ]
     },
     "metadata": {},
     "output_type": "display_data"
    },
    {
     "data": {
      "text/plain": [
       "array([[32],\n",
       "       [86]])"
      ]
     },
     "metadata": {},
     "output_type": "display_data"
    }
   ],
   "source": [
    "M1=np.array(np.random.randint(low=1,high=10,size=(2,4)))\n",
    "display('M1',M1,'M1 shape',M1.shape)\n",
    "V1=np.array(np.random.randint(low=1,high=10,size=(4,1)))\n",
    "display('V1',V1,'V1 shape',V1.shape)\n",
    "display('V1 * M1',np.matmul(M1,V1))"
   ]
  },
  {
   "cell_type": "markdown",
   "metadata": {},
   "source": [
    "## matrix by matrix"
   ]
  },
  {
   "cell_type": "code",
   "execution_count": 7,
   "metadata": {},
   "outputs": [
    {
     "data": {
      "text/plain": [
       "'M2'"
      ]
     },
     "metadata": {},
     "output_type": "display_data"
    },
    {
     "data": {
      "text/plain": [
       "array([[5, 6, 9, 1],\n",
       "       [6, 9, 7, 8]])"
      ]
     },
     "metadata": {},
     "output_type": "display_data"
    },
    {
     "data": {
      "text/plain": [
       "'M2 shape'"
      ]
     },
     "metadata": {},
     "output_type": "display_data"
    },
    {
     "data": {
      "text/plain": [
       "(2, 4)"
      ]
     },
     "metadata": {},
     "output_type": "display_data"
    },
    {
     "data": {
      "text/plain": [
       "'M2'"
      ]
     },
     "metadata": {},
     "output_type": "display_data"
    },
    {
     "data": {
      "text/plain": [
       "array([[5, 6, 9, 1],\n",
       "       [6, 9, 7, 8]])"
      ]
     },
     "metadata": {},
     "output_type": "display_data"
    },
    {
     "data": {
      "text/plain": [
       "'M2 shape'"
      ]
     },
     "metadata": {},
     "output_type": "display_data"
    },
    {
     "data": {
      "text/plain": [
       "(2, 4)"
      ]
     },
     "metadata": {},
     "output_type": "display_data"
    },
    {
     "data": {
      "text/plain": [
       "'V1 * M1'"
      ]
     },
     "metadata": {},
     "output_type": "display_data"
    },
    {
     "data": {
      "text/plain": [
       "array([[ 97, 109],\n",
       "       [162, 143]])"
      ]
     },
     "metadata": {},
     "output_type": "display_data"
    }
   ],
   "source": [
    "M2=np.array(np.random.randint(low=1,high=10,size=(2,4)))\n",
    "display('M2',M2,'M2 shape',M2.shape)\n",
    "M3=np.array(np.random.randint(low=1,high=10,size=(4,2)))\n",
    "display('M2',M2,'M2 shape',M2.shape)\n",
    "display('V1 * M1',np.matmul(M2,M3))"
   ]
  },
  {
   "cell_type": "markdown",
   "metadata": {},
   "source": [
    "## Matrix inverse"
   ]
  },
  {
   "cell_type": "code",
   "execution_count": 15,
   "metadata": {},
   "outputs": [
    {
     "data": {
      "text/plain": [
       "'x'"
      ]
     },
     "metadata": {},
     "output_type": "display_data"
    },
    {
     "data": {
      "text/plain": [
       "array([[1, 2],\n",
       "       [3, 4]])"
      ]
     },
     "metadata": {},
     "output_type": "display_data"
    },
    {
     "data": {
      "text/plain": [
       "'x inverse'"
      ]
     },
     "metadata": {},
     "output_type": "display_data"
    },
    {
     "data": {
      "text/plain": [
       "array([[-2. ,  1. ],\n",
       "       [ 1.5, -0.5]])"
      ]
     },
     "metadata": {},
     "output_type": "display_data"
    },
    {
     "data": {
      "text/plain": [
       "'x * x inverse'"
      ]
     },
     "metadata": {},
     "output_type": "display_data"
    },
    {
     "data": {
      "text/plain": [
       "array([[1.0000000e+00, 0.0000000e+00],\n",
       "       [8.8817842e-16, 1.0000000e+00]])"
      ]
     },
     "metadata": {},
     "output_type": "display_data"
    }
   ],
   "source": [
    "x = np.array([[1,2],[3,4]],dtype=np.int) \n",
    "y = np.linalg.inv(x) \n",
    "display('x',x) \n",
    "display('x inverse',y) \n",
    "display('x * x inverse',np.matmul(x,y))"
   ]
  },
  {
   "cell_type": "markdown",
   "metadata": {},
   "source": [
    "## Vector norm\n",
    "\n",
    "Sometimes we need to measure the size (magnitude) of a vector. In machine learning, we usuallymeasure the size of vectors using a function called anorm"
   ]
  },
  {
   "cell_type": "code",
   "execution_count": 27,
   "metadata": {},
   "outputs": [
    {
     "data": {
      "text/plain": [
       "'vector'"
      ]
     },
     "metadata": {},
     "output_type": "display_data"
    },
    {
     "data": {
      "text/plain": [
       "array([[37],\n",
       "       [10]])"
      ]
     },
     "metadata": {},
     "output_type": "display_data"
    },
    {
     "data": {
      "text/plain": [
       "'norm'"
      ]
     },
     "metadata": {},
     "output_type": "display_data"
    },
    {
     "data": {
      "text/plain": [
       "38.3275357934736"
      ]
     },
     "metadata": {},
     "output_type": "display_data"
    },
    {
     "name": "stdout",
     "output_type": "stream",
     "text": [
      "*****************************************\n"
     ]
    },
    {
     "data": {
      "text/plain": [
       "'vector'"
      ]
     },
     "metadata": {},
     "output_type": "display_data"
    },
    {
     "data": {
      "text/plain": [
       "array([[12],\n",
       "       [44],\n",
       "       [16]])"
      ]
     },
     "metadata": {},
     "output_type": "display_data"
    },
    {
     "data": {
      "text/plain": [
       "'norm'"
      ]
     },
     "metadata": {},
     "output_type": "display_data"
    },
    {
     "data": {
      "text/plain": [
       "48.33218389437829"
      ]
     },
     "metadata": {},
     "output_type": "display_data"
    }
   ],
   "source": [
    "v=np.array(np.random.randint(low=0,high=50,size=(2,1))) # Euclidean norm\n",
    "display('vector',v,'norm',np.linalg.norm(v))\n",
    "print('*****************************************')\n",
    "v2=np.array(np.random.randint(low=0,high=50,size=(3,1)))\n",
    "display('vector',v2,'norm',np.linalg.norm(v2))"
   ]
  },
  {
   "cell_type": "code",
   "execution_count": null,
   "metadata": {},
   "outputs": [],
   "source": []
  },
  {
   "cell_type": "code",
   "execution_count": null,
   "metadata": {},
   "outputs": [],
   "source": []
  }
 ],
 "metadata": {
  "kernelspec": {
   "display_name": "Python 3",
   "language": "python",
   "name": "python3"
  },
  "language_info": {
   "codemirror_mode": {
    "name": "ipython",
    "version": 3
   },
   "file_extension": ".py",
   "mimetype": "text/x-python",
   "name": "python",
   "nbconvert_exporter": "python",
   "pygments_lexer": "ipython3",
   "version": "3.6.8"
  }
 },
 "nbformat": 4,
 "nbformat_minor": 2
}
