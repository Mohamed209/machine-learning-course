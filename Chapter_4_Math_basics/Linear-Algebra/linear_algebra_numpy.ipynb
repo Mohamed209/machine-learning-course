{
 "cells": [
  {
   "cell_type": "code",
   "execution_count": 1,
   "metadata": {},
   "outputs": [],
   "source": [
    "import numpy as np\n",
    "from IPython.core.display import display"
   ]
  },
  {
   "cell_type": "code",
   "execution_count": 2,
   "metadata": {},
   "outputs": [
    {
     "data": {
      "text/plain": [
       "array([[-0.15419724],\n",
       "       [-0.12374509],\n",
       "       [ 0.44485891],\n",
       "       [ 0.58407357],\n",
       "       [-0.78578741]])"
      ]
     },
     "execution_count": 2,
     "metadata": {},
     "output_type": "execute_result"
    }
   ],
   "source": [
    "col_vector=np.array(np.random.randn(5)).reshape(-1,1)\n",
    "col_vector"
   ]
  },
  {
   "cell_type": "code",
   "execution_count": 3,
   "metadata": {},
   "outputs": [
    {
     "data": {
      "text/plain": [
       "array([[-1.07546657, -1.76510942,  0.54251026, -1.61181762, -0.66600756],\n",
       "       [-0.85674908,  1.74351943,  2.08690698, -0.97040685,  0.10933447]])"
      ]
     },
     "execution_count": 3,
     "metadata": {},
     "output_type": "execute_result"
    }
   ],
   "source": [
    "matrixA=np.array(np.random.randn(10)).reshape(2,5)\n",
    "matrixA"
   ]
  },
  {
   "cell_type": "markdown",
   "metadata": {},
   "source": [
    "quiz : create 5*6 normally distributed random matrix"
   ]
  },
  {
   "cell_type": "code",
   "execution_count": 4,
   "metadata": {},
   "outputs": [
    {
     "data": {
      "text/plain": [
       "array([[[ 0.43426807,  1.44830168, -1.64554765],\n",
       "        [ 0.16460869,  0.72056185, -0.55033517],\n",
       "        [ 0.58720926,  1.236567  ,  1.01639729],\n",
       "        ...,\n",
       "        [-1.55858799,  0.3576021 ,  1.03296574],\n",
       "        [-1.57451514, -1.1785179 ,  0.71262467],\n",
       "        [ 0.8974751 , -0.01787138, -2.21053222]],\n",
       "\n",
       "       [[ 1.62500086,  1.35918897, -0.73511914],\n",
       "        [-0.05655172, -0.48086408,  0.72719168],\n",
       "        [-1.33833654,  0.19078875, -0.15494283],\n",
       "        ...,\n",
       "        [-0.12861112,  0.60882558,  0.85754825],\n",
       "        [-2.12987202,  0.77183696,  0.26675549],\n",
       "        [-2.0972399 , -1.08813405,  0.37825299]],\n",
       "\n",
       "       [[-0.60192483,  0.27502373, -0.33251479],\n",
       "        [ 0.0414718 ,  1.31769981, -1.68442788],\n",
       "        [-0.50740596,  1.26901824, -0.29629078],\n",
       "        ...,\n",
       "        [-0.38299458, -0.40498631,  0.43344005],\n",
       "        [ 0.09832888,  0.9113714 ,  0.14219581],\n",
       "        [ 0.16187851, -0.58629811,  0.66927112]],\n",
       "\n",
       "       ...,\n",
       "\n",
       "       [[ 2.05039958,  1.31914518,  1.18258582],\n",
       "        [ 0.8034749 ,  0.71800475, -0.56575821],\n",
       "        [ 0.64792613,  1.09938774, -0.75216592],\n",
       "        ...,\n",
       "        [-0.1561699 ,  1.98399056, -0.86967425],\n",
       "        [ 1.07990965,  0.8276591 , -0.21548156],\n",
       "        [ 2.02873996,  0.04272362, -1.18295913]],\n",
       "\n",
       "       [[ 0.66601969, -0.58929054, -0.87604775],\n",
       "        [-1.31936176, -1.92826413,  0.03883803],\n",
       "        [ 0.69595521,  1.35236944,  1.65946939],\n",
       "        ...,\n",
       "        [-0.11349906,  0.37143678,  0.12396823],\n",
       "        [ 0.55301601,  0.2194629 ,  0.97533557],\n",
       "        [-0.42538197,  2.18068506,  0.40553372]],\n",
       "\n",
       "       [[-0.00276515, -1.94127308, -1.2794698 ],\n",
       "        [-0.32210366, -1.53656441, -0.55188499],\n",
       "        [ 1.26670046, -2.02481596, -0.30367038],\n",
       "        ...,\n",
       "        [-0.69320826, -1.27980807,  0.38754944],\n",
       "        [-0.62057875,  0.19204587,  0.22688499],\n",
       "        [-1.49673551, -0.47479387, -0.58429956]]])"
      ]
     },
     "execution_count": 4,
     "metadata": {},
     "output_type": "execute_result"
    }
   ],
   "source": [
    "tensorA=np.array(np.random.randn(1200)).reshape(20,20,3)\n",
    "tensorA"
   ]
  },
  {
   "cell_type": "markdown",
   "metadata": {},
   "source": [
    "### Matrix Operations"
   ]
  },
  {
   "cell_type": "code",
   "execution_count": 5,
   "metadata": {},
   "outputs": [
    {
     "data": {
      "text/plain": [
       "'matrixA transpose'"
      ]
     },
     "metadata": {},
     "output_type": "display_data"
    },
    {
     "data": {
      "text/plain": [
       "array([[-1.07546657, -0.85674908],\n",
       "       [-1.76510942,  1.74351943],\n",
       "       [ 0.54251026,  2.08690698],\n",
       "       [-1.61181762, -0.97040685],\n",
       "       [-0.66600756,  0.10933447]])"
      ]
     },
     "metadata": {},
     "output_type": "display_data"
    },
    {
     "name": "stdout",
     "output_type": "stream",
     "text": [
      "*****************************************\n"
     ]
    },
    {
     "data": {
      "text/plain": [
       "'matrixA plus 10 element wise'"
      ]
     },
     "metadata": {},
     "output_type": "display_data"
    },
    {
     "data": {
      "text/plain": [
       "array([[ 8.92453343,  8.23489058, 10.54251026,  8.38818238,  9.33399244],\n",
       "       [ 9.14325092, 11.74351943, 12.08690698,  9.02959315, 10.10933447]])"
      ]
     },
     "metadata": {},
     "output_type": "display_data"
    },
    {
     "name": "stdout",
     "output_type": "stream",
     "text": [
      "*****************************************\n"
     ]
    },
    {
     "data": {
      "text/plain": [
       "'X'"
      ]
     },
     "metadata": {},
     "output_type": "display_data"
    },
    {
     "data": {
      "text/plain": [
       "array([[7, 8, 5, 8],\n",
       "       [6, 9, 9, 2],\n",
       "       [3, 6, 7, 9],\n",
       "       [6, 2, 4, 7]])"
      ]
     },
     "metadata": {},
     "output_type": "display_data"
    },
    {
     "data": {
      "text/plain": [
       "'Y'"
      ]
     },
     "metadata": {},
     "output_type": "display_data"
    },
    {
     "data": {
      "text/plain": [
       "array([[9, 5, 1, 6],\n",
       "       [9, 4, 4, 1],\n",
       "       [9, 4, 4, 8],\n",
       "       [6, 4, 5, 6]])"
      ]
     },
     "metadata": {},
     "output_type": "display_data"
    },
    {
     "data": {
      "text/plain": [
       "'X+Y'"
      ]
     },
     "metadata": {},
     "output_type": "display_data"
    },
    {
     "data": {
      "text/plain": [
       "array([[16, 13,  6, 14],\n",
       "       [15, 13, 13,  3],\n",
       "       [12, 10, 11, 17],\n",
       "       [12,  6,  9, 13]])"
      ]
     },
     "metadata": {},
     "output_type": "display_data"
    },
    {
     "name": "stdout",
     "output_type": "stream",
     "text": [
      "*****************************************\n"
     ]
    }
   ],
   "source": [
    "# 1. matrix transpose\n",
    "display('matrixA transpose',np.transpose(matrixA))\n",
    "print('*****************************************')\n",
    "# 2. add scaler to matrix element wise\n",
    "display('matrixA plus 10 element wise',matrixA+10)\n",
    "print('*****************************************')\n",
    "# 3 add matrix to matrix element wise\n",
    "X=np.array(np.random.randint(low=1,high=10,size=(4,4)))\n",
    "display('X',X)\n",
    "Y=np.array(np.random.randint(low=1,high=10,size=(4,4)))\n",
    "display('Y',Y)\n",
    "display('X+Y',X+Y)\n",
    "print('*****************************************')"
   ]
  },
  {
   "cell_type": "markdown",
   "metadata": {},
   "source": [
    "### Multiplying matrices and vectors\n",
    "https://mathinsight.org/matrix_vector_multiplication"
   ]
  },
  {
   "cell_type": "code",
   "execution_count": 6,
   "metadata": {},
   "outputs": [
    {
     "data": {
      "text/plain": [
       "'M1'"
      ]
     },
     "metadata": {},
     "output_type": "display_data"
    },
    {
     "data": {
      "text/plain": [
       "array([[8, 1, 1, 1],\n",
       "       [6, 2, 2, 4]])"
      ]
     },
     "metadata": {},
     "output_type": "display_data"
    },
    {
     "data": {
      "text/plain": [
       "'M1 shape'"
      ]
     },
     "metadata": {},
     "output_type": "display_data"
    },
    {
     "data": {
      "text/plain": [
       "(2, 4)"
      ]
     },
     "metadata": {},
     "output_type": "display_data"
    },
    {
     "data": {
      "text/plain": [
       "'V1'"
      ]
     },
     "metadata": {},
     "output_type": "display_data"
    },
    {
     "data": {
      "text/plain": [
       "array([[6],\n",
       "       [6],\n",
       "       [4],\n",
       "       [6]])"
      ]
     },
     "metadata": {},
     "output_type": "display_data"
    },
    {
     "data": {
      "text/plain": [
       "'V1 shape'"
      ]
     },
     "metadata": {},
     "output_type": "display_data"
    },
    {
     "data": {
      "text/plain": [
       "(4, 1)"
      ]
     },
     "metadata": {},
     "output_type": "display_data"
    },
    {
     "data": {
      "text/plain": [
       "'V1 * M1'"
      ]
     },
     "metadata": {},
     "output_type": "display_data"
    },
    {
     "data": {
      "text/plain": [
       "array([[64],\n",
       "       [80]])"
      ]
     },
     "metadata": {},
     "output_type": "display_data"
    }
   ],
   "source": [
    "M1=np.array(np.random.randint(low=1,high=10,size=(2,4)))\n",
    "display('M1',M1,'M1 shape',M1.shape)\n",
    "V1=np.array(np.random.randint(low=1,high=10,size=(4,1)))\n",
    "display('V1',V1,'V1 shape',V1.shape)\n",
    "display('V1 * M1',np.matmul(M1,V1))"
   ]
  },
  {
   "cell_type": "markdown",
   "metadata": {},
   "source": [
    "## matrix by matrix"
   ]
  },
  {
   "cell_type": "code",
   "execution_count": 7,
   "metadata": {},
   "outputs": [
    {
     "data": {
      "text/plain": [
       "'M2'"
      ]
     },
     "metadata": {},
     "output_type": "display_data"
    },
    {
     "data": {
      "text/plain": [
       "array([[4, 8, 6, 5],\n",
       "       [5, 5, 3, 6]])"
      ]
     },
     "metadata": {},
     "output_type": "display_data"
    },
    {
     "data": {
      "text/plain": [
       "'M2 shape'"
      ]
     },
     "metadata": {},
     "output_type": "display_data"
    },
    {
     "data": {
      "text/plain": [
       "(2, 4)"
      ]
     },
     "metadata": {},
     "output_type": "display_data"
    },
    {
     "data": {
      "text/plain": [
       "'M2'"
      ]
     },
     "metadata": {},
     "output_type": "display_data"
    },
    {
     "data": {
      "text/plain": [
       "array([[4, 8, 6, 5],\n",
       "       [5, 5, 3, 6]])"
      ]
     },
     "metadata": {},
     "output_type": "display_data"
    },
    {
     "data": {
      "text/plain": [
       "'M2 shape'"
      ]
     },
     "metadata": {},
     "output_type": "display_data"
    },
    {
     "data": {
      "text/plain": [
       "(2, 4)"
      ]
     },
     "metadata": {},
     "output_type": "display_data"
    },
    {
     "data": {
      "text/plain": [
       "'V1 * M1'"
      ]
     },
     "metadata": {},
     "output_type": "display_data"
    },
    {
     "data": {
      "text/plain": [
       "array([[ 97, 187],\n",
       "       [ 77, 160]])"
      ]
     },
     "metadata": {},
     "output_type": "display_data"
    }
   ],
   "source": [
    "M2=np.array(np.random.randint(low=1,high=10,size=(2,4)))\n",
    "display('M2',M2,'M2 shape',M2.shape)\n",
    "M3=np.array(np.random.randint(low=1,high=10,size=(4,2)))\n",
    "display('M2',M2,'M2 shape',M2.shape)\n",
    "display('V1 * M1',np.matmul(M2,M3))"
   ]
  },
  {
   "cell_type": "markdown",
   "metadata": {},
   "source": [
    "## Matrix inverse"
   ]
  },
  {
   "cell_type": "code",
   "execution_count": 8,
   "metadata": {},
   "outputs": [
    {
     "data": {
      "text/plain": [
       "'x'"
      ]
     },
     "metadata": {},
     "output_type": "display_data"
    },
    {
     "data": {
      "text/plain": [
       "array([[1, 2],\n",
       "       [3, 4]])"
      ]
     },
     "metadata": {},
     "output_type": "display_data"
    },
    {
     "data": {
      "text/plain": [
       "'x inverse'"
      ]
     },
     "metadata": {},
     "output_type": "display_data"
    },
    {
     "data": {
      "text/plain": [
       "array([[-2. ,  1. ],\n",
       "       [ 1.5, -0.5]])"
      ]
     },
     "metadata": {},
     "output_type": "display_data"
    },
    {
     "data": {
      "text/plain": [
       "'x * x inverse'"
      ]
     },
     "metadata": {},
     "output_type": "display_data"
    },
    {
     "data": {
      "text/plain": [
       "array([[1.0000000e+00, 0.0000000e+00],\n",
       "       [8.8817842e-16, 1.0000000e+00]])"
      ]
     },
     "metadata": {},
     "output_type": "display_data"
    }
   ],
   "source": [
    "x = np.array([[1,2],[3,4]],dtype=np.int) \n",
    "y = np.linalg.inv(x) \n",
    "display('x',x) \n",
    "display('x inverse',y) \n",
    "display('x * x inverse',np.matmul(x,y))"
   ]
  },
  {
   "cell_type": "markdown",
   "metadata": {},
   "source": [
    "## Vector norm\n",
    "\n",
    "Sometimes we need to measure the size (magnitude) of a vector. In machine learning, we usuallymeasure the size of vectors using a function called anorm"
   ]
  },
  {
   "cell_type": "code",
   "execution_count": 9,
   "metadata": {},
   "outputs": [
    {
     "data": {
      "text/plain": [
       "'vector'"
      ]
     },
     "metadata": {},
     "output_type": "display_data"
    },
    {
     "data": {
      "text/plain": [
       "array([[25],\n",
       "       [20]])"
      ]
     },
     "metadata": {},
     "output_type": "display_data"
    },
    {
     "data": {
      "text/plain": [
       "'norm'"
      ]
     },
     "metadata": {},
     "output_type": "display_data"
    },
    {
     "data": {
      "text/plain": [
       "32.01562118716424"
      ]
     },
     "metadata": {},
     "output_type": "display_data"
    },
    {
     "name": "stdout",
     "output_type": "stream",
     "text": [
      "*****************************************\n"
     ]
    },
    {
     "data": {
      "text/plain": [
       "'vector'"
      ]
     },
     "metadata": {},
     "output_type": "display_data"
    },
    {
     "data": {
      "text/plain": [
       "array([[15],\n",
       "       [32],\n",
       "       [12]])"
      ]
     },
     "metadata": {},
     "output_type": "display_data"
    },
    {
     "data": {
      "text/plain": [
       "'norm'"
      ]
     },
     "metadata": {},
     "output_type": "display_data"
    },
    {
     "data": {
      "text/plain": [
       "37.322915213043046"
      ]
     },
     "metadata": {},
     "output_type": "display_data"
    }
   ],
   "source": [
    "v=np.array(np.random.randint(low=0,high=50,size=(2,1))) # Euclidean norm\n",
    "display('vector',v,'norm',np.linalg.norm(v))\n",
    "print('*****************************************')\n",
    "v2=np.array(np.random.randint(low=0,high=50,size=(3,1)))\n",
    "display('vector',v2,'norm',np.linalg.norm(v2))"
   ]
  },
  {
   "cell_type": "markdown",
   "metadata": {},
   "source": [
    "## Notes"
   ]
  },
  {
   "cell_type": "markdown",
   "metadata": {},
   "source": [
    "#### A symmetric matrix is any matrix that is equal to its own transpose:\n",
    "\n",
    "#### $ A = A^T $"
   ]
  },
  {
   "cell_type": "markdown",
   "metadata": {},
   "source": [
    "#### A unit vector is a vector with unit norm :\n",
    "\n",
    "$||x||_2=1$ "
   ]
  },
  {
   "cell_type": "markdown",
   "metadata": {},
   "source": [
    "#### A vector $x$ and a vector $y$ are orthogonal to each other if $x^Ty=0$ "
   ]
  },
  {
   "cell_type": "markdown",
   "metadata": {},
   "source": [
    "### Eigendecomposition\n",
    "\n",
    "Many mathematical objects can be understood better by breaking them int oconstituent parts, or ﬁnding some properties of them that are universal, not causedby the way we choose to represent them.For example, integers can be decomposed into prime factors. The way werepresent the number 12 will change depending on whether we write it in base ten or in binary, but it will always be true that 12 = 2×2×3. From this representation we can conclude useful properties, for example, that 12 is not divisible by 5, and that any integer multiple of 12 will be divisible by 3.Much as we can discover something about the true nature of an integer bydecomposing it into prime factors, we can also decompose matrices in ways that show us information about their functional properties that is not obvious from the representation of the matrix as an array of elements.One of the most widely used kinds of matrix decomposition is called eigen-decomposition, in which we decompose a matrix into a set of eigenvectors andeigenvalues.\n",
    "\n",
    "an eigenvector of a square matrix $A$ is a nonzero vector $v$ such that multi-plication by $A$ alters only the scale of $v$\n",
    "### $ A v=\\lambda v $\n"
   ]
  },
  {
   "cell_type": "code",
   "execution_count": 11,
   "metadata": {},
   "outputs": [
    {
     "data": {
      "text/plain": [
       "'eign values'"
      ]
     },
     "metadata": {},
     "output_type": "display_data"
    },
    {
     "data": {
      "text/plain": [
       "array([ 4.31662479e+00, -2.31662479e+00,  1.93041509e-17])"
      ]
     },
     "metadata": {},
     "output_type": "display_data"
    },
    {
     "data": {
      "text/plain": [
       "'eign vectors'"
      ]
     },
     "metadata": {},
     "output_type": "display_data"
    },
    {
     "data": {
      "text/plain": [
       "array([[ 0.58428153,  0.73595785,  0.40824829],\n",
       "       [ 0.80407569, -0.38198836, -0.81649658],\n",
       "       [ 0.10989708, -0.55897311,  0.40824829]])"
      ]
     },
     "metadata": {},
     "output_type": "display_data"
    }
   ],
   "source": [
    "from numpy import linalg as LA\n",
    "A = np.array([[1,2,3],[3,2,1],[1,0,-1]])\n",
    "eigvalues, eigvectors = LA.eig(A)\n",
    "display('eign values',eigvalues,'eign vectors',eigvectors)"
   ]
  },
  {
   "cell_type": "code",
   "execution_count": null,
   "metadata": {},
   "outputs": [],
   "source": []
  }
 ],
 "metadata": {
  "kernelspec": {
   "display_name": "Python 3",
   "language": "python",
   "name": "python3"
  },
  "language_info": {
   "codemirror_mode": {
    "name": "ipython",
    "version": 3
   },
   "file_extension": ".py",
   "mimetype": "text/x-python",
   "name": "python",
   "nbconvert_exporter": "python",
   "pygments_lexer": "ipython3",
   "version": "3.6.8"
  }
 },
 "nbformat": 4,
 "nbformat_minor": 2
}
